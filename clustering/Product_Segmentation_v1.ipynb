{
  "cells": [
    {
      "cell_type": "markdown",
      "metadata": {
        "id": "view-in-github",
        "colab_type": "text"
      },
      "source": [
        "<a href=\"https://colab.research.google.com/github/remixwithkj/Backupmac/blob/main/clustering/Product_Segmentation_v1.ipynb\" target=\"_parent\"><img src=\"https://colab.research.google.com/assets/colab-badge.svg\" alt=\"Open In Colab\"/></a>"
      ]
    },
    {
      "cell_type": "markdown",
      "metadata": {
        "id": "DyoFmi8VQXqz"
      },
      "source": [
        "# Product Segmentation"
      ]
    },
    {
      "cell_type": "code",
      "execution_count": null,
      "metadata": {
        "id": "LIh7KZ6gQXq0"
      },
      "outputs": [],
      "source": [
        "#!pip install yellowbrick"
      ]
    },
    {
      "cell_type": "code",
      "execution_count": null,
      "metadata": {
        "id": "mArZNwbcQXq0"
      },
      "outputs": [],
      "source": [
        "import pandas as pd\n",
        "import numpy as np\n",
        "import matplotlib.pyplot as plt\n",
        "import seaborn as sn"
      ]
    },
    {
      "cell_type": "code",
      "execution_count": null,
      "metadata": {
        "id": "cedfuyM9QXq0"
      },
      "outputs": [],
      "source": [
        "import warnings\n",
        "warnings.filterwarnings('ignore')"
      ]
    },
    {
      "cell_type": "code",
      "execution_count": null,
      "metadata": {
        "id": "GepGKRdCQXq0"
      },
      "outputs": [],
      "source": [
        "data_file = \"https://raw.githubusercontent.com/manaranjanp/ISB_MLUL/main/clustering/beer.csv\""
      ]
    },
    {
      "cell_type": "code",
      "execution_count": null,
      "metadata": {
        "id": "E8VhEy8BQXq1"
      },
      "outputs": [],
      "source": [
        "beer_df = pd.read_csv( data_file )"
      ]
    },
    {
      "cell_type": "code",
      "execution_count": null,
      "metadata": {
        "id": "gUhlThkRQXq1"
      },
      "outputs": [],
      "source": [
        "beer_df"
      ]
    },
    {
      "cell_type": "code",
      "execution_count": null,
      "metadata": {
        "id": "w-WvvphvQXq1"
      },
      "outputs": [],
      "source": [
        "sn.kdeplot(beer_df.calories);"
      ]
    },
    {
      "cell_type": "code",
      "execution_count": null,
      "metadata": {
        "id": "dhAZmIyPQXq1"
      },
      "outputs": [],
      "source": [
        "sn.kdeplot(beer_df.sodium);"
      ]
    },
    {
      "cell_type": "code",
      "execution_count": null,
      "metadata": {
        "id": "5mubcG2iQXq1"
      },
      "outputs": [],
      "source": [
        "sn.scatterplot(data = beer_df,\n",
        "               x = 'alcohol',\n",
        "               y = 'calories');"
      ]
    },
    {
      "cell_type": "markdown",
      "metadata": {
        "id": "JMz679Q4QXq1"
      },
      "source": [
        "## Scaling"
      ]
    },
    {
      "cell_type": "code",
      "execution_count": null,
      "metadata": {
        "id": "1c2kYIywQXq1"
      },
      "outputs": [],
      "source": [
        "from sklearn.preprocessing import StandardScaler\n",
        "\n",
        "scaler = StandardScaler()\n",
        "scaled_beer_df = scaler.fit_transform( beer_df[['calories',\n",
        "                                                'sodium',\n",
        "                                                'alcohol',\n",
        "                                                'cost']] )"
      ]
    },
    {
      "cell_type": "code",
      "execution_count": null,
      "metadata": {
        "id": "GH15ZFA9QXq1"
      },
      "outputs": [],
      "source": [
        "scaled_beer_df = pd.DataFrame(scaled_beer_df,\n",
        "                              columns = ['calories',\n",
        "                                         'sodium',\n",
        "                                         'alcohol',\n",
        "                                         'cost'])"
      ]
    },
    {
      "cell_type": "code",
      "execution_count": null,
      "metadata": {
        "id": "dGk1UJgjQXq1"
      },
      "outputs": [],
      "source": [
        "sn.kdeplot(scaled_beer_df.sodium);\n",
        "sn.kdeplot(scaled_beer_df.calories);"
      ]
    },
    {
      "cell_type": "markdown",
      "metadata": {
        "id": "9hO5EUP4QXq1"
      },
      "source": [
        "## How many clusters exist?\n",
        "\n",
        "#### Using Dendrogram"
      ]
    },
    {
      "cell_type": "code",
      "execution_count": null,
      "metadata": {
        "id": "wqc8EHTMQXq1"
      },
      "outputs": [],
      "source": [
        "cmap = sn.cubehelix_palette(as_cmap=True, rot=-.3, light=1)\n",
        "sn.clustermap(scaled_beer_df,\n",
        "              cmap=cmap,\n",
        "              linewidths=.2,\n",
        "              figsize = (6,6) );"
      ]
    },
    {
      "cell_type": "code",
      "execution_count": null,
      "metadata": {
        "id": "vr8EywCzQXq1"
      },
      "outputs": [],
      "source": [
        "beer_df.iloc[[9,15]]"
      ]
    },
    {
      "cell_type": "code",
      "execution_count": null,
      "metadata": {
        "id": "itmBMsUIQXq1"
      },
      "outputs": [],
      "source": [
        "beer_df.iloc[[16,14]]"
      ]
    },
    {
      "cell_type": "code",
      "execution_count": null,
      "metadata": {
        "id": "OC9omfDnQXq1"
      },
      "outputs": [],
      "source": [
        "from sklearn.cluster import KMeans"
      ]
    },
    {
      "cell_type": "code",
      "execution_count": null,
      "metadata": {
        "id": "_MLAlDWmQXq2"
      },
      "outputs": [],
      "source": [
        "cluster_range = range( 1, 10 )\n",
        "cluster_errors = []\n",
        "\n",
        "for num_clusters in cluster_range:\n",
        "  clusters = KMeans( num_clusters )\n",
        "  clusters.fit( scaled_beer_df )\n",
        "  cluster_errors.append( clusters.inertia_ )\n",
        "\n",
        "plt.figure(figsize=(8,4))\n",
        "plt.plot( cluster_range, cluster_errors, marker = \"o\" );"
      ]
    },
    {
      "cell_type": "markdown",
      "metadata": {
        "id": "8jUUbqi4QXq2"
      },
      "source": [
        "## Evaluating the quality of cluster using Silhouette score"
      ]
    },
    {
      "cell_type": "code",
      "execution_count": null,
      "metadata": {
        "id": "I3Mru-d0QXq2"
      },
      "outputs": [],
      "source": [
        "from yellowbrick.cluster import SilhouetteVisualizer\n",
        "\n",
        "fig, ax = plt.subplots(2, 2, figsize=(15,8))\n",
        "num_clusters = [2, 3, 4, 5]\n",
        "for i, k in enumerate(num_clusters):\n",
        "    km = KMeans(n_clusters=k,\n",
        "                random_state=42)\n",
        "    q, mod = divmod(i, 2)\n",
        "    visualizer = SilhouetteVisualizer(km,\n",
        "                                      colors='yellowbrick',\n",
        "                                      ax=ax[q-1][mod])\n",
        "    visualizer.fit(scaled_beer_df)"
      ]
    },
    {
      "cell_type": "markdown",
      "metadata": {
        "id": "fb0B58dLQXq2"
      },
      "source": [
        "#### Rescaling the dataset"
      ]
    },
    {
      "cell_type": "code",
      "execution_count": null,
      "metadata": {
        "id": "tMJBj9hFQXq2"
      },
      "outputs": [],
      "source": [
        "from sklearn.preprocessing import MinMaxScaler"
      ]
    },
    {
      "cell_type": "code",
      "execution_count": null,
      "metadata": {
        "id": "xfQFC2_CQXq2"
      },
      "outputs": [],
      "source": [
        "scaler = MinMaxScaler()\n",
        "scaled_beer_df = scaler.fit_transform( beer_df[['calories',\n",
        "                                                'sodium',\n",
        "                                                'alcohol',\n",
        "                                                'cost']] )"
      ]
    },
    {
      "cell_type": "markdown",
      "metadata": {
        "id": "qvVib7jKQXq2"
      },
      "source": [
        "#### Creating 3 Clusters"
      ]
    },
    {
      "cell_type": "markdown",
      "metadata": {
        "id": "EULq7W0CQXq2"
      },
      "source": [
        "We will set k to 3 for running *KMeans* algorithm and create a new column *clusterid* in *beer_df* to capture the cluster number it is assigned to."
      ]
    },
    {
      "cell_type": "code",
      "execution_count": null,
      "metadata": {
        "id": "3rggkkbpQXq2"
      },
      "outputs": [],
      "source": [
        "k = 4\n",
        "\n",
        "clusters = KMeans( k, random_state = 42 )\n",
        "clusters.fit( scaled_beer_df )\n",
        "beer_df[\"clusterid\"] = clusters.labels_"
      ]
    },
    {
      "cell_type": "code",
      "execution_count": null,
      "metadata": {
        "id": "Qdc3pXtzQXq2"
      },
      "outputs": [],
      "source": [
        "clusters.labels_"
      ]
    },
    {
      "cell_type": "markdown",
      "metadata": {
        "id": "0qHJgy2QQXq2"
      },
      "source": [
        "## Understanding the clusters"
      ]
    },
    {
      "cell_type": "code",
      "execution_count": null,
      "metadata": {
        "id": "TxXlO0SlQXq2"
      },
      "outputs": [],
      "source": [
        "sn.violinplot(data = beer_df,\n",
        "              y = 'calories',\n",
        "              x = 'clusterid');"
      ]
    },
    {
      "cell_type": "code",
      "execution_count": null,
      "metadata": {
        "id": "v9G4keVZQXq2"
      },
      "outputs": [],
      "source": [
        "sn.violinplot(data = beer_df,\n",
        "              y = 'cost',\n",
        "              x = 'clusterid');"
      ]
    },
    {
      "cell_type": "code",
      "execution_count": null,
      "metadata": {
        "id": "UJv7KGDlQXq2"
      },
      "outputs": [],
      "source": [
        "sn.scatterplot(data = beer_df,\n",
        "               x = 'cost',\n",
        "               y = 'calories',\n",
        "               hue = 'clusterid');"
      ]
    },
    {
      "cell_type": "markdown",
      "metadata": {
        "id": "M0iHeQX3QXq2"
      },
      "source": [
        "#### Cluster 0"
      ]
    },
    {
      "cell_type": "code",
      "execution_count": null,
      "metadata": {
        "id": "GFlO8vA9QXq2"
      },
      "outputs": [],
      "source": [
        "beer_df[beer_df.clusterid == 0]"
      ]
    },
    {
      "cell_type": "markdown",
      "metadata": {
        "id": "N6uf-uNSQXq2"
      },
      "source": [
        "#### Cluster 1"
      ]
    },
    {
      "cell_type": "code",
      "execution_count": null,
      "metadata": {
        "id": "WmXPn38GQXq2"
      },
      "outputs": [],
      "source": [
        "beer_df[beer_df.clusterid == 1]"
      ]
    },
    {
      "cell_type": "markdown",
      "metadata": {
        "id": "X160tUsBQXq2"
      },
      "source": [
        "#### Cluster 2"
      ]
    },
    {
      "cell_type": "code",
      "execution_count": null,
      "metadata": {
        "id": "LRMB-xHoQXq2"
      },
      "outputs": [],
      "source": [
        "beer_df[beer_df.clusterid == 2]"
      ]
    },
    {
      "cell_type": "markdown",
      "metadata": {
        "id": "r079G5o-QXq6"
      },
      "source": [
        "#### Cluster 3"
      ]
    },
    {
      "cell_type": "code",
      "execution_count": null,
      "metadata": {
        "id": "YTJUe-eEQXq6"
      },
      "outputs": [],
      "source": [
        "beer_df[beer_df.clusterid == 3]"
      ]
    },
    {
      "cell_type": "markdown",
      "metadata": {
        "id": "9Ze9WdWmQXq6"
      },
      "source": [
        "# Evaluating Cluster Performane\n",
        "\n",
        "## Calinski-Harabasz Index"
      ]
    },
    {
      "cell_type": "code",
      "execution_count": null,
      "metadata": {
        "id": "uJc7PNtmQXq6"
      },
      "outputs": [],
      "source": [
        "from sklearn.metrics import calinski_harabasz_score"
      ]
    },
    {
      "cell_type": "code",
      "execution_count": null,
      "metadata": {
        "id": "kZOBpX_6QXq6"
      },
      "outputs": [],
      "source": [
        "cluster_range = range( 3, 6 )\n",
        "ch_scores = []\n",
        "\n",
        "for num_clusters in cluster_range:\n",
        "  clusters = KMeans( num_clusters )\n",
        "  clusters.fit( scaled_beer_df )\n",
        "  print(f\"n_cluster: {num_clusters} - CH Score: {calinski_harabasz_score(scaled_beer_df, clusters.labels_)}\" )"
      ]
    },
    {
      "cell_type": "markdown",
      "metadata": {
        "id": "mLcF0ThwQXq6"
      },
      "source": [
        "## Davies-Bouldin Index"
      ]
    },
    {
      "cell_type": "code",
      "execution_count": null,
      "metadata": {
        "id": "d2fZ2bDHQXq6"
      },
      "outputs": [],
      "source": [
        "from sklearn.metrics import davies_bouldin_score"
      ]
    },
    {
      "cell_type": "code",
      "execution_count": null,
      "metadata": {
        "id": "TkuXcBSRQXq6"
      },
      "outputs": [],
      "source": [
        "cluster_range = range( 3, 6 )\n",
        "ch_scores = []\n",
        "\n",
        "for num_clusters in cluster_range:\n",
        "  clusters = KMeans( num_clusters )\n",
        "  clusters.fit( scaled_beer_df )\n",
        "  print(f\"n_cluster: {num_clusters} - CH Score: {davies_bouldin_score(scaled_beer_df, clusters.labels_)}\" )"
      ]
    },
    {
      "cell_type": "markdown",
      "metadata": {
        "id": "P39_uXOJQXq6"
      },
      "source": [
        "# Hierarchical Clustering"
      ]
    },
    {
      "cell_type": "markdown",
      "metadata": {
        "id": "cQnhf1JwQXq6"
      },
      "source": [
        "Cluster method:\n",
        "\n",
        "https://docs.scipy.org/doc/scipy/reference/generated/scipy.cluster.hierarchy.linkage.html"
      ]
    },
    {
      "cell_type": "code",
      "execution_count": null,
      "metadata": {
        "id": "G2QKklqbQXq6"
      },
      "outputs": [],
      "source": [
        "cmap = sn.cubehelix_palette(as_cmap=True, rot=-.3, light=1)\n",
        "sn.clustermap(scaled_beer_df,\n",
        "              cmap=cmap,\n",
        "              linewidths=.2,\n",
        "              figsize = (6,6) );"
      ]
    },
    {
      "cell_type": "code",
      "execution_count": null,
      "metadata": {
        "id": "eMb_7djDQXq6"
      },
      "outputs": [],
      "source": [
        "from sklearn.cluster import AgglomerativeClustering"
      ]
    },
    {
      "cell_type": "markdown",
      "metadata": {
        "id": "r2dH69ghQXq6"
      },
      "source": [
        "Try different metric and linkage\n",
        "\n",
        "- metric: “euclidean”, “manhattan”, “cosine”, \"minkowski\"\n",
        "- linkage: single, complete, ward, average"
      ]
    },
    {
      "cell_type": "code",
      "execution_count": null,
      "metadata": {
        "id": "e0Vy3V2UQXq6"
      },
      "outputs": [],
      "source": [
        "h_cluster = AgglomerativeClustering(n_clusters = 4,\n",
        "                                    metric = 'euclidean',\n",
        "                                    linkage = 'ward',\n",
        "                                    compute_distances = True)"
      ]
    },
    {
      "cell_type": "code",
      "execution_count": null,
      "metadata": {
        "id": "h6dAVNX1QXq6"
      },
      "outputs": [],
      "source": [
        "#h_cluster = AgglomerativeClustering(n_clusters = 4,\n",
        "#                                    metric = 'manhattan',\n",
        "#                                    linkage = 'complete')"
      ]
    },
    {
      "cell_type": "code",
      "execution_count": null,
      "metadata": {
        "id": "uEkB1YrvQXq6"
      },
      "outputs": [],
      "source": [
        "h_cluster.fit(scaled_beer_df)"
      ]
    },
    {
      "cell_type": "code",
      "execution_count": null,
      "metadata": {
        "id": "HyYj40XhQXq6"
      },
      "outputs": [],
      "source": [
        "h_cluster.labels_"
      ]
    },
    {
      "cell_type": "code",
      "execution_count": null,
      "metadata": {
        "id": "vNZC4dEtQXq6"
      },
      "outputs": [],
      "source": [
        "beer_df['hcluster_clusterid'] = h_cluster.labels_"
      ]
    },
    {
      "cell_type": "code",
      "execution_count": null,
      "metadata": {
        "id": "UWNiwIMaQXq6"
      },
      "outputs": [],
      "source": [
        "beer_df.sort_values('hcluster_clusterid')"
      ]
    },
    {
      "cell_type": "code",
      "execution_count": null,
      "metadata": {
        "id": "5LAbmtRlQXq6"
      },
      "outputs": [],
      "source": [
        "h_cluster.n_leaves_"
      ]
    },
    {
      "cell_type": "code",
      "execution_count": null,
      "metadata": {
        "id": "AXj3rZD-QXq6"
      },
      "outputs": [],
      "source": [
        "h_cluster.children_"
      ]
    },
    {
      "cell_type": "code",
      "execution_count": null,
      "metadata": {
        "id": "A5udNrIgQXq7"
      },
      "outputs": [],
      "source": [
        "h_cluster.distances_"
      ]
    },
    {
      "cell_type": "markdown",
      "metadata": {
        "id": "KXAJYeiwQXq7"
      },
      "source": [
        "# HDBScan Clustering"
      ]
    },
    {
      "cell_type": "code",
      "execution_count": null,
      "metadata": {
        "id": "KJ8YOHMtQXq7"
      },
      "outputs": [],
      "source": [
        "from sklearn.cluster import HDBSCAN"
      ]
    },
    {
      "cell_type": "code",
      "execution_count": null,
      "metadata": {
        "id": "0SQboolnQXq7"
      },
      "outputs": [],
      "source": [
        "hdbscan = HDBSCAN(min_cluster_size=2)"
      ]
    },
    {
      "cell_type": "code",
      "execution_count": null,
      "metadata": {
        "id": "9rBpIaDzQXq7"
      },
      "outputs": [],
      "source": [
        "hdbscan.fit(scaled_beer_df)"
      ]
    },
    {
      "cell_type": "code",
      "execution_count": null,
      "metadata": {
        "id": "7lh8xZn5QXq7"
      },
      "outputs": [],
      "source": [
        "hdbscan.labels_"
      ]
    },
    {
      "cell_type": "code",
      "execution_count": null,
      "metadata": {
        "id": "1SiibfMBQXq7"
      },
      "outputs": [],
      "source": [
        "beer_df['hdbscan_clusterid'] = hdbscan.labels_"
      ]
    },
    {
      "cell_type": "code",
      "execution_count": null,
      "metadata": {
        "id": "cvwmK-9gQXq7"
      },
      "outputs": [],
      "source": [
        "beer_df[beer_df.hdbscan_clusterid == 0]"
      ]
    },
    {
      "cell_type": "code",
      "execution_count": null,
      "metadata": {
        "id": "emnsq54OQXq7"
      },
      "outputs": [],
      "source": [
        "beer_df[beer_df.hdbscan_clusterid == 1]"
      ]
    },
    {
      "cell_type": "code",
      "execution_count": null,
      "metadata": {
        "id": "lRipBk_MQXq7"
      },
      "outputs": [],
      "source": [
        "beer_df[beer_df.hdbscan_clusterid == 2]"
      ]
    },
    {
      "cell_type": "code",
      "execution_count": null,
      "metadata": {
        "id": "Q7sGO1zzQXq7"
      },
      "outputs": [],
      "source": [
        "beer_df[beer_df.hdbscan_clusterid == 3]"
      ]
    },
    {
      "cell_type": "code",
      "execution_count": null,
      "metadata": {
        "scrolled": true,
        "id": "Qd3Vcv47QXq7"
      },
      "outputs": [],
      "source": [
        "beer_df[beer_df.hdbscan_clusterid == -1]"
      ]
    }
  ],
  "metadata": {
    "anaconda-cloud": {},
    "kernelspec": {
      "display_name": "Python 3 (ipykernel)",
      "language": "python",
      "name": "python3"
    },
    "language_info": {
      "codemirror_mode": {
        "name": "ipython",
        "version": 3
      },
      "file_extension": ".py",
      "mimetype": "text/x-python",
      "name": "python",
      "nbconvert_exporter": "python",
      "pygments_lexer": "ipython3",
      "version": "3.10.9"
    },
    "colab": {
      "provenance": [],
      "include_colab_link": true
    }
  },
  "nbformat": 4,
  "nbformat_minor": 0
}
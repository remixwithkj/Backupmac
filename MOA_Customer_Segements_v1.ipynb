{
  "cells": [
    {
      "cell_type": "markdown",
      "metadata": {
        "id": "view-in-github",
        "colab_type": "text"
      },
      "source": [
        "<a href=\"https://colab.research.google.com/github/remixwithkj/Backupmac/blob/main/MOA_Customer_Segements_v1.ipynb\" target=\"_parent\"><img src=\"https://colab.research.google.com/assets/colab-badge.svg\" alt=\"Open In Colab\"/></a>"
      ]
    },
    {
      "cell_type": "markdown",
      "id": "fd8d456d",
      "metadata": {
        "id": "fd8d456d"
      },
      "source": [
        "# Mall of America (MoA) Case"
      ]
    },
    {
      "cell_type": "code",
      "execution_count": 1,
      "id": "4171b84f",
      "metadata": {
        "id": "4171b84f"
      },
      "outputs": [],
      "source": [
        "import pandas as pd\n",
        "import numpy as np\n",
        "import matplotlib.pyplot as plt\n",
        "import seaborn as sn\n",
        "\n",
        "import warnings\n",
        "warnings.filterwarnings('ignore')"
      ]
    },
    {
      "cell_type": "code",
      "execution_count": null,
      "id": "bc999e4e",
      "metadata": {
        "id": "bc999e4e"
      },
      "outputs": [],
      "source": [
        "moa_analytics_df = pd.read_csv('moa_analytics.csv')"
      ]
    },
    {
      "cell_type": "code",
      "execution_count": null,
      "id": "b58b2b6b",
      "metadata": {
        "id": "b58b2b6b",
        "outputId": "2e20c8de-5d69-4e96-dc4f-322785476692"
      },
      "outputs": [
        {
          "data": {
            "text/html": [
              "<div>\n",
              "<style scoped>\n",
              "    .dataframe tbody tr th:only-of-type {\n",
              "        vertical-align: middle;\n",
              "    }\n",
              "\n",
              "    .dataframe tbody tr th {\n",
              "        vertical-align: top;\n",
              "    }\n",
              "\n",
              "    .dataframe thead th {\n",
              "        text-align: right;\n",
              "    }\n",
              "</style>\n",
              "<table border=\"1\" class=\"dataframe\">\n",
              "  <thead>\n",
              "    <tr style=\"text-align: right;\">\n",
              "      <th></th>\n",
              "      <th>device</th>\n",
              "      <th>session_date</th>\n",
              "      <th>apple_flag</th>\n",
              "      <th>entry_time</th>\n",
              "      <th>exit_time</th>\n",
              "      <th>duration</th>\n",
              "      <th>avg_time_session_update</th>\n",
              "      <th>distinct_ap</th>\n",
              "      <th>distinct_sessions</th>\n",
              "      <th>total_updates</th>\n",
              "      <th>...</th>\n",
              "      <th>session_updates_3_S</th>\n",
              "      <th>session_updates_3_SE</th>\n",
              "      <th>session_updates_3_SW</th>\n",
              "      <th>session_updates_3_W</th>\n",
              "      <th>session_updates_4_E</th>\n",
              "      <th>session_updates_4_NE</th>\n",
              "      <th>session_updates_4_S</th>\n",
              "      <th>session_updates_4_SE</th>\n",
              "      <th>session_updates_outside</th>\n",
              "      <th>session_updates_entrance</th>\n",
              "    </tr>\n",
              "  </thead>\n",
              "  <tbody>\n",
              "    <tr>\n",
              "      <th>0</th>\n",
              "      <td>device:00:ee:bd:c2:2a:2b</td>\n",
              "      <td>11/8/2015</td>\n",
              "      <td>0</td>\n",
              "      <td>2015-11-08 12:17:15.25</td>\n",
              "      <td>2015-11-08 12:23:53.57</td>\n",
              "      <td>398.0</td>\n",
              "      <td>199.0</td>\n",
              "      <td>1</td>\n",
              "      <td>1</td>\n",
              "      <td>3</td>\n",
              "      <td>...</td>\n",
              "      <td>0</td>\n",
              "      <td>0</td>\n",
              "      <td>0</td>\n",
              "      <td>3</td>\n",
              "      <td>0</td>\n",
              "      <td>0</td>\n",
              "      <td>0</td>\n",
              "      <td>0</td>\n",
              "      <td>0</td>\n",
              "      <td>3</td>\n",
              "    </tr>\n",
              "    <tr>\n",
              "      <th>1</th>\n",
              "      <td>device:00:ee:bd:c2:2c:93</td>\n",
              "      <td>3/26/2016</td>\n",
              "      <td>0</td>\n",
              "      <td>2016-03-26 14:13:24.45</td>\n",
              "      <td>2016-03-26 18:57:53.54</td>\n",
              "      <td>17069.0</td>\n",
              "      <td>107.0</td>\n",
              "      <td>75</td>\n",
              "      <td>35</td>\n",
              "      <td>160</td>\n",
              "      <td>...</td>\n",
              "      <td>0</td>\n",
              "      <td>0</td>\n",
              "      <td>0</td>\n",
              "      <td>0</td>\n",
              "      <td>0</td>\n",
              "      <td>0</td>\n",
              "      <td>0</td>\n",
              "      <td>0</td>\n",
              "      <td>0</td>\n",
              "      <td>16</td>\n",
              "    </tr>\n",
              "    <tr>\n",
              "      <th>2</th>\n",
              "      <td>device:00:ee:bd:c2:2e:ba</td>\n",
              "      <td>11/21/2015</td>\n",
              "      <td>0</td>\n",
              "      <td>2015-11-21 14:17:56.76</td>\n",
              "      <td>2015-11-21 17:06:16.50</td>\n",
              "      <td>10100.0</td>\n",
              "      <td>124.0</td>\n",
              "      <td>33</td>\n",
              "      <td>7</td>\n",
              "      <td>82</td>\n",
              "      <td>...</td>\n",
              "      <td>0</td>\n",
              "      <td>0</td>\n",
              "      <td>0</td>\n",
              "      <td>9</td>\n",
              "      <td>0</td>\n",
              "      <td>0</td>\n",
              "      <td>0</td>\n",
              "      <td>0</td>\n",
              "      <td>3</td>\n",
              "      <td>8</td>\n",
              "    </tr>\n",
              "    <tr>\n",
              "      <th>3</th>\n",
              "      <td>device:00:ee:bd:c2:37:17</td>\n",
              "      <td>11/21/2015</td>\n",
              "      <td>0</td>\n",
              "      <td>2015-11-21 20:35:30.40</td>\n",
              "      <td>2015-11-22 00:22:01.44</td>\n",
              "      <td>13591.0</td>\n",
              "      <td>109.0</td>\n",
              "      <td>29</td>\n",
              "      <td>13</td>\n",
              "      <td>125</td>\n",
              "      <td>...</td>\n",
              "      <td>0</td>\n",
              "      <td>0</td>\n",
              "      <td>0</td>\n",
              "      <td>0</td>\n",
              "      <td>80</td>\n",
              "      <td>20</td>\n",
              "      <td>0</td>\n",
              "      <td>2</td>\n",
              "      <td>6</td>\n",
              "      <td>30</td>\n",
              "    </tr>\n",
              "    <tr>\n",
              "      <th>4</th>\n",
              "      <td>device:00:ee:bd:c2:37:17</td>\n",
              "      <td>3/21/2016</td>\n",
              "      <td>0</td>\n",
              "      <td>2016-03-21 17:49:45.72</td>\n",
              "      <td>2016-03-21 17:57:55.42</td>\n",
              "      <td>490.0</td>\n",
              "      <td>122.0</td>\n",
              "      <td>3</td>\n",
              "      <td>2</td>\n",
              "      <td>5</td>\n",
              "      <td>...</td>\n",
              "      <td>0</td>\n",
              "      <td>0</td>\n",
              "      <td>0</td>\n",
              "      <td>0</td>\n",
              "      <td>0</td>\n",
              "      <td>0</td>\n",
              "      <td>0</td>\n",
              "      <td>0</td>\n",
              "      <td>1</td>\n",
              "      <td>4</td>\n",
              "    </tr>\n",
              "    <tr>\n",
              "      <th>5</th>\n",
              "      <td>device:00:ee:bd:c2:49:ef</td>\n",
              "      <td>1/2/2016</td>\n",
              "      <td>0</td>\n",
              "      <td>2016-01-02 22:41:38.00</td>\n",
              "      <td>2016-01-02 22:56:03.03</td>\n",
              "      <td>865.0</td>\n",
              "      <td>45.0</td>\n",
              "      <td>17</td>\n",
              "      <td>2</td>\n",
              "      <td>20</td>\n",
              "      <td>...</td>\n",
              "      <td>8</td>\n",
              "      <td>0</td>\n",
              "      <td>6</td>\n",
              "      <td>6</td>\n",
              "      <td>0</td>\n",
              "      <td>0</td>\n",
              "      <td>0</td>\n",
              "      <td>0</td>\n",
              "      <td>3</td>\n",
              "      <td>2</td>\n",
              "    </tr>\n",
              "    <tr>\n",
              "      <th>6</th>\n",
              "      <td>device:00:ee:bd:c2:67:2a</td>\n",
              "      <td>12/6/2015</td>\n",
              "      <td>0</td>\n",
              "      <td>2015-12-06 14:08:26.79</td>\n",
              "      <td>2015-12-06 15:03:54.57</td>\n",
              "      <td>3328.0</td>\n",
              "      <td>89.0</td>\n",
              "      <td>25</td>\n",
              "      <td>2</td>\n",
              "      <td>38</td>\n",
              "      <td>...</td>\n",
              "      <td>0</td>\n",
              "      <td>0</td>\n",
              "      <td>0</td>\n",
              "      <td>0</td>\n",
              "      <td>2</td>\n",
              "      <td>0</td>\n",
              "      <td>9</td>\n",
              "      <td>5</td>\n",
              "      <td>0</td>\n",
              "      <td>2</td>\n",
              "    </tr>\n",
              "    <tr>\n",
              "      <th>7</th>\n",
              "      <td>device:00:ee:bd:c2:67:2a</td>\n",
              "      <td>2/13/2016</td>\n",
              "      <td>0</td>\n",
              "      <td>2016-02-13 11:32:12.51</td>\n",
              "      <td>2016-02-13 20:28:02.12</td>\n",
              "      <td>32150.0</td>\n",
              "      <td>175.0</td>\n",
              "      <td>31</td>\n",
              "      <td>43</td>\n",
              "      <td>184</td>\n",
              "      <td>...</td>\n",
              "      <td>9</td>\n",
              "      <td>0</td>\n",
              "      <td>0</td>\n",
              "      <td>0</td>\n",
              "      <td>0</td>\n",
              "      <td>0</td>\n",
              "      <td>0</td>\n",
              "      <td>0</td>\n",
              "      <td>0</td>\n",
              "      <td>3</td>\n",
              "    </tr>\n",
              "    <tr>\n",
              "      <th>8</th>\n",
              "      <td>device:00:ee:bd:c2:67:2a</td>\n",
              "      <td>2/20/2016</td>\n",
              "      <td>0</td>\n",
              "      <td>2016-02-20 15:40:39.14</td>\n",
              "      <td>2016-02-20 20:25:57.48</td>\n",
              "      <td>17118.0</td>\n",
              "      <td>178.0</td>\n",
              "      <td>22</td>\n",
              "      <td>14</td>\n",
              "      <td>97</td>\n",
              "      <td>...</td>\n",
              "      <td>5</td>\n",
              "      <td>0</td>\n",
              "      <td>0</td>\n",
              "      <td>0</td>\n",
              "      <td>0</td>\n",
              "      <td>0</td>\n",
              "      <td>0</td>\n",
              "      <td>0</td>\n",
              "      <td>0</td>\n",
              "      <td>5</td>\n",
              "    </tr>\n",
              "    <tr>\n",
              "      <th>9</th>\n",
              "      <td>device:00:f4:6f:6b:9d:eb</td>\n",
              "      <td>12/5/2015</td>\n",
              "      <td>0</td>\n",
              "      <td>2015-12-05 12:52:04.82</td>\n",
              "      <td>2015-12-05 17:39:52.48</td>\n",
              "      <td>17268.0</td>\n",
              "      <td>134.0</td>\n",
              "      <td>71</td>\n",
              "      <td>10</td>\n",
              "      <td>129</td>\n",
              "      <td>...</td>\n",
              "      <td>1</td>\n",
              "      <td>0</td>\n",
              "      <td>0</td>\n",
              "      <td>0</td>\n",
              "      <td>0</td>\n",
              "      <td>0</td>\n",
              "      <td>0</td>\n",
              "      <td>0</td>\n",
              "      <td>0</td>\n",
              "      <td>23</td>\n",
              "    </tr>\n",
              "  </tbody>\n",
              "</table>\n",
              "<p>10 rows × 108 columns</p>\n",
              "</div>"
            ],
            "text/plain": [
              "                     device session_date  apple_flag              entry_time  \\\n",
              "0  device:00:ee:bd:c2:2a:2b    11/8/2015           0  2015-11-08 12:17:15.25   \n",
              "1  device:00:ee:bd:c2:2c:93    3/26/2016           0  2016-03-26 14:13:24.45   \n",
              "2  device:00:ee:bd:c2:2e:ba   11/21/2015           0  2015-11-21 14:17:56.76   \n",
              "3  device:00:ee:bd:c2:37:17   11/21/2015           0  2015-11-21 20:35:30.40   \n",
              "4  device:00:ee:bd:c2:37:17    3/21/2016           0  2016-03-21 17:49:45.72   \n",
              "5  device:00:ee:bd:c2:49:ef     1/2/2016           0  2016-01-02 22:41:38.00   \n",
              "6  device:00:ee:bd:c2:67:2a    12/6/2015           0  2015-12-06 14:08:26.79   \n",
              "7  device:00:ee:bd:c2:67:2a    2/13/2016           0  2016-02-13 11:32:12.51   \n",
              "8  device:00:ee:bd:c2:67:2a    2/20/2016           0  2016-02-20 15:40:39.14   \n",
              "9  device:00:f4:6f:6b:9d:eb    12/5/2015           0  2015-12-05 12:52:04.82   \n",
              "\n",
              "                exit_time  duration  avg_time_session_update  distinct_ap  \\\n",
              "0  2015-11-08 12:23:53.57     398.0                    199.0            1   \n",
              "1  2016-03-26 18:57:53.54   17069.0                    107.0           75   \n",
              "2  2015-11-21 17:06:16.50   10100.0                    124.0           33   \n",
              "3  2015-11-22 00:22:01.44   13591.0                    109.0           29   \n",
              "4  2016-03-21 17:57:55.42     490.0                    122.0            3   \n",
              "5  2016-01-02 22:56:03.03     865.0                     45.0           17   \n",
              "6  2015-12-06 15:03:54.57    3328.0                     89.0           25   \n",
              "7  2016-02-13 20:28:02.12   32150.0                    175.0           31   \n",
              "8  2016-02-20 20:25:57.48   17118.0                    178.0           22   \n",
              "9  2015-12-05 17:39:52.48   17268.0                    134.0           71   \n",
              "\n",
              "   distinct_sessions  total_updates  ...  session_updates_3_S  \\\n",
              "0                  1              3  ...                    0   \n",
              "1                 35            160  ...                    0   \n",
              "2                  7             82  ...                    0   \n",
              "3                 13            125  ...                    0   \n",
              "4                  2              5  ...                    0   \n",
              "5                  2             20  ...                    8   \n",
              "6                  2             38  ...                    0   \n",
              "7                 43            184  ...                    9   \n",
              "8                 14             97  ...                    5   \n",
              "9                 10            129  ...                    1   \n",
              "\n",
              "   session_updates_3_SE  session_updates_3_SW  session_updates_3_W  \\\n",
              "0                     0                     0                    3   \n",
              "1                     0                     0                    0   \n",
              "2                     0                     0                    9   \n",
              "3                     0                     0                    0   \n",
              "4                     0                     0                    0   \n",
              "5                     0                     6                    6   \n",
              "6                     0                     0                    0   \n",
              "7                     0                     0                    0   \n",
              "8                     0                     0                    0   \n",
              "9                     0                     0                    0   \n",
              "\n",
              "   session_updates_4_E  session_updates_4_NE  session_updates_4_S  \\\n",
              "0                    0                     0                    0   \n",
              "1                    0                     0                    0   \n",
              "2                    0                     0                    0   \n",
              "3                   80                    20                    0   \n",
              "4                    0                     0                    0   \n",
              "5                    0                     0                    0   \n",
              "6                    2                     0                    9   \n",
              "7                    0                     0                    0   \n",
              "8                    0                     0                    0   \n",
              "9                    0                     0                    0   \n",
              "\n",
              "   session_updates_4_SE  session_updates_outside  session_updates_entrance  \n",
              "0                     0                        0                         3  \n",
              "1                     0                        0                        16  \n",
              "2                     0                        3                         8  \n",
              "3                     2                        6                        30  \n",
              "4                     0                        1                         4  \n",
              "5                     0                        3                         2  \n",
              "6                     5                        0                         2  \n",
              "7                     0                        0                         3  \n",
              "8                     0                        0                         5  \n",
              "9                     0                        0                        23  \n",
              "\n",
              "[10 rows x 108 columns]"
            ]
          },
          "execution_count": 3,
          "metadata": {},
          "output_type": "execute_result"
        }
      ],
      "source": [
        "moa_analytics_df.head(10)"
      ]
    },
    {
      "cell_type": "code",
      "execution_count": null,
      "id": "8f883efc",
      "metadata": {
        "id": "8f883efc",
        "outputId": "de81d117-ebca-421c-ca32-ff681f9dfbc3"
      },
      "outputs": [
        {
          "data": {
            "text/plain": [
              "(12621, 108)"
            ]
          },
          "execution_count": 4,
          "metadata": {},
          "output_type": "execute_result"
        }
      ],
      "source": [
        "moa_analytics_df.shape"
      ]
    },
    {
      "cell_type": "code",
      "execution_count": null,
      "id": "d9c6b87d",
      "metadata": {
        "id": "d9c6b87d",
        "outputId": "966a7068-0c3b-4b79-ff75-78671ef8bfc3"
      },
      "outputs": [
        {
          "name": "stdout",
          "output_type": "stream",
          "text": [
            "<class 'pandas.core.frame.DataFrame'>\n",
            "RangeIndex: 12621 entries, 0 to 12620\n",
            "Data columns (total 20 columns):\n",
            " #   Column                     Non-Null Count  Dtype  \n",
            "---  ------                     --------------  -----  \n",
            " 0   device                     12621 non-null  object \n",
            " 1   session_date               12621 non-null  object \n",
            " 2   apple_flag                 12621 non-null  int64  \n",
            " 3   entry_time                 12621 non-null  object \n",
            " 4   exit_time                  12621 non-null  object \n",
            " 5   duration                   12614 non-null  float64\n",
            " 6   avg_time_session_update    12614 non-null  float64\n",
            " 7   distinct_ap                12621 non-null  int64  \n",
            " 8   distinct_sessions          12621 non-null  int64  \n",
            " 9   total_updates              12621 non-null  int64  \n",
            " 10  time_per_distinct_ap       12614 non-null  float64\n",
            " 11  distinct_sections_visited  12621 non-null  int64  \n",
            " 12  distinct_levels_visited    12621 non-null  int64  \n",
            " 13  weekend_flag               12621 non-null  int64  \n",
            " 14  day_of_week                12621 non-null  int64  \n",
            " 15  time_northfoodcourt        12621 non-null  int64  \n",
            " 16  time_southfoodcourt        12621 non-null  int64  \n",
            " 17  time_southrestaurant       12621 non-null  int64  \n",
            " 18  time_0_1                   12621 non-null  int64  \n",
            " 19  time_0                     12619 non-null  float64\n",
            "dtypes: float64(4), int64(12), object(4)\n",
            "memory usage: 1.9+ MB\n"
          ]
        }
      ],
      "source": [
        "moa_analytics_df.iloc[:, 0:20].info()"
      ]
    },
    {
      "cell_type": "markdown",
      "id": "d2f7eaa6",
      "metadata": {
        "id": "d2f7eaa6"
      },
      "source": [
        "### Data Preparation"
      ]
    },
    {
      "cell_type": "code",
      "execution_count": null,
      "id": "1a4e67fa",
      "metadata": {
        "id": "1a4e67fa"
      },
      "outputs": [],
      "source": [
        "moa_analytics_df['session_date'] = pd.to_datetime(moa_analytics_df['session_date'],\n",
        "                                                  format=\"%m/%d/%Y\")"
      ]
    },
    {
      "cell_type": "code",
      "execution_count": null,
      "id": "34a13bb1",
      "metadata": {
        "id": "34a13bb1",
        "outputId": "0099ce85-8299-41f1-fc34-2501c2fc3ba8"
      },
      "outputs": [
        {
          "data": {
            "text/html": [
              "<div>\n",
              "<style scoped>\n",
              "    .dataframe tbody tr th:only-of-type {\n",
              "        vertical-align: middle;\n",
              "    }\n",
              "\n",
              "    .dataframe tbody tr th {\n",
              "        vertical-align: top;\n",
              "    }\n",
              "\n",
              "    .dataframe thead th {\n",
              "        text-align: right;\n",
              "    }\n",
              "</style>\n",
              "<table border=\"1\" class=\"dataframe\">\n",
              "  <thead>\n",
              "    <tr style=\"text-align: right;\">\n",
              "      <th></th>\n",
              "      <th>device</th>\n",
              "      <th>session_date</th>\n",
              "      <th>apple_flag</th>\n",
              "      <th>entry_time</th>\n",
              "      <th>exit_time</th>\n",
              "      <th>duration</th>\n",
              "      <th>avg_time_session_update</th>\n",
              "      <th>distinct_ap</th>\n",
              "      <th>distinct_sessions</th>\n",
              "      <th>total_updates</th>\n",
              "      <th>...</th>\n",
              "      <th>session_updates_3_S</th>\n",
              "      <th>session_updates_3_SE</th>\n",
              "      <th>session_updates_3_SW</th>\n",
              "      <th>session_updates_3_W</th>\n",
              "      <th>session_updates_4_E</th>\n",
              "      <th>session_updates_4_NE</th>\n",
              "      <th>session_updates_4_S</th>\n",
              "      <th>session_updates_4_SE</th>\n",
              "      <th>session_updates_outside</th>\n",
              "      <th>session_updates_entrance</th>\n",
              "    </tr>\n",
              "  </thead>\n",
              "  <tbody>\n",
              "    <tr>\n",
              "      <th>0</th>\n",
              "      <td>device:00:ee:bd:c2:2a:2b</td>\n",
              "      <td>2015-11-08</td>\n",
              "      <td>0</td>\n",
              "      <td>2015-11-08 12:17:15.25</td>\n",
              "      <td>2015-11-08 12:23:53.57</td>\n",
              "      <td>398.0</td>\n",
              "      <td>199.0</td>\n",
              "      <td>1</td>\n",
              "      <td>1</td>\n",
              "      <td>3</td>\n",
              "      <td>...</td>\n",
              "      <td>0</td>\n",
              "      <td>0</td>\n",
              "      <td>0</td>\n",
              "      <td>3</td>\n",
              "      <td>0</td>\n",
              "      <td>0</td>\n",
              "      <td>0</td>\n",
              "      <td>0</td>\n",
              "      <td>0</td>\n",
              "      <td>3</td>\n",
              "    </tr>\n",
              "    <tr>\n",
              "      <th>1</th>\n",
              "      <td>device:00:ee:bd:c2:2c:93</td>\n",
              "      <td>2016-03-26</td>\n",
              "      <td>0</td>\n",
              "      <td>2016-03-26 14:13:24.45</td>\n",
              "      <td>2016-03-26 18:57:53.54</td>\n",
              "      <td>17069.0</td>\n",
              "      <td>107.0</td>\n",
              "      <td>75</td>\n",
              "      <td>35</td>\n",
              "      <td>160</td>\n",
              "      <td>...</td>\n",
              "      <td>0</td>\n",
              "      <td>0</td>\n",
              "      <td>0</td>\n",
              "      <td>0</td>\n",
              "      <td>0</td>\n",
              "      <td>0</td>\n",
              "      <td>0</td>\n",
              "      <td>0</td>\n",
              "      <td>0</td>\n",
              "      <td>16</td>\n",
              "    </tr>\n",
              "    <tr>\n",
              "      <th>2</th>\n",
              "      <td>device:00:ee:bd:c2:2e:ba</td>\n",
              "      <td>2015-11-21</td>\n",
              "      <td>0</td>\n",
              "      <td>2015-11-21 14:17:56.76</td>\n",
              "      <td>2015-11-21 17:06:16.50</td>\n",
              "      <td>10100.0</td>\n",
              "      <td>124.0</td>\n",
              "      <td>33</td>\n",
              "      <td>7</td>\n",
              "      <td>82</td>\n",
              "      <td>...</td>\n",
              "      <td>0</td>\n",
              "      <td>0</td>\n",
              "      <td>0</td>\n",
              "      <td>9</td>\n",
              "      <td>0</td>\n",
              "      <td>0</td>\n",
              "      <td>0</td>\n",
              "      <td>0</td>\n",
              "      <td>3</td>\n",
              "      <td>8</td>\n",
              "    </tr>\n",
              "    <tr>\n",
              "      <th>3</th>\n",
              "      <td>device:00:ee:bd:c2:37:17</td>\n",
              "      <td>2015-11-21</td>\n",
              "      <td>0</td>\n",
              "      <td>2015-11-21 20:35:30.40</td>\n",
              "      <td>2015-11-22 00:22:01.44</td>\n",
              "      <td>13591.0</td>\n",
              "      <td>109.0</td>\n",
              "      <td>29</td>\n",
              "      <td>13</td>\n",
              "      <td>125</td>\n",
              "      <td>...</td>\n",
              "      <td>0</td>\n",
              "      <td>0</td>\n",
              "      <td>0</td>\n",
              "      <td>0</td>\n",
              "      <td>80</td>\n",
              "      <td>20</td>\n",
              "      <td>0</td>\n",
              "      <td>2</td>\n",
              "      <td>6</td>\n",
              "      <td>30</td>\n",
              "    </tr>\n",
              "    <tr>\n",
              "      <th>4</th>\n",
              "      <td>device:00:ee:bd:c2:37:17</td>\n",
              "      <td>2016-03-21</td>\n",
              "      <td>0</td>\n",
              "      <td>2016-03-21 17:49:45.72</td>\n",
              "      <td>2016-03-21 17:57:55.42</td>\n",
              "      <td>490.0</td>\n",
              "      <td>122.0</td>\n",
              "      <td>3</td>\n",
              "      <td>2</td>\n",
              "      <td>5</td>\n",
              "      <td>...</td>\n",
              "      <td>0</td>\n",
              "      <td>0</td>\n",
              "      <td>0</td>\n",
              "      <td>0</td>\n",
              "      <td>0</td>\n",
              "      <td>0</td>\n",
              "      <td>0</td>\n",
              "      <td>0</td>\n",
              "      <td>1</td>\n",
              "      <td>4</td>\n",
              "    </tr>\n",
              "    <tr>\n",
              "      <th>5</th>\n",
              "      <td>device:00:ee:bd:c2:49:ef</td>\n",
              "      <td>2016-01-02</td>\n",
              "      <td>0</td>\n",
              "      <td>2016-01-02 22:41:38.00</td>\n",
              "      <td>2016-01-02 22:56:03.03</td>\n",
              "      <td>865.0</td>\n",
              "      <td>45.0</td>\n",
              "      <td>17</td>\n",
              "      <td>2</td>\n",
              "      <td>20</td>\n",
              "      <td>...</td>\n",
              "      <td>8</td>\n",
              "      <td>0</td>\n",
              "      <td>6</td>\n",
              "      <td>6</td>\n",
              "      <td>0</td>\n",
              "      <td>0</td>\n",
              "      <td>0</td>\n",
              "      <td>0</td>\n",
              "      <td>3</td>\n",
              "      <td>2</td>\n",
              "    </tr>\n",
              "    <tr>\n",
              "      <th>6</th>\n",
              "      <td>device:00:ee:bd:c2:67:2a</td>\n",
              "      <td>2015-12-06</td>\n",
              "      <td>0</td>\n",
              "      <td>2015-12-06 14:08:26.79</td>\n",
              "      <td>2015-12-06 15:03:54.57</td>\n",
              "      <td>3328.0</td>\n",
              "      <td>89.0</td>\n",
              "      <td>25</td>\n",
              "      <td>2</td>\n",
              "      <td>38</td>\n",
              "      <td>...</td>\n",
              "      <td>0</td>\n",
              "      <td>0</td>\n",
              "      <td>0</td>\n",
              "      <td>0</td>\n",
              "      <td>2</td>\n",
              "      <td>0</td>\n",
              "      <td>9</td>\n",
              "      <td>5</td>\n",
              "      <td>0</td>\n",
              "      <td>2</td>\n",
              "    </tr>\n",
              "    <tr>\n",
              "      <th>7</th>\n",
              "      <td>device:00:ee:bd:c2:67:2a</td>\n",
              "      <td>2016-02-13</td>\n",
              "      <td>0</td>\n",
              "      <td>2016-02-13 11:32:12.51</td>\n",
              "      <td>2016-02-13 20:28:02.12</td>\n",
              "      <td>32150.0</td>\n",
              "      <td>175.0</td>\n",
              "      <td>31</td>\n",
              "      <td>43</td>\n",
              "      <td>184</td>\n",
              "      <td>...</td>\n",
              "      <td>9</td>\n",
              "      <td>0</td>\n",
              "      <td>0</td>\n",
              "      <td>0</td>\n",
              "      <td>0</td>\n",
              "      <td>0</td>\n",
              "      <td>0</td>\n",
              "      <td>0</td>\n",
              "      <td>0</td>\n",
              "      <td>3</td>\n",
              "    </tr>\n",
              "    <tr>\n",
              "      <th>8</th>\n",
              "      <td>device:00:ee:bd:c2:67:2a</td>\n",
              "      <td>2016-02-20</td>\n",
              "      <td>0</td>\n",
              "      <td>2016-02-20 15:40:39.14</td>\n",
              "      <td>2016-02-20 20:25:57.48</td>\n",
              "      <td>17118.0</td>\n",
              "      <td>178.0</td>\n",
              "      <td>22</td>\n",
              "      <td>14</td>\n",
              "      <td>97</td>\n",
              "      <td>...</td>\n",
              "      <td>5</td>\n",
              "      <td>0</td>\n",
              "      <td>0</td>\n",
              "      <td>0</td>\n",
              "      <td>0</td>\n",
              "      <td>0</td>\n",
              "      <td>0</td>\n",
              "      <td>0</td>\n",
              "      <td>0</td>\n",
              "      <td>5</td>\n",
              "    </tr>\n",
              "    <tr>\n",
              "      <th>9</th>\n",
              "      <td>device:00:f4:6f:6b:9d:eb</td>\n",
              "      <td>2015-12-05</td>\n",
              "      <td>0</td>\n",
              "      <td>2015-12-05 12:52:04.82</td>\n",
              "      <td>2015-12-05 17:39:52.48</td>\n",
              "      <td>17268.0</td>\n",
              "      <td>134.0</td>\n",
              "      <td>71</td>\n",
              "      <td>10</td>\n",
              "      <td>129</td>\n",
              "      <td>...</td>\n",
              "      <td>1</td>\n",
              "      <td>0</td>\n",
              "      <td>0</td>\n",
              "      <td>0</td>\n",
              "      <td>0</td>\n",
              "      <td>0</td>\n",
              "      <td>0</td>\n",
              "      <td>0</td>\n",
              "      <td>0</td>\n",
              "      <td>23</td>\n",
              "    </tr>\n",
              "  </tbody>\n",
              "</table>\n",
              "<p>10 rows × 108 columns</p>\n",
              "</div>"
            ],
            "text/plain": [
              "                     device session_date  apple_flag              entry_time  \\\n",
              "0  device:00:ee:bd:c2:2a:2b   2015-11-08           0  2015-11-08 12:17:15.25   \n",
              "1  device:00:ee:bd:c2:2c:93   2016-03-26           0  2016-03-26 14:13:24.45   \n",
              "2  device:00:ee:bd:c2:2e:ba   2015-11-21           0  2015-11-21 14:17:56.76   \n",
              "3  device:00:ee:bd:c2:37:17   2015-11-21           0  2015-11-21 20:35:30.40   \n",
              "4  device:00:ee:bd:c2:37:17   2016-03-21           0  2016-03-21 17:49:45.72   \n",
              "5  device:00:ee:bd:c2:49:ef   2016-01-02           0  2016-01-02 22:41:38.00   \n",
              "6  device:00:ee:bd:c2:67:2a   2015-12-06           0  2015-12-06 14:08:26.79   \n",
              "7  device:00:ee:bd:c2:67:2a   2016-02-13           0  2016-02-13 11:32:12.51   \n",
              "8  device:00:ee:bd:c2:67:2a   2016-02-20           0  2016-02-20 15:40:39.14   \n",
              "9  device:00:f4:6f:6b:9d:eb   2015-12-05           0  2015-12-05 12:52:04.82   \n",
              "\n",
              "                exit_time  duration  avg_time_session_update  distinct_ap  \\\n",
              "0  2015-11-08 12:23:53.57     398.0                    199.0            1   \n",
              "1  2016-03-26 18:57:53.54   17069.0                    107.0           75   \n",
              "2  2015-11-21 17:06:16.50   10100.0                    124.0           33   \n",
              "3  2015-11-22 00:22:01.44   13591.0                    109.0           29   \n",
              "4  2016-03-21 17:57:55.42     490.0                    122.0            3   \n",
              "5  2016-01-02 22:56:03.03     865.0                     45.0           17   \n",
              "6  2015-12-06 15:03:54.57    3328.0                     89.0           25   \n",
              "7  2016-02-13 20:28:02.12   32150.0                    175.0           31   \n",
              "8  2016-02-20 20:25:57.48   17118.0                    178.0           22   \n",
              "9  2015-12-05 17:39:52.48   17268.0                    134.0           71   \n",
              "\n",
              "   distinct_sessions  total_updates  ...  session_updates_3_S  \\\n",
              "0                  1              3  ...                    0   \n",
              "1                 35            160  ...                    0   \n",
              "2                  7             82  ...                    0   \n",
              "3                 13            125  ...                    0   \n",
              "4                  2              5  ...                    0   \n",
              "5                  2             20  ...                    8   \n",
              "6                  2             38  ...                    0   \n",
              "7                 43            184  ...                    9   \n",
              "8                 14             97  ...                    5   \n",
              "9                 10            129  ...                    1   \n",
              "\n",
              "   session_updates_3_SE  session_updates_3_SW  session_updates_3_W  \\\n",
              "0                     0                     0                    3   \n",
              "1                     0                     0                    0   \n",
              "2                     0                     0                    9   \n",
              "3                     0                     0                    0   \n",
              "4                     0                     0                    0   \n",
              "5                     0                     6                    6   \n",
              "6                     0                     0                    0   \n",
              "7                     0                     0                    0   \n",
              "8                     0                     0                    0   \n",
              "9                     0                     0                    0   \n",
              "\n",
              "   session_updates_4_E  session_updates_4_NE  session_updates_4_S  \\\n",
              "0                    0                     0                    0   \n",
              "1                    0                     0                    0   \n",
              "2                    0                     0                    0   \n",
              "3                   80                    20                    0   \n",
              "4                    0                     0                    0   \n",
              "5                    0                     0                    0   \n",
              "6                    2                     0                    9   \n",
              "7                    0                     0                    0   \n",
              "8                    0                     0                    0   \n",
              "9                    0                     0                    0   \n",
              "\n",
              "   session_updates_4_SE  session_updates_outside  session_updates_entrance  \n",
              "0                     0                        0                         3  \n",
              "1                     0                        0                        16  \n",
              "2                     0                        3                         8  \n",
              "3                     2                        6                        30  \n",
              "4                     0                        1                         4  \n",
              "5                     0                        3                         2  \n",
              "6                     5                        0                         2  \n",
              "7                     0                        0                         3  \n",
              "8                     0                        0                         5  \n",
              "9                     0                        0                        23  \n",
              "\n",
              "[10 rows x 108 columns]"
            ]
          },
          "execution_count": 7,
          "metadata": {},
          "output_type": "execute_result"
        }
      ],
      "source": [
        "moa_analytics_df.head(10)"
      ]
    },
    {
      "cell_type": "code",
      "execution_count": null,
      "id": "c6f5d69d",
      "metadata": {
        "id": "c6f5d69d",
        "outputId": "fa1543e2-0073-4bb7-9415-1040281f6a0f"
      },
      "outputs": [
        {
          "name": "stdout",
          "output_type": "stream",
          "text": [
            "<class 'pandas.core.frame.DataFrame'>\n",
            "RangeIndex: 12621 entries, 0 to 12620\n",
            "Data columns (total 18 columns):\n",
            " #   Column                     Non-Null Count  Dtype         \n",
            "---  ------                     --------------  -----         \n",
            " 0   device                     12621 non-null  object        \n",
            " 1   session_date               12621 non-null  datetime64[ns]\n",
            " 2   apple_flag                 12621 non-null  int64         \n",
            " 3   entry_time                 12621 non-null  object        \n",
            " 4   exit_time                  12621 non-null  object        \n",
            " 5   duration                   12614 non-null  float64       \n",
            " 6   avg_time_session_update    12614 non-null  float64       \n",
            " 7   distinct_ap                12621 non-null  int64         \n",
            " 8   distinct_sessions          12621 non-null  int64         \n",
            " 9   total_updates              12621 non-null  int64         \n",
            " 10  time_per_distinct_ap       12614 non-null  float64       \n",
            " 11  distinct_sections_visited  12621 non-null  int64         \n",
            " 12  distinct_levels_visited    12621 non-null  int64         \n",
            " 13  weekend_flag               12621 non-null  int64         \n",
            " 14  day_of_week                12621 non-null  int64         \n",
            " 15  time_northfoodcourt        12621 non-null  int64         \n",
            " 16  time_southfoodcourt        12621 non-null  int64         \n",
            " 17  time_southrestaurant       12621 non-null  int64         \n",
            "dtypes: datetime64[ns](1), float64(3), int64(11), object(3)\n",
            "memory usage: 1.7+ MB\n"
          ]
        }
      ],
      "source": [
        "moa_analytics_df.iloc[:, :18].info()"
      ]
    },
    {
      "cell_type": "markdown",
      "id": "149c041d",
      "metadata": {
        "id": "149c041d"
      },
      "source": [
        "### Are there any missing Values?"
      ]
    },
    {
      "cell_type": "code",
      "execution_count": null,
      "id": "938f9172",
      "metadata": {
        "id": "938f9172"
      },
      "outputs": [],
      "source": [
        "nan_cols = moa_analytics_df.columns[moa_analytics_df.isnull().any()]"
      ]
    },
    {
      "cell_type": "code",
      "execution_count": null,
      "id": "f604e1fc",
      "metadata": {
        "id": "f604e1fc",
        "outputId": "3ca32988-1dcf-4ede-d5bc-7b8e85e09b78"
      },
      "outputs": [
        {
          "data": {
            "text/plain": [
              "duration                   7\n",
              "avg_time_session_update    7\n",
              "time_per_distinct_ap       7\n",
              "time_0                     2\n",
              "time_1                     2\n",
              "time_2                     2\n",
              "time_3                     1\n",
              "time_0_E                   1\n",
              "time_0_SE                  1\n",
              "time_1_E                   1\n",
              "time_1_SE                  1\n",
              "time_2_SW                  1\n",
              "time_2_W                   1\n",
              "time_3_E                   1\n",
              "time_outside               3\n",
              "time_entrance              2\n",
              "dtype: int64"
            ]
          },
          "execution_count": 10,
          "metadata": {},
          "output_type": "execute_result"
        }
      ],
      "source": [
        "moa_analytics_df[nan_cols].isnull().sum()"
      ]
    },
    {
      "cell_type": "markdown",
      "id": "3c729189",
      "metadata": {
        "id": "3c729189"
      },
      "source": [
        "### Dropping the missing values"
      ]
    },
    {
      "cell_type": "code",
      "execution_count": null,
      "id": "001dad28",
      "metadata": {
        "id": "001dad28"
      },
      "outputs": [],
      "source": [
        "moa_analytics_df = moa_analytics_df.dropna()"
      ]
    },
    {
      "cell_type": "code",
      "execution_count": null,
      "id": "f77b33f8",
      "metadata": {
        "id": "f77b33f8",
        "outputId": "814cdc7f-949b-4451-b975-cd9f51204afa"
      },
      "outputs": [
        {
          "data": {
            "text/plain": [
              "Index([], dtype='object')"
            ]
          },
          "execution_count": 12,
          "metadata": {},
          "output_type": "execute_result"
        }
      ],
      "source": [
        "moa_analytics_df.columns[moa_analytics_df.isnull().any()]"
      ]
    },
    {
      "cell_type": "markdown",
      "id": "7cb54957",
      "metadata": {
        "id": "7cb54957"
      },
      "source": [
        "### We have session data for what duration?"
      ]
    },
    {
      "cell_type": "code",
      "execution_count": null,
      "id": "0c69e005",
      "metadata": {
        "id": "0c69e005",
        "outputId": "362c8e78-6ce9-462e-b841-8f08ee823c94"
      },
      "outputs": [
        {
          "data": {
            "text/plain": [
              "(Timestamp('2015-10-15 00:00:00'), Timestamp('2016-04-03 00:00:00'))"
            ]
          },
          "execution_count": 13,
          "metadata": {},
          "output_type": "execute_result"
        }
      ],
      "source": [
        "moa_analytics_df.session_date.min(), moa_analytics_df.session_date.max()"
      ]
    },
    {
      "cell_type": "markdown",
      "id": "9490c30e",
      "metadata": {
        "id": "9490c30e"
      },
      "source": [
        "### We will take data for only 2016"
      ]
    },
    {
      "cell_type": "code",
      "execution_count": null,
      "id": "04c44828",
      "metadata": {
        "id": "04c44828"
      },
      "outputs": [],
      "source": [
        "moa_analytics_2016_df = moa_analytics_df[moa_analytics_df.session_date >= '2016-01-01']"
      ]
    },
    {
      "cell_type": "code",
      "execution_count": null,
      "id": "cab9c302",
      "metadata": {
        "id": "cab9c302",
        "outputId": "e85d5d58-5b17-4aeb-c74a-6ab41fdc048a"
      },
      "outputs": [
        {
          "data": {
            "text/plain": [
              "(7702, 108)"
            ]
          },
          "execution_count": 15,
          "metadata": {},
          "output_type": "execute_result"
        }
      ],
      "source": [
        "moa_analytics_2016_df.shape"
      ]
    },
    {
      "cell_type": "markdown",
      "id": "8fa01bda",
      "metadata": {
        "id": "8fa01bda"
      },
      "source": [
        "## Aggregate Statistics\n",
        "\n",
        "- Number of visits by each customer\n",
        "- Median duration spent in the mall"
      ]
    },
    {
      "cell_type": "code",
      "execution_count": null,
      "id": "17baf534",
      "metadata": {
        "id": "17baf534"
      },
      "outputs": [],
      "source": [
        "visits_duration_df = (moa_analytics_2016_df.groupby('device')\n",
        "                      .agg({'device':'count', 'duration':'sum'} )\n",
        "                      .rename(columns={'device':'num_visits','duration':'mean_duration'})\n",
        "                      .reset_index())"
      ]
    },
    {
      "cell_type": "code",
      "execution_count": null,
      "id": "79e3a9e9",
      "metadata": {
        "id": "79e3a9e9",
        "outputId": "7e03827f-ac3a-41de-c691-bbf5afcd8821"
      },
      "outputs": [
        {
          "data": {
            "text/plain": [
              "(3533, 3)"
            ]
          },
          "execution_count": 17,
          "metadata": {},
          "output_type": "execute_result"
        }
      ],
      "source": [
        "visits_duration_df.shape"
      ]
    },
    {
      "cell_type": "code",
      "execution_count": null,
      "id": "73590246",
      "metadata": {
        "id": "73590246",
        "outputId": "38962ac9-e9d1-4319-e694-c3d33153d414"
      },
      "outputs": [
        {
          "data": {
            "text/html": [
              "<div>\n",
              "<style scoped>\n",
              "    .dataframe tbody tr th:only-of-type {\n",
              "        vertical-align: middle;\n",
              "    }\n",
              "\n",
              "    .dataframe tbody tr th {\n",
              "        vertical-align: top;\n",
              "    }\n",
              "\n",
              "    .dataframe thead th {\n",
              "        text-align: right;\n",
              "    }\n",
              "</style>\n",
              "<table border=\"1\" class=\"dataframe\">\n",
              "  <thead>\n",
              "    <tr style=\"text-align: right;\">\n",
              "      <th></th>\n",
              "      <th>device</th>\n",
              "      <th>num_visits</th>\n",
              "      <th>mean_duration</th>\n",
              "    </tr>\n",
              "  </thead>\n",
              "  <tbody>\n",
              "    <tr>\n",
              "      <th>2024</th>\n",
              "      <td>device:a0:91:69:a6:d8:61</td>\n",
              "      <td>11</td>\n",
              "      <td>27079.0</td>\n",
              "    </tr>\n",
              "    <tr>\n",
              "      <th>1355</th>\n",
              "      <td>device:70:3e:ac:5d:be:64</td>\n",
              "      <td>2</td>\n",
              "      <td>2533.0</td>\n",
              "    </tr>\n",
              "    <tr>\n",
              "      <th>3376</th>\n",
              "      <td>device:fc:c2:de:94:c5:ec</td>\n",
              "      <td>1</td>\n",
              "      <td>1110.0</td>\n",
              "    </tr>\n",
              "    <tr>\n",
              "      <th>2502</th>\n",
              "      <td>device:c8:1e:e7:79:7b:8b</td>\n",
              "      <td>12</td>\n",
              "      <td>300812.0</td>\n",
              "    </tr>\n",
              "    <tr>\n",
              "      <th>1437</th>\n",
              "      <td>device:74:1b:b2:6d:92:fc</td>\n",
              "      <td>1</td>\n",
              "      <td>11846.0</td>\n",
              "    </tr>\n",
              "    <tr>\n",
              "      <th>2139</th>\n",
              "      <td>device:a4:c4:94:bd:a6:23</td>\n",
              "      <td>35</td>\n",
              "      <td>757869.0</td>\n",
              "    </tr>\n",
              "    <tr>\n",
              "      <th>2435</th>\n",
              "      <td>device:c0:bd:d1:ea:b1:0e</td>\n",
              "      <td>1</td>\n",
              "      <td>30507.0</td>\n",
              "    </tr>\n",
              "    <tr>\n",
              "      <th>3350</th>\n",
              "      <td>device:fc:c2:de:11:a4:68</td>\n",
              "      <td>1</td>\n",
              "      <td>421.0</td>\n",
              "    </tr>\n",
              "    <tr>\n",
              "      <th>46</th>\n",
              "      <td>device:00:ae:fa:ea:ea:3f</td>\n",
              "      <td>1</td>\n",
              "      <td>8223.0</td>\n",
              "    </tr>\n",
              "    <tr>\n",
              "      <th>1196</th>\n",
              "      <td>device:68:d9:3c:d7:5b:ca</td>\n",
              "      <td>1</td>\n",
              "      <td>6650.0</td>\n",
              "    </tr>\n",
              "  </tbody>\n",
              "</table>\n",
              "</div>"
            ],
            "text/plain": [
              "                        device  num_visits  mean_duration\n",
              "2024  device:a0:91:69:a6:d8:61          11        27079.0\n",
              "1355  device:70:3e:ac:5d:be:64           2         2533.0\n",
              "3376  device:fc:c2:de:94:c5:ec           1         1110.0\n",
              "2502  device:c8:1e:e7:79:7b:8b          12       300812.0\n",
              "1437  device:74:1b:b2:6d:92:fc           1        11846.0\n",
              "2139  device:a4:c4:94:bd:a6:23          35       757869.0\n",
              "2435  device:c0:bd:d1:ea:b1:0e           1        30507.0\n",
              "3350  device:fc:c2:de:11:a4:68           1          421.0\n",
              "46    device:00:ae:fa:ea:ea:3f           1         8223.0\n",
              "1196  device:68:d9:3c:d7:5b:ca           1         6650.0"
            ]
          },
          "execution_count": 18,
          "metadata": {},
          "output_type": "execute_result"
        }
      ],
      "source": [
        "visits_duration_df.sample(10)"
      ]
    },
    {
      "cell_type": "code",
      "execution_count": null,
      "id": "e11af5f3",
      "metadata": {
        "id": "e11af5f3",
        "outputId": "54e48e03-cfa7-4fa0-fbc5-e240c01b2f56"
      },
      "outputs": [
        {
          "data": {
            "image/png": "[encoded data removed]",
            "text/plain": [
              "<Figure size 640x480 with 1 Axes>"
            ]
          },
          "metadata": {},
          "output_type": "display_data"
        }
      ],
      "source": [
        "sn.histplot( visits_duration_df.num_visits );"
      ]
    },
    {
      "cell_type": "code",
      "execution_count": null,
      "id": "2ca994b7",
      "metadata": {
        "id": "2ca994b7",
        "outputId": "eca3c124-5973-4676-a318-6519ed8b0e5a"
      },
      "outputs": [
        {
          "data": {
            "text/plain": [
              "<Axes: xlabel='mean_duration', ylabel='Density'>"
            ]
          },
          "execution_count": 20,
          "metadata": {},
          "output_type": "execute_result"
        },
        {
          "data": {
            "image/png": "[encoded data removed]",
            "text/plain": [
              "<Figure size 640x480 with 1 Axes>"
            ]
          },
          "metadata": {},
          "output_type": "display_data"
        }
      ],
      "source": [
        "sn.kdeplot( visits_duration_df.mean_duration )"
      ]
    },
    {
      "cell_type": "code",
      "execution_count": null,
      "id": "d8bec89c",
      "metadata": {
        "id": "d8bec89c",
        "outputId": "86362058-f5b7-46a9-ebcf-305a1475cdb1"
      },
      "outputs": [
        {
          "data": {
            "image/png": "[encoded data removed]",
            "text/plain": [
              "<Figure size 2000x600 with 1 Axes>"
            ]
          },
          "metadata": {},
          "output_type": "display_data"
        }
      ],
      "source": [
        "plt.figure(figsize = (20, 6))\n",
        "sn.scatterplot( data = visits_duration_df,\n",
        "                x = 'num_visits',\n",
        "                y = 'mean_duration' );"
      ]
    },
    {
      "cell_type": "code",
      "execution_count": null,
      "id": "e56fba34",
      "metadata": {
        "id": "e56fba34",
        "outputId": "039de80d-9411-4136-ed74-f29de806c2cc"
      },
      "outputs": [
        {
          "data": {
            "text/html": [
              "<div>\n",
              "<style scoped>\n",
              "    .dataframe tbody tr th:only-of-type {\n",
              "        vertical-align: middle;\n",
              "    }\n",
              "\n",
              "    .dataframe tbody tr th {\n",
              "        vertical-align: top;\n",
              "    }\n",
              "\n",
              "    .dataframe thead th {\n",
              "        text-align: right;\n",
              "    }\n",
              "</style>\n",
              "<table border=\"1\" class=\"dataframe\">\n",
              "  <thead>\n",
              "    <tr style=\"text-align: right;\">\n",
              "      <th></th>\n",
              "      <th>device</th>\n",
              "      <th>session_date</th>\n",
              "      <th>apple_flag</th>\n",
              "      <th>entry_time</th>\n",
              "      <th>exit_time</th>\n",
              "      <th>duration</th>\n",
              "      <th>avg_time_session_update</th>\n",
              "      <th>distinct_ap</th>\n",
              "      <th>distinct_sessions</th>\n",
              "      <th>total_updates</th>\n",
              "      <th>...</th>\n",
              "      <th>session_updates_3_S</th>\n",
              "      <th>session_updates_3_SE</th>\n",
              "      <th>session_updates_3_SW</th>\n",
              "      <th>session_updates_3_W</th>\n",
              "      <th>session_updates_4_E</th>\n",
              "      <th>session_updates_4_NE</th>\n",
              "      <th>session_updates_4_S</th>\n",
              "      <th>session_updates_4_SE</th>\n",
              "      <th>session_updates_outside</th>\n",
              "      <th>session_updates_entrance</th>\n",
              "    </tr>\n",
              "  </thead>\n",
              "  <tbody>\n",
              "    <tr>\n",
              "      <th>1</th>\n",
              "      <td>device:00:ee:bd:c2:2c:93</td>\n",
              "      <td>2016-03-26</td>\n",
              "      <td>0</td>\n",
              "      <td>2016-03-26 14:13:24.45</td>\n",
              "      <td>2016-03-26 18:57:53.54</td>\n",
              "      <td>17069.0</td>\n",
              "      <td>107.0</td>\n",
              "      <td>75</td>\n",
              "      <td>35</td>\n",
              "      <td>160</td>\n",
              "      <td>...</td>\n",
              "      <td>0</td>\n",
              "      <td>0</td>\n",
              "      <td>0</td>\n",
              "      <td>0</td>\n",
              "      <td>0</td>\n",
              "      <td>0</td>\n",
              "      <td>0</td>\n",
              "      <td>0</td>\n",
              "      <td>0</td>\n",
              "      <td>16</td>\n",
              "    </tr>\n",
              "    <tr>\n",
              "      <th>4</th>\n",
              "      <td>device:00:ee:bd:c2:37:17</td>\n",
              "      <td>2016-03-21</td>\n",
              "      <td>0</td>\n",
              "      <td>2016-03-21 17:49:45.72</td>\n",
              "      <td>2016-03-21 17:57:55.42</td>\n",
              "      <td>490.0</td>\n",
              "      <td>122.0</td>\n",
              "      <td>3</td>\n",
              "      <td>2</td>\n",
              "      <td>5</td>\n",
              "      <td>...</td>\n",
              "      <td>0</td>\n",
              "      <td>0</td>\n",
              "      <td>0</td>\n",
              "      <td>0</td>\n",
              "      <td>0</td>\n",
              "      <td>0</td>\n",
              "      <td>0</td>\n",
              "      <td>0</td>\n",
              "      <td>1</td>\n",
              "      <td>4</td>\n",
              "    </tr>\n",
              "    <tr>\n",
              "      <th>5</th>\n",
              "      <td>device:00:ee:bd:c2:49:ef</td>\n",
              "      <td>2016-01-02</td>\n",
              "      <td>0</td>\n",
              "      <td>2016-01-02 22:41:38.00</td>\n",
              "      <td>2016-01-02 22:56:03.03</td>\n",
              "      <td>865.0</td>\n",
              "      <td>45.0</td>\n",
              "      <td>17</td>\n",
              "      <td>2</td>\n",
              "      <td>20</td>\n",
              "      <td>...</td>\n",
              "      <td>8</td>\n",
              "      <td>0</td>\n",
              "      <td>6</td>\n",
              "      <td>6</td>\n",
              "      <td>0</td>\n",
              "      <td>0</td>\n",
              "      <td>0</td>\n",
              "      <td>0</td>\n",
              "      <td>3</td>\n",
              "      <td>2</td>\n",
              "    </tr>\n",
              "    <tr>\n",
              "      <th>7</th>\n",
              "      <td>device:00:ee:bd:c2:67:2a</td>\n",
              "      <td>2016-02-13</td>\n",
              "      <td>0</td>\n",
              "      <td>2016-02-13 11:32:12.51</td>\n",
              "      <td>2016-02-13 20:28:02.12</td>\n",
              "      <td>32150.0</td>\n",
              "      <td>175.0</td>\n",
              "      <td>31</td>\n",
              "      <td>43</td>\n",
              "      <td>184</td>\n",
              "      <td>...</td>\n",
              "      <td>9</td>\n",
              "      <td>0</td>\n",
              "      <td>0</td>\n",
              "      <td>0</td>\n",
              "      <td>0</td>\n",
              "      <td>0</td>\n",
              "      <td>0</td>\n",
              "      <td>0</td>\n",
              "      <td>0</td>\n",
              "      <td>3</td>\n",
              "    </tr>\n",
              "    <tr>\n",
              "      <th>8</th>\n",
              "      <td>device:00:ee:bd:c2:67:2a</td>\n",
              "      <td>2016-02-20</td>\n",
              "      <td>0</td>\n",
              "      <td>2016-02-20 15:40:39.14</td>\n",
              "      <td>2016-02-20 20:25:57.48</td>\n",
              "      <td>17118.0</td>\n",
              "      <td>178.0</td>\n",
              "      <td>22</td>\n",
              "      <td>14</td>\n",
              "      <td>97</td>\n",
              "      <td>...</td>\n",
              "      <td>5</td>\n",
              "      <td>0</td>\n",
              "      <td>0</td>\n",
              "      <td>0</td>\n",
              "      <td>0</td>\n",
              "      <td>0</td>\n",
              "      <td>0</td>\n",
              "      <td>0</td>\n",
              "      <td>0</td>\n",
              "      <td>5</td>\n",
              "    </tr>\n",
              "    <tr>\n",
              "      <th>10</th>\n",
              "      <td>device:00:f4:6f:76:9e:78</td>\n",
              "      <td>2016-01-25</td>\n",
              "      <td>0</td>\n",
              "      <td>2016-01-25 15:40:24.46</td>\n",
              "      <td>2016-01-25 19:21:51.98</td>\n",
              "      <td>13287.0</td>\n",
              "      <td>168.0</td>\n",
              "      <td>45</td>\n",
              "      <td>2</td>\n",
              "      <td>80</td>\n",
              "      <td>...</td>\n",
              "      <td>6</td>\n",
              "      <td>10</td>\n",
              "      <td>0</td>\n",
              "      <td>0</td>\n",
              "      <td>18</td>\n",
              "      <td>0</td>\n",
              "      <td>0</td>\n",
              "      <td>0</td>\n",
              "      <td>4</td>\n",
              "      <td>12</td>\n",
              "    </tr>\n",
              "    <tr>\n",
              "      <th>11</th>\n",
              "      <td>device:00:f4:6f:9b:f2:a7</td>\n",
              "      <td>2016-01-17</td>\n",
              "      <td>0</td>\n",
              "      <td>2016-01-17 19:10:01.53</td>\n",
              "      <td>2016-01-17 19:18:10.23</td>\n",
              "      <td>489.0</td>\n",
              "      <td>122.0</td>\n",
              "      <td>2</td>\n",
              "      <td>1</td>\n",
              "      <td>5</td>\n",
              "      <td>...</td>\n",
              "      <td>0</td>\n",
              "      <td>0</td>\n",
              "      <td>0</td>\n",
              "      <td>5</td>\n",
              "      <td>0</td>\n",
              "      <td>0</td>\n",
              "      <td>0</td>\n",
              "      <td>0</td>\n",
              "      <td>2</td>\n",
              "      <td>3</td>\n",
              "    </tr>\n",
              "    <tr>\n",
              "      <th>12</th>\n",
              "      <td>device:00:f4:6f:a2:ba:a5</td>\n",
              "      <td>2016-01-09</td>\n",
              "      <td>0</td>\n",
              "      <td>2016-01-09 17:30:15.52</td>\n",
              "      <td>2016-01-09 18:23:54.65</td>\n",
              "      <td>3219.0</td>\n",
              "      <td>91.0</td>\n",
              "      <td>20</td>\n",
              "      <td>2</td>\n",
              "      <td>36</td>\n",
              "      <td>...</td>\n",
              "      <td>0</td>\n",
              "      <td>5</td>\n",
              "      <td>0</td>\n",
              "      <td>0</td>\n",
              "      <td>1</td>\n",
              "      <td>0</td>\n",
              "      <td>0</td>\n",
              "      <td>1</td>\n",
              "      <td>8</td>\n",
              "      <td>4</td>\n",
              "    </tr>\n",
              "    <tr>\n",
              "      <th>14</th>\n",
              "      <td>device:04:4b:ed:06:7f:e1</td>\n",
              "      <td>2016-01-07</td>\n",
              "      <td>1</td>\n",
              "      <td>2016-01-07 16:14:30.46</td>\n",
              "      <td>2016-01-07 21:22:36.70</td>\n",
              "      <td>18486.0</td>\n",
              "      <td>116.0</td>\n",
              "      <td>50</td>\n",
              "      <td>13</td>\n",
              "      <td>160</td>\n",
              "      <td>...</td>\n",
              "      <td>3</td>\n",
              "      <td>4</td>\n",
              "      <td>0</td>\n",
              "      <td>0</td>\n",
              "      <td>0</td>\n",
              "      <td>0</td>\n",
              "      <td>4</td>\n",
              "      <td>0</td>\n",
              "      <td>2</td>\n",
              "      <td>9</td>\n",
              "    </tr>\n",
              "    <tr>\n",
              "      <th>17</th>\n",
              "      <td>device:04:4b:ed:06:ee:68</td>\n",
              "      <td>2016-01-30</td>\n",
              "      <td>1</td>\n",
              "      <td>2016-01-30 11:30:13.51</td>\n",
              "      <td>2016-01-30 15:57:02.28</td>\n",
              "      <td>16009.0</td>\n",
              "      <td>80.0</td>\n",
              "      <td>97</td>\n",
              "      <td>20</td>\n",
              "      <td>199</td>\n",
              "      <td>...</td>\n",
              "      <td>0</td>\n",
              "      <td>0</td>\n",
              "      <td>0</td>\n",
              "      <td>0</td>\n",
              "      <td>0</td>\n",
              "      <td>0</td>\n",
              "      <td>0</td>\n",
              "      <td>0</td>\n",
              "      <td>0</td>\n",
              "      <td>6</td>\n",
              "    </tr>\n",
              "  </tbody>\n",
              "</table>\n",
              "<p>10 rows × 108 columns</p>\n",
              "</div>"
            ],
            "text/plain": [
              "                      device session_date  apple_flag              entry_time  \\\n",
              "1   device:00:ee:bd:c2:2c:93   2016-03-26           0  2016-03-26 14:13:24.45   \n",
              "4   device:00:ee:bd:c2:37:17   2016-03-21           0  2016-03-21 17:49:45.72   \n",
              "5   device:00:ee:bd:c2:49:ef   2016-01-02           0  2016-01-02 22:41:38.00   \n",
              "7   device:00:ee:bd:c2:67:2a   2016-02-13           0  2016-02-13 11:32:12.51   \n",
              "8   device:00:ee:bd:c2:67:2a   2016-02-20           0  2016-02-20 15:40:39.14   \n",
              "10  device:00:f4:6f:76:9e:78   2016-01-25           0  2016-01-25 15:40:24.46   \n",
              "11  device:00:f4:6f:9b:f2:a7   2016-01-17           0  2016-01-17 19:10:01.53   \n",
              "12  device:00:f4:6f:a2:ba:a5   2016-01-09           0  2016-01-09 17:30:15.52   \n",
              "14  device:04:4b:ed:06:7f:e1   2016-01-07           1  2016-01-07 16:14:30.46   \n",
              "17  device:04:4b:ed:06:ee:68   2016-01-30           1  2016-01-30 11:30:13.51   \n",
              "\n",
              "                 exit_time  duration  avg_time_session_update  distinct_ap  \\\n",
              "1   2016-03-26 18:57:53.54   17069.0                    107.0           75   \n",
              "4   2016-03-21 17:57:55.42     490.0                    122.0            3   \n",
              "5   2016-01-02 22:56:03.03     865.0                     45.0           17   \n",
              "7   2016-02-13 20:28:02.12   32150.0                    175.0           31   \n",
              "8   2016-02-20 20:25:57.48   17118.0                    178.0           22   \n",
              "10  2016-01-25 19:21:51.98   13287.0                    168.0           45   \n",
              "11  2016-01-17 19:18:10.23     489.0                    122.0            2   \n",
              "12  2016-01-09 18:23:54.65    3219.0                     91.0           20   \n",
              "14  2016-01-07 21:22:36.70   18486.0                    116.0           50   \n",
              "17  2016-01-30 15:57:02.28   16009.0                     80.0           97   \n",
              "\n",
              "    distinct_sessions  total_updates  ...  session_updates_3_S  \\\n",
              "1                  35            160  ...                    0   \n",
              "4                   2              5  ...                    0   \n",
              "5                   2             20  ...                    8   \n",
              "7                  43            184  ...                    9   \n",
              "8                  14             97  ...                    5   \n",
              "10                  2             80  ...                    6   \n",
              "11                  1              5  ...                    0   \n",
              "12                  2             36  ...                    0   \n",
              "14                 13            160  ...                    3   \n",
              "17                 20            199  ...                    0   \n",
              "\n",
              "    session_updates_3_SE  session_updates_3_SW  session_updates_3_W  \\\n",
              "1                      0                     0                    0   \n",
              "4                      0                     0                    0   \n",
              "5                      0                     6                    6   \n",
              "7                      0                     0                    0   \n",
              "8                      0                     0                    0   \n",
              "10                    10                     0                    0   \n",
              "11                     0                     0                    5   \n",
              "12                     5                     0                    0   \n",
              "14                     4                     0                    0   \n",
              "17                     0                     0                    0   \n",
              "\n",
              "    session_updates_4_E  session_updates_4_NE  session_updates_4_S  \\\n",
              "1                     0                     0                    0   \n",
              "4                     0                     0                    0   \n",
              "5                     0                     0                    0   \n",
              "7                     0                     0                    0   \n",
              "8                     0                     0                    0   \n",
              "10                   18                     0                    0   \n",
              "11                    0                     0                    0   \n",
              "12                    1                     0                    0   \n",
              "14                    0                     0                    4   \n",
              "17                    0                     0                    0   \n",
              "\n",
              "    session_updates_4_SE  session_updates_outside  session_updates_entrance  \n",
              "1                      0                        0                        16  \n",
              "4                      0                        1                         4  \n",
              "5                      0                        3                         2  \n",
              "7                      0                        0                         3  \n",
              "8                      0                        0                         5  \n",
              "10                     0                        4                        12  \n",
              "11                     0                        2                         3  \n",
              "12                     1                        8                         4  \n",
              "14                     0                        2                         9  \n",
              "17                     0                        0                         6  \n",
              "\n",
              "[10 rows x 108 columns]"
            ]
          },
          "execution_count": 22,
          "metadata": {},
          "output_type": "execute_result"
        }
      ],
      "source": [
        "moa_analytics_2016_df.head(10)"
      ]
    },
    {
      "cell_type": "code",
      "execution_count": null,
      "id": "9603c348",
      "metadata": {
        "id": "9603c348"
      },
      "outputs": [],
      "source": [
        "levels_time_cols = ['time_0',\n",
        "                    'time_1',\n",
        "                    'time_2',\n",
        "                    'time_3',\n",
        "                    'time_4']"
      ]
    },
    {
      "cell_type": "code",
      "execution_count": null,
      "id": "856731a0",
      "metadata": {
        "id": "856731a0"
      },
      "outputs": [],
      "source": [
        "moa_analytics_2016_df = moa_analytics_2016_df.merge( visits_duration_df , on = 'device')"
      ]
    },
    {
      "cell_type": "code",
      "execution_count": null,
      "id": "e71a4299",
      "metadata": {
        "id": "e71a4299"
      },
      "outputs": [],
      "source": [
        "duration_levels_df = (moa_analytics_2016_df[[\"device\"] + levels_time_cols].groupby('device')\n",
        "                      .sum()\n",
        "                      .reset_index())"
      ]
    },
    {
      "cell_type": "code",
      "execution_count": null,
      "id": "aceb7299",
      "metadata": {
        "id": "aceb7299",
        "outputId": "842d8655-0acf-4a6b-d7b7-a5b36e263dab"
      },
      "outputs": [
        {
          "data": {
            "image/png": "[encoded data removed]",
            "text/plain": [
              "<Figure size 640x480 with 1 Axes>"
            ]
          },
          "metadata": {},
          "output_type": "display_data"
        }
      ],
      "source": [
        "sn.scatterplot(data = duration_levels_df,\n",
        "               x = 'time_3',\n",
        "               y = 'time_4' );"
      ]
    },
    {
      "cell_type": "markdown",
      "id": "4bc0be5b",
      "metadata": {
        "id": "4bc0be5b"
      },
      "source": [
        "## Transforming the features\n",
        "\n",
        "- Number of visits by each customer\n",
        "- Median duration spent in the mall"
      ]
    },
    {
      "cell_type": "code",
      "execution_count": null,
      "id": "c44fd72d",
      "metadata": {
        "id": "c44fd72d"
      },
      "outputs": [],
      "source": [
        "from sklearn.preprocessing import power_transform"
      ]
    },
    {
      "cell_type": "code",
      "execution_count": null,
      "id": "bec2a097",
      "metadata": {
        "id": "bec2a097"
      },
      "outputs": [],
      "source": [
        "levels_time_transformed = power_transform(duration_levels_df[levels_time_cols] + 1,\n",
        "                                          method='box-cox',\n",
        "                                          standardize=False)"
      ]
    },
    {
      "cell_type": "code",
      "execution_count": null,
      "id": "54323656",
      "metadata": {
        "id": "54323656"
      },
      "outputs": [],
      "source": [
        "levels_time_transformed_df = pd.DataFrame(levels_time_transformed, columns=levels_time_cols)"
      ]
    },
    {
      "cell_type": "code",
      "execution_count": null,
      "id": "c525e1c9",
      "metadata": {
        "id": "c525e1c9",
        "outputId": "9c24d056-0754-490e-9aa5-a9db2aace7a0"
      },
      "outputs": [
        {
          "data": {
            "text/html": [
              "<div>\n",
              "<style scoped>\n",
              "    .dataframe tbody tr th:only-of-type {\n",
              "        vertical-align: middle;\n",
              "    }\n",
              "\n",
              "    .dataframe tbody tr th {\n",
              "        vertical-align: top;\n",
              "    }\n",
              "\n",
              "    .dataframe thead th {\n",
              "        text-align: right;\n",
              "    }\n",
              "</style>\n",
              "<table border=\"1\" class=\"dataframe\">\n",
              "  <thead>\n",
              "    <tr style=\"text-align: right;\">\n",
              "      <th></th>\n",
              "      <th>time_0</th>\n",
              "      <th>time_1</th>\n",
              "      <th>time_2</th>\n",
              "      <th>time_3</th>\n",
              "      <th>time_4</th>\n",
              "    </tr>\n",
              "  </thead>\n",
              "  <tbody>\n",
              "    <tr>\n",
              "      <th>0</th>\n",
              "      <td>0.000000</td>\n",
              "      <td>14.504845</td>\n",
              "      <td>0.000000</td>\n",
              "      <td>0.000000</td>\n",
              "      <td>0.000000</td>\n",
              "    </tr>\n",
              "    <tr>\n",
              "      <th>1</th>\n",
              "      <td>0.000000</td>\n",
              "      <td>11.829779</td>\n",
              "      <td>0.000000</td>\n",
              "      <td>0.000000</td>\n",
              "      <td>0.000000</td>\n",
              "    </tr>\n",
              "    <tr>\n",
              "      <th>2</th>\n",
              "      <td>0.000000</td>\n",
              "      <td>13.855315</td>\n",
              "      <td>6.992957</td>\n",
              "      <td>16.774878</td>\n",
              "      <td>0.000000</td>\n",
              "    </tr>\n",
              "    <tr>\n",
              "      <th>3</th>\n",
              "      <td>0.857092</td>\n",
              "      <td>32.103434</td>\n",
              "      <td>11.436969</td>\n",
              "      <td>28.655540</td>\n",
              "      <td>2.349124</td>\n",
              "    </tr>\n",
              "    <tr>\n",
              "      <th>4</th>\n",
              "      <td>0.000000</td>\n",
              "      <td>23.518055</td>\n",
              "      <td>8.835035</td>\n",
              "      <td>16.564918</td>\n",
              "      <td>3.171399</td>\n",
              "    </tr>\n",
              "  </tbody>\n",
              "</table>\n",
              "</div>"
            ],
            "text/plain": [
              "     time_0     time_1     time_2     time_3    time_4\n",
              "0  0.000000  14.504845   0.000000   0.000000  0.000000\n",
              "1  0.000000  11.829779   0.000000   0.000000  0.000000\n",
              "2  0.000000  13.855315   6.992957  16.774878  0.000000\n",
              "3  0.857092  32.103434  11.436969  28.655540  2.349124\n",
              "4  0.000000  23.518055   8.835035  16.564918  3.171399"
            ]
          },
          "execution_count": 30,
          "metadata": {},
          "output_type": "execute_result"
        }
      ],
      "source": [
        "levels_time_transformed_df.head(5)"
      ]
    },
    {
      "cell_type": "code",
      "execution_count": null,
      "id": "2fb5d584",
      "metadata": {
        "id": "2fb5d584",
        "outputId": "a96bb134-d554-4e45-f9ac-40857e63e473"
      },
      "outputs": [
        {
          "data": {
            "text/html": [
              "<div>\n",
              "<style scoped>\n",
              "    .dataframe tbody tr th:only-of-type {\n",
              "        vertical-align: middle;\n",
              "    }\n",
              "\n",
              "    .dataframe tbody tr th {\n",
              "        vertical-align: top;\n",
              "    }\n",
              "\n",
              "    .dataframe thead th {\n",
              "        text-align: right;\n",
              "    }\n",
              "</style>\n",
              "<table border=\"1\" class=\"dataframe\">\n",
              "  <thead>\n",
              "    <tr style=\"text-align: right;\">\n",
              "      <th></th>\n",
              "      <th>device</th>\n",
              "      <th>time_0</th>\n",
              "      <th>time_1</th>\n",
              "      <th>time_2</th>\n",
              "      <th>time_3</th>\n",
              "      <th>time_4</th>\n",
              "    </tr>\n",
              "  </thead>\n",
              "  <tbody>\n",
              "    <tr>\n",
              "      <th>1199</th>\n",
              "      <td>device:68:d9:3c:d8:ac:4b</td>\n",
              "      <td>229.0</td>\n",
              "      <td>0.0</td>\n",
              "      <td>0.0</td>\n",
              "      <td>0.0</td>\n",
              "      <td>0</td>\n",
              "    </tr>\n",
              "    <tr>\n",
              "      <th>370</th>\n",
              "      <td>device:24:5f:df:78:38:60</td>\n",
              "      <td>0.0</td>\n",
              "      <td>0.0</td>\n",
              "      <td>396.0</td>\n",
              "      <td>0.0</td>\n",
              "      <td>0</td>\n",
              "    </tr>\n",
              "    <tr>\n",
              "      <th>2833</th>\n",
              "      <td>device:dc:2b:2a:9d:14:bd</td>\n",
              "      <td>0.0</td>\n",
              "      <td>9051.0</td>\n",
              "      <td>613.0</td>\n",
              "      <td>9224.0</td>\n",
              "      <td>0</td>\n",
              "    </tr>\n",
              "    <tr>\n",
              "      <th>1028</th>\n",
              "      <td>device:60:c5:47:8c:8a:6c</td>\n",
              "      <td>0.0</td>\n",
              "      <td>443.0</td>\n",
              "      <td>0.0</td>\n",
              "      <td>0.0</td>\n",
              "      <td>0</td>\n",
              "    </tr>\n",
              "    <tr>\n",
              "      <th>319</th>\n",
              "      <td>device:1c:1a:c0:c9:89:37</td>\n",
              "      <td>0.0</td>\n",
              "      <td>0.0</td>\n",
              "      <td>0.0</td>\n",
              "      <td>330.0</td>\n",
              "      <td>0</td>\n",
              "    </tr>\n",
              "    <tr>\n",
              "      <th>2150</th>\n",
              "      <td>device:a4:eb:d3:cf:e1:a6</td>\n",
              "      <td>0.0</td>\n",
              "      <td>1759.0</td>\n",
              "      <td>3433.0</td>\n",
              "      <td>2247.0</td>\n",
              "      <td>0</td>\n",
              "    </tr>\n",
              "    <tr>\n",
              "      <th>3070</th>\n",
              "      <td>device:ec:9b:f3:5b:4d:39</td>\n",
              "      <td>0.0</td>\n",
              "      <td>17607.0</td>\n",
              "      <td>508.0</td>\n",
              "      <td>793.0</td>\n",
              "      <td>7494</td>\n",
              "    </tr>\n",
              "    <tr>\n",
              "      <th>2678</th>\n",
              "      <td>device:d0:25:98:ed:dd:aa</td>\n",
              "      <td>0.0</td>\n",
              "      <td>1245.0</td>\n",
              "      <td>40.0</td>\n",
              "      <td>557.0</td>\n",
              "      <td>0</td>\n",
              "    </tr>\n",
              "    <tr>\n",
              "      <th>997</th>\n",
              "      <td>device:5c:ad:cf:0e:dc:98</td>\n",
              "      <td>2098.0</td>\n",
              "      <td>8409.0</td>\n",
              "      <td>4326.0</td>\n",
              "      <td>2797.0</td>\n",
              "      <td>7367</td>\n",
              "    </tr>\n",
              "    <tr>\n",
              "      <th>2667</th>\n",
              "      <td>device:d0:25:98:b5:74:56</td>\n",
              "      <td>0.0</td>\n",
              "      <td>0.0</td>\n",
              "      <td>0.0</td>\n",
              "      <td>3490.0</td>\n",
              "      <td>0</td>\n",
              "    </tr>\n",
              "  </tbody>\n",
              "</table>\n",
              "</div>"
            ],
            "text/plain": [
              "                        device  time_0   time_1  time_2  time_3  time_4\n",
              "1199  device:68:d9:3c:d8:ac:4b   229.0      0.0     0.0     0.0       0\n",
              "370   device:24:5f:df:78:38:60     0.0      0.0   396.0     0.0       0\n",
              "2833  device:dc:2b:2a:9d:14:bd     0.0   9051.0   613.0  9224.0       0\n",
              "1028  device:60:c5:47:8c:8a:6c     0.0    443.0     0.0     0.0       0\n",
              "319   device:1c:1a:c0:c9:89:37     0.0      0.0     0.0   330.0       0\n",
              "2150  device:a4:eb:d3:cf:e1:a6     0.0   1759.0  3433.0  2247.0       0\n",
              "3070  device:ec:9b:f3:5b:4d:39     0.0  17607.0   508.0   793.0    7494\n",
              "2678  device:d0:25:98:ed:dd:aa     0.0   1245.0    40.0   557.0       0\n",
              "997   device:5c:ad:cf:0e:dc:98  2098.0   8409.0  4326.0  2797.0    7367\n",
              "2667  device:d0:25:98:b5:74:56     0.0      0.0     0.0  3490.0       0"
            ]
          },
          "execution_count": 31,
          "metadata": {},
          "output_type": "execute_result"
        }
      ],
      "source": [
        "duration_levels_df.sample(10)"
      ]
    },
    {
      "cell_type": "code",
      "execution_count": null,
      "id": "8d826914",
      "metadata": {
        "id": "8d826914"
      },
      "outputs": [],
      "source": [
        "#duration_levels_df['num_visits'] = (duration_levels_df['num_visits']\n",
        "#                                    .apply(lambda x: (x - min_visits) / (max_visits - min_visits)))"
      ]
    },
    {
      "cell_type": "code",
      "execution_count": null,
      "id": "1e7c2ee7",
      "metadata": {
        "id": "1e7c2ee7",
        "outputId": "c245db26-1681-4d8f-faa2-f53b337e4165"
      },
      "outputs": [
        {
          "data": {
            "text/html": [
              "<div>\n",
              "<style scoped>\n",
              "    .dataframe tbody tr th:only-of-type {\n",
              "        vertical-align: middle;\n",
              "    }\n",
              "\n",
              "    .dataframe tbody tr th {\n",
              "        vertical-align: top;\n",
              "    }\n",
              "\n",
              "    .dataframe thead th {\n",
              "        text-align: right;\n",
              "    }\n",
              "</style>\n",
              "<table border=\"1\" class=\"dataframe\">\n",
              "  <thead>\n",
              "    <tr style=\"text-align: right;\">\n",
              "      <th></th>\n",
              "      <th>device</th>\n",
              "      <th>time_0</th>\n",
              "      <th>time_1</th>\n",
              "      <th>time_2</th>\n",
              "      <th>time_3</th>\n",
              "      <th>time_4</th>\n",
              "    </tr>\n",
              "  </thead>\n",
              "  <tbody>\n",
              "    <tr>\n",
              "      <th>2338</th>\n",
              "      <td>device:bc:4c:c4:bf:24:01</td>\n",
              "      <td>0.0</td>\n",
              "      <td>7964.0</td>\n",
              "      <td>6968.0</td>\n",
              "      <td>793.0</td>\n",
              "      <td>0</td>\n",
              "    </tr>\n",
              "    <tr>\n",
              "      <th>1410</th>\n",
              "      <td>device:70:ec:e4:68:aa:df</td>\n",
              "      <td>0.0</td>\n",
              "      <td>1189.0</td>\n",
              "      <td>230.0</td>\n",
              "      <td>6090.0</td>\n",
              "      <td>276</td>\n",
              "    </tr>\n",
              "    <tr>\n",
              "      <th>1842</th>\n",
              "      <td>device:94:e9:6a:97:8a:45</td>\n",
              "      <td>0.0</td>\n",
              "      <td>0.0</td>\n",
              "      <td>772.0</td>\n",
              "      <td>9663.0</td>\n",
              "      <td>617</td>\n",
              "    </tr>\n",
              "    <tr>\n",
              "      <th>1254</th>\n",
              "      <td>device:6c:72:e7:a7:f3:5b</td>\n",
              "      <td>0.0</td>\n",
              "      <td>2070.0</td>\n",
              "      <td>0.0</td>\n",
              "      <td>322.0</td>\n",
              "      <td>0</td>\n",
              "    </tr>\n",
              "    <tr>\n",
              "      <th>1691</th>\n",
              "      <td>device:90:3c:92:c9:11:f9</td>\n",
              "      <td>169320.0</td>\n",
              "      <td>8627.0</td>\n",
              "      <td>4940.0</td>\n",
              "      <td>3496.0</td>\n",
              "      <td>919</td>\n",
              "    </tr>\n",
              "    <tr>\n",
              "      <th>482</th>\n",
              "      <td>device:2c:44:01:cf:82:93</td>\n",
              "      <td>0.0</td>\n",
              "      <td>4278.0</td>\n",
              "      <td>0.0</td>\n",
              "      <td>398.0</td>\n",
              "      <td>0</td>\n",
              "    </tr>\n",
              "    <tr>\n",
              "      <th>2141</th>\n",
              "      <td>device:a4:db:30:e5:4e:aa</td>\n",
              "      <td>0.0</td>\n",
              "      <td>398.0</td>\n",
              "      <td>1170.0</td>\n",
              "      <td>3098.0</td>\n",
              "      <td>557</td>\n",
              "    </tr>\n",
              "    <tr>\n",
              "      <th>565</th>\n",
              "      <td>device:34:36:3b:80:95:6e</td>\n",
              "      <td>0.0</td>\n",
              "      <td>335.0</td>\n",
              "      <td>0.0</td>\n",
              "      <td>0.0</td>\n",
              "      <td>0</td>\n",
              "    </tr>\n",
              "    <tr>\n",
              "      <th>3457</th>\n",
              "      <td>device:fc:db:b3:3f:d8:ff</td>\n",
              "      <td>0.0</td>\n",
              "      <td>24608.0</td>\n",
              "      <td>942.0</td>\n",
              "      <td>10608.0</td>\n",
              "      <td>2397</td>\n",
              "    </tr>\n",
              "    <tr>\n",
              "      <th>2381</th>\n",
              "      <td>device:c0:1a:da:8b:61:49</td>\n",
              "      <td>0.0</td>\n",
              "      <td>4741.0</td>\n",
              "      <td>1047.0</td>\n",
              "      <td>2010.0</td>\n",
              "      <td>518</td>\n",
              "    </tr>\n",
              "  </tbody>\n",
              "</table>\n",
              "</div>"
            ],
            "text/plain": [
              "                        device    time_0   time_1  time_2   time_3  time_4\n",
              "2338  device:bc:4c:c4:bf:24:01       0.0   7964.0  6968.0    793.0       0\n",
              "1410  device:70:ec:e4:68:aa:df       0.0   1189.0   230.0   6090.0     276\n",
              "1842  device:94:e9:6a:97:8a:45       0.0      0.0   772.0   9663.0     617\n",
              "1254  device:6c:72:e7:a7:f3:5b       0.0   2070.0     0.0    322.0       0\n",
              "1691  device:90:3c:92:c9:11:f9  169320.0   8627.0  4940.0   3496.0     919\n",
              "482   device:2c:44:01:cf:82:93       0.0   4278.0     0.0    398.0       0\n",
              "2141  device:a4:db:30:e5:4e:aa       0.0    398.0  1170.0   3098.0     557\n",
              "565   device:34:36:3b:80:95:6e       0.0    335.0     0.0      0.0       0\n",
              "3457  device:fc:db:b3:3f:d8:ff       0.0  24608.0   942.0  10608.0    2397\n",
              "2381  device:c0:1a:da:8b:61:49       0.0   4741.0  1047.0   2010.0     518"
            ]
          },
          "execution_count": 33,
          "metadata": {},
          "output_type": "execute_result"
        }
      ],
      "source": [
        "duration_levels_df.sample(10)"
      ]
    },
    {
      "cell_type": "code",
      "execution_count": null,
      "id": "4366aaac",
      "metadata": {
        "id": "4366aaac",
        "outputId": "0f4e8f5b-20e3-4c71-f5f7-19c8f2d1ffd0"
      },
      "outputs": [
        {
          "data": {
            "image/png": "[encoded data removed]",
            "text/plain": [
              "<Figure size 640x480 with 1 Axes>"
            ]
          },
          "metadata": {},
          "output_type": "display_data"
        }
      ],
      "source": [
        "sn.scatterplot(data = levels_time_transformed_df,\n",
        "               x = 'time_3',\n",
        "               y = 'time_4' );"
      ]
    },
    {
      "cell_type": "markdown",
      "id": "d0f58e33",
      "metadata": {
        "id": "d0f58e33"
      },
      "source": [
        "## Clustering"
      ]
    },
    {
      "cell_type": "code",
      "execution_count": null,
      "id": "45128bdb",
      "metadata": {
        "id": "45128bdb"
      },
      "outputs": [],
      "source": [
        "from sklearn.cluster import DBSCAN, HDBSCAN"
      ]
    },
    {
      "cell_type": "code",
      "execution_count": null,
      "id": "442fbcc4",
      "metadata": {
        "id": "442fbcc4"
      },
      "outputs": [],
      "source": [
        "#hdbscan = DBSCAN(eps = 0.55, min_samples = 5, p = 4)"
      ]
    },
    {
      "cell_type": "code",
      "execution_count": null,
      "id": "c6003291",
      "metadata": {
        "id": "c6003291"
      },
      "outputs": [],
      "source": [
        "hdbscan = HDBSCAN(min_cluster_size=50)"
      ]
    },
    {
      "cell_type": "code",
      "execution_count": null,
      "id": "0c7c8dfe",
      "metadata": {
        "id": "0c7c8dfe",
        "outputId": "91eaef36-833a-4398-996d-f7ba4809d83b"
      },
      "outputs": [
        {
          "data": {
            "text/html": [
              "<style>#sk-container-id-1 {color: black;}#sk-container-id-1 pre{padding: 0;}#sk-container-id-1 div.sk-toggleable {background-color: white;}#sk-container-id-1 label.sk-toggleable__label {cursor: pointer;display: block;width: 100%;margin-bottom: 0;padding: 0.3em;box-sizing: border-box;text-align: center;}#sk-container-id-1 label.sk-toggleable__label-arrow:before {content: \"▸\";float: left;margin-right: 0.25em;color: #696969;}#sk-container-id-1 label.sk-toggleable__label-arrow:hover:before {color: black;}#sk-container-id-1 div.sk-estimator:hover label.sk-toggleable__label-arrow:before {color: black;}#sk-container-id-1 div.sk-toggleable__content {max-height: 0;max-width: 0;overflow: hidden;text-align: left;background-color: #f0f8ff;}#sk-container-id-1 div.sk-toggleable__content pre {margin: 0.2em;color: black;border-radius: 0.25em;background-color: #f0f8ff;}#sk-container-id-1 input.sk-toggleable__control:checked~div.sk-toggleable__content {max-height: 200px;max-width: 100%;overflow: auto;}#sk-container-id-1 input.sk-toggleable__control:checked~label.sk-toggleable__label-arrow:before {content: \"▾\";}#sk-container-id-1 div.sk-estimator input.sk-toggleable__control:checked~label.sk-toggleable__label {background-color: #d4ebff;}#sk-container-id-1 div.sk-label input.sk-toggleable__control:checked~label.sk-toggleable__label {background-color: #d4ebff;}#sk-container-id-1 input.sk-hidden--visually {border: 0;clip: rect(1px 1px 1px 1px);clip: rect(1px, 1px, 1px, 1px);height: 1px;margin: -1px;overflow: hidden;padding: 0;position: absolute;width: 1px;}#sk-container-id-1 div.sk-estimator {font-family: monospace;background-color: #f0f8ff;border: 1px dotted black;border-radius: 0.25em;box-sizing: border-box;margin-bottom: 0.5em;}#sk-container-id-1 div.sk-estimator:hover {background-color: #d4ebff;}#sk-container-id-1 div.sk-parallel-item::after {content: \"\";width: 100%;border-bottom: 1px solid gray;flex-grow: 1;}#sk-container-id-1 div.sk-label:hover label.sk-toggleable__label {background-color: #d4ebff;}#sk-container-id-1 div.sk-serial::before {content: \"\";position: absolute;border-left: 1px solid gray;box-sizing: border-box;top: 0;bottom: 0;left: 50%;z-index: 0;}#sk-container-id-1 div.sk-serial {display: flex;flex-direction: column;align-items: center;background-color: white;padding-right: 0.2em;padding-left: 0.2em;position: relative;}#sk-container-id-1 div.sk-item {position: relative;z-index: 1;}#sk-container-id-1 div.sk-parallel {display: flex;align-items: stretch;justify-content: center;background-color: white;position: relative;}#sk-container-id-1 div.sk-item::before, #sk-container-id-1 div.sk-parallel-item::before {content: \"\";position: absolute;border-left: 1px solid gray;box-sizing: border-box;top: 0;bottom: 0;left: 50%;z-index: -1;}#sk-container-id-1 div.sk-parallel-item {display: flex;flex-direction: column;z-index: 1;position: relative;background-color: white;}#sk-container-id-1 div.sk-parallel-item:first-child::after {align-self: flex-end;width: 50%;}#sk-container-id-1 div.sk-parallel-item:last-child::after {align-self: flex-start;width: 50%;}#sk-container-id-1 div.sk-parallel-item:only-child::after {width: 0;}#sk-container-id-1 div.sk-dashed-wrapped {border: 1px dashed gray;margin: 0 0.4em 0.5em 0.4em;box-sizing: border-box;padding-bottom: 0.4em;background-color: white;}#sk-container-id-1 div.sk-label label {font-family: monospace;font-weight: bold;display: inline-block;line-height: 1.2em;}#sk-container-id-1 div.sk-label-container {text-align: center;}#sk-container-id-1 div.sk-container {/* jupyter's `normalize.less` sets `[hidden] { display: none; }` but bootstrap.min.css set `[hidden] { display: none !important; }` so we also need the `!important` here to be able to override the default hidden behavior on the sphinx rendered scikit-learn.org. See: https://github.com/scikit-learn/scikit-learn/issues/21755 */display: inline-block !important;position: relative;}#sk-container-id-1 div.sk-text-repr-fallback {display: none;}</style><div id=\"sk-container-id-1\" class=\"sk-top-container\"><div class=\"sk-text-repr-fallback\"><pre>HDBSCAN(min_cluster_size=50)</pre><b>In a Jupyter environment, please rerun this cell to show the HTML representation or trust the notebook. <br />On GitHub, the HTML representation is unable to render, please try loading this page with nbviewer.org.</b></div><div class=\"sk-container\" hidden><div class=\"sk-item\"><div class=\"sk-estimator sk-toggleable\"><input class=\"sk-toggleable__control sk-hidden--visually\" id=\"sk-estimator-id-1\" type=\"checkbox\" checked><label for=\"sk-estimator-id-1\" class=\"sk-toggleable__label sk-toggleable__label-arrow\">HDBSCAN</label><div class=\"sk-toggleable__content\"><pre>HDBSCAN(min_cluster_size=50)</pre></div></div></div></div></div>"
            ],
            "text/plain": [
              "HDBSCAN(min_cluster_size=50)"
            ]
          },
          "execution_count": 38,
          "metadata": {},
          "output_type": "execute_result"
        }
      ],
      "source": [
        "hdbscan.fit(levels_time_transformed_df)"
      ]
    },
    {
      "cell_type": "code",
      "execution_count": null,
      "id": "d7861dbf",
      "metadata": {
        "id": "d7861dbf",
        "outputId": "bc9bf89b-9da7-46ac-9710-bf0eac4bc6e2"
      },
      "outputs": [
        {
          "data": {
            "text/plain": [
              "array([-1,  0,  1,  2,  3,  4,  5])"
            ]
          },
          "execution_count": 39,
          "metadata": {},
          "output_type": "execute_result"
        }
      ],
      "source": [
        "np.unique(hdbscan.labels_)"
      ]
    },
    {
      "cell_type": "code",
      "execution_count": null,
      "id": "14a0f30f",
      "metadata": {
        "id": "14a0f30f"
      },
      "outputs": [],
      "source": [
        "duration_levels_df['cluster_id'] = hdbscan.labels_"
      ]
    },
    {
      "cell_type": "code",
      "execution_count": null,
      "id": "aa6be014",
      "metadata": {
        "id": "aa6be014",
        "outputId": "8fef33de-6c68-4cf6-f112-601d0816c27d"
      },
      "outputs": [
        {
          "data": {
            "text/plain": [
              "cluster_id\n",
              " 1    1707\n",
              "-1     920\n",
              " 4     326\n",
              " 3     267\n",
              " 0     141\n",
              " 2     100\n",
              " 5      72\n",
              "Name: count, dtype: int64"
            ]
          },
          "execution_count": 41,
          "metadata": {},
          "output_type": "execute_result"
        }
      ],
      "source": [
        "duration_levels_df.cluster_id.value_counts()"
      ]
    },
    {
      "cell_type": "markdown",
      "id": "c20698e1",
      "metadata": {
        "id": "c20698e1"
      },
      "source": [
        "### Analyzing the clusters"
      ]
    },
    {
      "cell_type": "code",
      "execution_count": null,
      "id": "74c0cb24",
      "metadata": {
        "id": "74c0cb24",
        "outputId": "b9c0cca7-9b14-4e5b-92a8-d88800a25202"
      },
      "outputs": [
        {
          "data": {
            "text/plain": [
              "<Axes: xlabel='cluster_id', ylabel='time_0'>"
            ]
          },
          "execution_count": 42,
          "metadata": {},
          "output_type": "execute_result"
        },
        {
          "data": {
            "image/png": "[encoded data removed]",
            "text/plain": [
              "<Figure size 640x480 with 1 Axes>"
            ]
          },
          "metadata": {},
          "output_type": "display_data"
        }
      ],
      "source": [
        "sn.barplot( data = duration_levels_df,\n",
        "            x = 'cluster_id',\n",
        "            y = 'time_0',\n",
        "            estimator = 'mean')"
      ]
    },
    {
      "cell_type": "code",
      "execution_count": null,
      "id": "dd240c02",
      "metadata": {
        "id": "dd240c02",
        "outputId": "9e445867-9ca2-4f6b-f38e-8db6ad6a75c2"
      },
      "outputs": [
        {
          "data": {
            "image/png": "[encoded data removed]",
            "text/plain": [
              "<Figure size 640x480 with 1 Axes>"
            ]
          },
          "metadata": {},
          "output_type": "display_data"
        }
      ],
      "source": [
        "sn.barplot( data = duration_levels_df,\n",
        "            x = 'cluster_id',\n",
        "            y = 'time_1',\n",
        "            estimator = 'mean');"
      ]
    },
    {
      "cell_type": "code",
      "execution_count": null,
      "id": "4470be5b",
      "metadata": {
        "id": "4470be5b",
        "outputId": "2baca37e-0aa6-41c4-9974-78e42f263d0f"
      },
      "outputs": [
        {
          "data": {
            "text/html": [
              "<div>\n",
              "<style scoped>\n",
              "    .dataframe tbody tr th:only-of-type {\n",
              "        vertical-align: middle;\n",
              "    }\n",
              "\n",
              "    .dataframe tbody tr th {\n",
              "        vertical-align: top;\n",
              "    }\n",
              "\n",
              "    .dataframe thead th {\n",
              "        text-align: right;\n",
              "    }\n",
              "</style>\n",
              "<table border=\"1\" class=\"dataframe\">\n",
              "  <thead>\n",
              "    <tr style=\"text-align: right;\">\n",
              "      <th></th>\n",
              "      <th>device</th>\n",
              "      <th>time_0</th>\n",
              "      <th>time_1</th>\n",
              "      <th>time_2</th>\n",
              "      <th>time_3</th>\n",
              "      <th>time_4</th>\n",
              "      <th>cluster_id</th>\n",
              "    </tr>\n",
              "  </thead>\n",
              "  <tbody>\n",
              "    <tr>\n",
              "      <th>0</th>\n",
              "      <td>device:00:25:00:4c:70:ad</td>\n",
              "      <td>0.0</td>\n",
              "      <td>1250.0</td>\n",
              "      <td>0.0</td>\n",
              "      <td>0.0</td>\n",
              "      <td>0</td>\n",
              "      <td>4</td>\n",
              "    </tr>\n",
              "    <tr>\n",
              "      <th>1</th>\n",
              "      <td>device:00:56:cd:02:8a:05</td>\n",
              "      <td>0.0</td>\n",
              "      <td>564.0</td>\n",
              "      <td>0.0</td>\n",
              "      <td>0.0</td>\n",
              "      <td>0</td>\n",
              "      <td>4</td>\n",
              "    </tr>\n",
              "    <tr>\n",
              "      <th>2</th>\n",
              "      <td>device:00:56:cd:0b:c6:84</td>\n",
              "      <td>0.0</td>\n",
              "      <td>1041.0</td>\n",
              "      <td>188.0</td>\n",
              "      <td>2995.0</td>\n",
              "      <td>0</td>\n",
              "      <td>1</td>\n",
              "    </tr>\n",
              "    <tr>\n",
              "      <th>3</th>\n",
              "      <td>device:00:56:cd:10:f7:17</td>\n",
              "      <td>5494.0</td>\n",
              "      <td>41336.0</td>\n",
              "      <td>1824.0</td>\n",
              "      <td>37224.0</td>\n",
              "      <td>41</td>\n",
              "      <td>-1</td>\n",
              "    </tr>\n",
              "    <tr>\n",
              "      <th>4</th>\n",
              "      <td>device:00:56:cd:cd:80:a1</td>\n",
              "      <td>0.0</td>\n",
              "      <td>9823.0</td>\n",
              "      <td>516.0</td>\n",
              "      <td>2833.0</td>\n",
              "      <td>1412</td>\n",
              "      <td>1</td>\n",
              "    </tr>\n",
              "    <tr>\n",
              "      <th>...</th>\n",
              "      <td>...</td>\n",
              "      <td>...</td>\n",
              "      <td>...</td>\n",
              "      <td>...</td>\n",
              "      <td>...</td>\n",
              "      <td>...</td>\n",
              "      <td>...</td>\n",
              "    </tr>\n",
              "    <tr>\n",
              "      <th>3528</th>\n",
              "      <td>device:fc:e9:98:c6:2f:6a</td>\n",
              "      <td>0.0</td>\n",
              "      <td>3504.0</td>\n",
              "      <td>49.0</td>\n",
              "      <td>1878.0</td>\n",
              "      <td>366</td>\n",
              "      <td>1</td>\n",
              "    </tr>\n",
              "    <tr>\n",
              "      <th>3529</th>\n",
              "      <td>device:fc:e9:98:cc:1a:30</td>\n",
              "      <td>394.0</td>\n",
              "      <td>2315.0</td>\n",
              "      <td>0.0</td>\n",
              "      <td>554.0</td>\n",
              "      <td>330</td>\n",
              "      <td>-1</td>\n",
              "    </tr>\n",
              "    <tr>\n",
              "      <th>3530</th>\n",
              "      <td>device:fc:e9:98:da:e4:43</td>\n",
              "      <td>0.0</td>\n",
              "      <td>2799.0</td>\n",
              "      <td>8126.0</td>\n",
              "      <td>0.0</td>\n",
              "      <td>0</td>\n",
              "      <td>-1</td>\n",
              "    </tr>\n",
              "    <tr>\n",
              "      <th>3531</th>\n",
              "      <td>device:fc:f8:ae:5a:2d:e1</td>\n",
              "      <td>0.0</td>\n",
              "      <td>0.0</td>\n",
              "      <td>0.0</td>\n",
              "      <td>2685.0</td>\n",
              "      <td>0</td>\n",
              "      <td>3</td>\n",
              "    </tr>\n",
              "    <tr>\n",
              "      <th>3532</th>\n",
              "      <td>device:fc:fc:48:ab:ee:3f</td>\n",
              "      <td>0.0</td>\n",
              "      <td>516.0</td>\n",
              "      <td>2135.0</td>\n",
              "      <td>10.0</td>\n",
              "      <td>15</td>\n",
              "      <td>-1</td>\n",
              "    </tr>\n",
              "  </tbody>\n",
              "</table>\n",
              "<p>3533 rows × 7 columns</p>\n",
              "</div>"
            ],
            "text/plain": [
              "                        device  time_0   time_1  time_2   time_3  time_4  \\\n",
              "0     device:00:25:00:4c:70:ad     0.0   1250.0     0.0      0.0       0   \n",
              "1     device:00:56:cd:02:8a:05     0.0    564.0     0.0      0.0       0   \n",
              "2     device:00:56:cd:0b:c6:84     0.0   1041.0   188.0   2995.0       0   \n",
              "3     device:00:56:cd:10:f7:17  5494.0  41336.0  1824.0  37224.0      41   \n",
              "4     device:00:56:cd:cd:80:a1     0.0   9823.0   516.0   2833.0    1412   \n",
              "...                        ...     ...      ...     ...      ...     ...   \n",
              "3528  device:fc:e9:98:c6:2f:6a     0.0   3504.0    49.0   1878.0     366   \n",
              "3529  device:fc:e9:98:cc:1a:30   394.0   2315.0     0.0    554.0     330   \n",
              "3530  device:fc:e9:98:da:e4:43     0.0   2799.0  8126.0      0.0       0   \n",
              "3531  device:fc:f8:ae:5a:2d:e1     0.0      0.0     0.0   2685.0       0   \n",
              "3532  device:fc:fc:48:ab:ee:3f     0.0    516.0  2135.0     10.0      15   \n",
              "\n",
              "      cluster_id  \n",
              "0              4  \n",
              "1              4  \n",
              "2              1  \n",
              "3             -1  \n",
              "4              1  \n",
              "...          ...  \n",
              "3528           1  \n",
              "3529          -1  \n",
              "3530          -1  \n",
              "3531           3  \n",
              "3532          -1  \n",
              "\n",
              "[3533 rows x 7 columns]"
            ]
          },
          "execution_count": 44,
          "metadata": {},
          "output_type": "execute_result"
        }
      ],
      "source": [
        "duration_levels_df"
      ]
    },
    {
      "cell_type": "code",
      "execution_count": null,
      "id": "52e0da71",
      "metadata": {
        "id": "52e0da71"
      },
      "outputs": [],
      "source": [
        "levels_unpivot_df = pd.melt(duration_levels_df[['cluster_id',\n",
        "                                                'time_0',\n",
        "                                                'time_1',\n",
        "                                                'time_2',\n",
        "                                                'time_3']],\n",
        "                            id_vars=['cluster_id'],\n",
        "                            value_vars = ['time_0',\n",
        "                                          'time_1',\n",
        "                                          'time_2',\n",
        "                                          'time_3'])"
      ]
    },
    {
      "cell_type": "code",
      "execution_count": null,
      "id": "5313b63a",
      "metadata": {
        "id": "5313b63a",
        "outputId": "7899cb7f-ec6c-4210-d8b6-2a9cc1b1d821"
      },
      "outputs": [
        {
          "data": {
            "text/html": [
              "<div>\n",
              "<style scoped>\n",
              "    .dataframe tbody tr th:only-of-type {\n",
              "        vertical-align: middle;\n",
              "    }\n",
              "\n",
              "    .dataframe tbody tr th {\n",
              "        vertical-align: top;\n",
              "    }\n",
              "\n",
              "    .dataframe thead th {\n",
              "        text-align: right;\n",
              "    }\n",
              "</style>\n",
              "<table border=\"1\" class=\"dataframe\">\n",
              "  <thead>\n",
              "    <tr style=\"text-align: right;\">\n",
              "      <th></th>\n",
              "      <th>cluster_id</th>\n",
              "      <th>variable</th>\n",
              "      <th>value</th>\n",
              "    </tr>\n",
              "  </thead>\n",
              "  <tbody>\n",
              "    <tr>\n",
              "      <th>0</th>\n",
              "      <td>4</td>\n",
              "      <td>time_0</td>\n",
              "      <td>0.0</td>\n",
              "    </tr>\n",
              "    <tr>\n",
              "      <th>1</th>\n",
              "      <td>4</td>\n",
              "      <td>time_0</td>\n",
              "      <td>0.0</td>\n",
              "    </tr>\n",
              "    <tr>\n",
              "      <th>2</th>\n",
              "      <td>1</td>\n",
              "      <td>time_0</td>\n",
              "      <td>0.0</td>\n",
              "    </tr>\n",
              "    <tr>\n",
              "      <th>3</th>\n",
              "      <td>-1</td>\n",
              "      <td>time_0</td>\n",
              "      <td>5494.0</td>\n",
              "    </tr>\n",
              "    <tr>\n",
              "      <th>4</th>\n",
              "      <td>1</td>\n",
              "      <td>time_0</td>\n",
              "      <td>0.0</td>\n",
              "    </tr>\n",
              "    <tr>\n",
              "      <th>...</th>\n",
              "      <td>...</td>\n",
              "      <td>...</td>\n",
              "      <td>...</td>\n",
              "    </tr>\n",
              "    <tr>\n",
              "      <th>14127</th>\n",
              "      <td>1</td>\n",
              "      <td>time_3</td>\n",
              "      <td>1878.0</td>\n",
              "    </tr>\n",
              "    <tr>\n",
              "      <th>14128</th>\n",
              "      <td>-1</td>\n",
              "      <td>time_3</td>\n",
              "      <td>554.0</td>\n",
              "    </tr>\n",
              "    <tr>\n",
              "      <th>14129</th>\n",
              "      <td>-1</td>\n",
              "      <td>time_3</td>\n",
              "      <td>0.0</td>\n",
              "    </tr>\n",
              "    <tr>\n",
              "      <th>14130</th>\n",
              "      <td>3</td>\n",
              "      <td>time_3</td>\n",
              "      <td>2685.0</td>\n",
              "    </tr>\n",
              "    <tr>\n",
              "      <th>14131</th>\n",
              "      <td>-1</td>\n",
              "      <td>time_3</td>\n",
              "      <td>10.0</td>\n",
              "    </tr>\n",
              "  </tbody>\n",
              "</table>\n",
              "<p>14132 rows × 3 columns</p>\n",
              "</div>"
            ],
            "text/plain": [
              "       cluster_id variable   value\n",
              "0               4   time_0     0.0\n",
              "1               4   time_0     0.0\n",
              "2               1   time_0     0.0\n",
              "3              -1   time_0  5494.0\n",
              "4               1   time_0     0.0\n",
              "...           ...      ...     ...\n",
              "14127           1   time_3  1878.0\n",
              "14128          -1   time_3   554.0\n",
              "14129          -1   time_3     0.0\n",
              "14130           3   time_3  2685.0\n",
              "14131          -1   time_3    10.0\n",
              "\n",
              "[14132 rows x 3 columns]"
            ]
          },
          "execution_count": 46,
          "metadata": {},
          "output_type": "execute_result"
        }
      ],
      "source": [
        "levels_unpivot_df"
      ]
    },
    {
      "cell_type": "code",
      "execution_count": null,
      "id": "972ed09c",
      "metadata": {
        "id": "972ed09c",
        "outputId": "550b76b3-4691-40fc-9795-5b30c173bc5d"
      },
      "outputs": [
        {
          "data": {
            "image/png": "[encoded data removed]",
            "text/plain": [
              "<Figure size 2000x600 with 1 Axes>"
            ]
          },
          "metadata": {},
          "output_type": "display_data"
        }
      ],
      "source": [
        "plt.figure(figsize = (20, 6))\n",
        "sn.barplot( data = levels_unpivot_df,\n",
        "            x = 'cluster_id',\n",
        "            y = 'value',\n",
        "            hue = 'variable',\n",
        "            estimator = 'mean');"
      ]
    },
    {
      "cell_type": "markdown",
      "id": "20e10b57",
      "metadata": {
        "id": "20e10b57"
      },
      "source": [
        "### K-Means Cluster"
      ]
    },
    {
      "cell_type": "code",
      "execution_count": null,
      "id": "2fec8926",
      "metadata": {
        "id": "2fec8926"
      },
      "outputs": [],
      "source": [
        "#!pip install yellowbrick"
      ]
    },
    {
      "cell_type": "code",
      "execution_count": null,
      "id": "0a5ae5d0",
      "metadata": {
        "id": "0a5ae5d0"
      },
      "outputs": [],
      "source": [
        "from sklearn.cluster import KMeans"
      ]
    },
    {
      "cell_type": "code",
      "execution_count": null,
      "id": "9ef1d09c",
      "metadata": {
        "id": "9ef1d09c"
      },
      "outputs": [],
      "source": [
        "from yellowbrick.cluster import KElbowVisualizer, SilhouetteVisualizer, InterclusterDistance"
      ]
    },
    {
      "cell_type": "code",
      "execution_count": null,
      "id": "3d3d606a",
      "metadata": {
        "id": "3d3d606a"
      },
      "outputs": [],
      "source": [
        "model = KMeans(n_init='auto')\n",
        "visualizer = KElbowVisualizer(model, k=(1,10), locate_elbow=False, timings=False)"
      ]
    },
    {
      "cell_type": "code",
      "execution_count": null,
      "id": "85d70a55",
      "metadata": {
        "id": "85d70a55",
        "outputId": "010f540b-bd63-49db-cb58-2258fe041cc9"
      },
      "outputs": [
        {
          "data": {
            "image/png": "[encoded data removed]",
            "text/plain": [
              "<Figure size 800x550 with 1 Axes>"
            ]
          },
          "metadata": {},
          "output_type": "display_data"
        }
      ],
      "source": [
        "visualizer.fit(levels_time_transformed_df)\n",
        "visualizer.show();"
      ]
    },
    {
      "cell_type": "code",
      "execution_count": null,
      "id": "14fcb432",
      "metadata": {
        "id": "14fcb432"
      },
      "outputs": [],
      "source": [
        "from sklearn.metrics import calinski_harabasz_score"
      ]
    },
    {
      "cell_type": "code",
      "execution_count": null,
      "id": "924bdf40",
      "metadata": {
        "id": "924bdf40",
        "outputId": "308b8fc0-ac32-44f2-c665-80c5fb5cb035"
      },
      "outputs": [
        {
          "name": "stdout",
          "output_type": "stream",
          "text": [
            "n_cluster: 4 - CH Score: 2443.7184020582226\n",
            "n_cluster: 5 - CH Score: 2288.4417768680446\n",
            "n_cluster: 6 - CH Score: 2161.9699704637073\n",
            "n_cluster: 7 - CH Score: 2116.336835037717\n"
          ]
        }
      ],
      "source": [
        "cluster_range = range( 4, 8 )\n",
        "ch_scores = []\n",
        "\n",
        "for num_clusters in cluster_range:\n",
        "  clusters = KMeans( num_clusters )\n",
        "  clusters.fit( levels_time_transformed_df )\n",
        "  print(f\"n_cluster: {num_clusters} - CH Score: {calinski_harabasz_score(levels_time_transformed_df, clusters.labels_)}\" )"
      ]
    },
    {
      "cell_type": "code",
      "execution_count": null,
      "id": "aed000c7",
      "metadata": {
        "id": "aed000c7"
      },
      "outputs": [],
      "source": [
        "kmeans_clusters = KMeans(n_clusters = 4, n_init='auto')"
      ]
    },
    {
      "cell_type": "code",
      "execution_count": null,
      "id": "f28f049e",
      "metadata": {
        "id": "f28f049e",
        "outputId": "76436bf4-5b1b-4c01-d6b2-007b233a3a36"
      },
      "outputs": [
        {
          "data": {
            "text/html": [
              "<style>#sk-container-id-2 {color: black;}#sk-container-id-2 pre{padding: 0;}#sk-container-id-2 div.sk-toggleable {background-color: white;}#sk-container-id-2 label.sk-toggleable__label {cursor: pointer;display: block;width: 100%;margin-bottom: 0;padding: 0.3em;box-sizing: border-box;text-align: center;}#sk-container-id-2 label.sk-toggleable__label-arrow:before {content: \"▸\";float: left;margin-right: 0.25em;color: #696969;}#sk-container-id-2 label.sk-toggleable__label-arrow:hover:before {color: black;}#sk-container-id-2 div.sk-estimator:hover label.sk-toggleable__label-arrow:before {color: black;}#sk-container-id-2 div.sk-toggleable__content {max-height: 0;max-width: 0;overflow: hidden;text-align: left;background-color: #f0f8ff;}#sk-container-id-2 div.sk-toggleable__content pre {margin: 0.2em;color: black;border-radius: 0.25em;background-color: #f0f8ff;}#sk-container-id-2 input.sk-toggleable__control:checked~div.sk-toggleable__content {max-height: 200px;max-width: 100%;overflow: auto;}#sk-container-id-2 input.sk-toggleable__control:checked~label.sk-toggleable__label-arrow:before {content: \"▾\";}#sk-container-id-2 div.sk-estimator input.sk-toggleable__control:checked~label.sk-toggleable__label {background-color: #d4ebff;}#sk-container-id-2 div.sk-label input.sk-toggleable__control:checked~label.sk-toggleable__label {background-color: #d4ebff;}#sk-container-id-2 input.sk-hidden--visually {border: 0;clip: rect(1px 1px 1px 1px);clip: rect(1px, 1px, 1px, 1px);height: 1px;margin: -1px;overflow: hidden;padding: 0;position: absolute;width: 1px;}#sk-container-id-2 div.sk-estimator {font-family: monospace;background-color: #f0f8ff;border: 1px dotted black;border-radius: 0.25em;box-sizing: border-box;margin-bottom: 0.5em;}#sk-container-id-2 div.sk-estimator:hover {background-color: #d4ebff;}#sk-container-id-2 div.sk-parallel-item::after {content: \"\";width: 100%;border-bottom: 1px solid gray;flex-grow: 1;}#sk-container-id-2 div.sk-label:hover label.sk-toggleable__label {background-color: #d4ebff;}#sk-container-id-2 div.sk-serial::before {content: \"\";position: absolute;border-left: 1px solid gray;box-sizing: border-box;top: 0;bottom: 0;left: 50%;z-index: 0;}#sk-container-id-2 div.sk-serial {display: flex;flex-direction: column;align-items: center;background-color: white;padding-right: 0.2em;padding-left: 0.2em;position: relative;}#sk-container-id-2 div.sk-item {position: relative;z-index: 1;}#sk-container-id-2 div.sk-parallel {display: flex;align-items: stretch;justify-content: center;background-color: white;position: relative;}#sk-container-id-2 div.sk-item::before, #sk-container-id-2 div.sk-parallel-item::before {content: \"\";position: absolute;border-left: 1px solid gray;box-sizing: border-box;top: 0;bottom: 0;left: 50%;z-index: -1;}#sk-container-id-2 div.sk-parallel-item {display: flex;flex-direction: column;z-index: 1;position: relative;background-color: white;}#sk-container-id-2 div.sk-parallel-item:first-child::after {align-self: flex-end;width: 50%;}#sk-container-id-2 div.sk-parallel-item:last-child::after {align-self: flex-start;width: 50%;}#sk-container-id-2 div.sk-parallel-item:only-child::after {width: 0;}#sk-container-id-2 div.sk-dashed-wrapped {border: 1px dashed gray;margin: 0 0.4em 0.5em 0.4em;box-sizing: border-box;padding-bottom: 0.4em;background-color: white;}#sk-container-id-2 div.sk-label label {font-family: monospace;font-weight: bold;display: inline-block;line-height: 1.2em;}#sk-container-id-2 div.sk-label-container {text-align: center;}#sk-container-id-2 div.sk-container {/* jupyter's `normalize.less` sets `[hidden] { display: none; }` but bootstrap.min.css set `[hidden] { display: none !important; }` so we also need the `!important` here to be able to override the default hidden behavior on the sphinx rendered scikit-learn.org. See: https://github.com/scikit-learn/scikit-learn/issues/21755 */display: inline-block !important;position: relative;}#sk-container-id-2 div.sk-text-repr-fallback {display: none;}</style><div id=\"sk-container-id-2\" class=\"sk-top-container\"><div class=\"sk-text-repr-fallback\"><pre>KMeans(n_clusters=4, n_init=&#x27;auto&#x27;)</pre><b>In a Jupyter environment, please rerun this cell to show the HTML representation or trust the notebook. <br />On GitHub, the HTML representation is unable to render, please try loading this page with nbviewer.org.</b></div><div class=\"sk-container\" hidden><div class=\"sk-item\"><div class=\"sk-estimator sk-toggleable\"><input class=\"sk-toggleable__control sk-hidden--visually\" id=\"sk-estimator-id-2\" type=\"checkbox\" checked><label for=\"sk-estimator-id-2\" class=\"sk-toggleable__label sk-toggleable__label-arrow\">KMeans</label><div class=\"sk-toggleable__content\"><pre>KMeans(n_clusters=4, n_init=&#x27;auto&#x27;)</pre></div></div></div></div></div>"
            ],
            "text/plain": [
              "KMeans(n_clusters=4, n_init='auto')"
            ]
          },
          "execution_count": 56,
          "metadata": {},
          "output_type": "execute_result"
        }
      ],
      "source": [
        "kmeans_clusters.fit(levels_time_transformed_df)"
      ]
    },
    {
      "cell_type": "code",
      "execution_count": null,
      "id": "50dfab9e",
      "metadata": {
        "id": "50dfab9e",
        "outputId": "9abf59e1-bb99-4052-ca92-a46d5a625df1"
      },
      "outputs": [
        {
          "data": {
            "text/plain": [
              "array([0, 1, 2, 3], dtype=int32)"
            ]
          },
          "execution_count": 57,
          "metadata": {},
          "output_type": "execute_result"
        }
      ],
      "source": [
        "np.unique(kmeans_clusters.labels_)"
      ]
    },
    {
      "cell_type": "code",
      "execution_count": null,
      "id": "3c8330d5",
      "metadata": {
        "id": "3c8330d5"
      },
      "outputs": [],
      "source": [
        "duration_levels_df['kmeans_cluster_id'] = kmeans_clusters.labels_"
      ]
    },
    {
      "cell_type": "code",
      "execution_count": null,
      "id": "2b43a280",
      "metadata": {
        "id": "2b43a280",
        "outputId": "02a516e4-e8e9-4342-dfbf-7677de89a81c"
      },
      "outputs": [
        {
          "data": {
            "text/plain": [
              "kmeans_cluster_id\n",
              "0    1188\n",
              "2     976\n",
              "1     685\n",
              "3     684\n",
              "Name: count, dtype: int64"
            ]
          },
          "execution_count": 59,
          "metadata": {},
          "output_type": "execute_result"
        }
      ],
      "source": [
        "duration_levels_df['kmeans_cluster_id'].value_counts()"
      ]
    },
    {
      "cell_type": "code",
      "execution_count": null,
      "id": "b54c2964",
      "metadata": {
        "id": "b54c2964"
      },
      "outputs": [],
      "source": [
        "kmeans_levels_unpivot_df = pd.melt(duration_levels_df[['kmeans_cluster_id'] + levels_time_cols],\n",
        "                                   id_vars=['kmeans_cluster_id'],\n",
        "                                   value_vars = ['time_0', 'time_1', 'time_2', 'time_3'])"
      ]
    },
    {
      "cell_type": "code",
      "execution_count": null,
      "id": "f285d315",
      "metadata": {
        "id": "f285d315",
        "outputId": "45562f3e-c914-43bc-842a-49dba269f38d"
      },
      "outputs": [
        {
          "data": {
            "text/html": [
              "<div>\n",
              "<style scoped>\n",
              "    .dataframe tbody tr th:only-of-type {\n",
              "        vertical-align: middle;\n",
              "    }\n",
              "\n",
              "    .dataframe tbody tr th {\n",
              "        vertical-align: top;\n",
              "    }\n",
              "\n",
              "    .dataframe thead th {\n",
              "        text-align: right;\n",
              "    }\n",
              "</style>\n",
              "<table border=\"1\" class=\"dataframe\">\n",
              "  <thead>\n",
              "    <tr style=\"text-align: right;\">\n",
              "      <th></th>\n",
              "      <th>kmeans_cluster_id</th>\n",
              "      <th>variable</th>\n",
              "      <th>value</th>\n",
              "    </tr>\n",
              "  </thead>\n",
              "  <tbody>\n",
              "    <tr>\n",
              "      <th>0</th>\n",
              "      <td>3</td>\n",
              "      <td>time_0</td>\n",
              "      <td>0.0</td>\n",
              "    </tr>\n",
              "    <tr>\n",
              "      <th>1</th>\n",
              "      <td>3</td>\n",
              "      <td>time_0</td>\n",
              "      <td>0.0</td>\n",
              "    </tr>\n",
              "    <tr>\n",
              "      <th>2</th>\n",
              "      <td>0</td>\n",
              "      <td>time_0</td>\n",
              "      <td>0.0</td>\n",
              "    </tr>\n",
              "    <tr>\n",
              "      <th>3</th>\n",
              "      <td>2</td>\n",
              "      <td>time_0</td>\n",
              "      <td>5494.0</td>\n",
              "    </tr>\n",
              "    <tr>\n",
              "      <th>4</th>\n",
              "      <td>2</td>\n",
              "      <td>time_0</td>\n",
              "      <td>0.0</td>\n",
              "    </tr>\n",
              "    <tr>\n",
              "      <th>...</th>\n",
              "      <td>...</td>\n",
              "      <td>...</td>\n",
              "      <td>...</td>\n",
              "    </tr>\n",
              "    <tr>\n",
              "      <th>14127</th>\n",
              "      <td>0</td>\n",
              "      <td>time_3</td>\n",
              "      <td>1878.0</td>\n",
              "    </tr>\n",
              "    <tr>\n",
              "      <th>14128</th>\n",
              "      <td>0</td>\n",
              "      <td>time_3</td>\n",
              "      <td>554.0</td>\n",
              "    </tr>\n",
              "    <tr>\n",
              "      <th>14129</th>\n",
              "      <td>3</td>\n",
              "      <td>time_3</td>\n",
              "      <td>0.0</td>\n",
              "    </tr>\n",
              "    <tr>\n",
              "      <th>14130</th>\n",
              "      <td>1</td>\n",
              "      <td>time_3</td>\n",
              "      <td>2685.0</td>\n",
              "    </tr>\n",
              "    <tr>\n",
              "      <th>14131</th>\n",
              "      <td>3</td>\n",
              "      <td>time_3</td>\n",
              "      <td>10.0</td>\n",
              "    </tr>\n",
              "  </tbody>\n",
              "</table>\n",
              "<p>14132 rows × 3 columns</p>\n",
              "</div>"
            ],
            "text/plain": [
              "       kmeans_cluster_id variable   value\n",
              "0                      3   time_0     0.0\n",
              "1                      3   time_0     0.0\n",
              "2                      0   time_0     0.0\n",
              "3                      2   time_0  5494.0\n",
              "4                      2   time_0     0.0\n",
              "...                  ...      ...     ...\n",
              "14127                  0   time_3  1878.0\n",
              "14128                  0   time_3   554.0\n",
              "14129                  3   time_3     0.0\n",
              "14130                  1   time_3  2685.0\n",
              "14131                  3   time_3    10.0\n",
              "\n",
              "[14132 rows x 3 columns]"
            ]
          },
          "execution_count": 61,
          "metadata": {},
          "output_type": "execute_result"
        }
      ],
      "source": [
        "kmeans_levels_unpivot_df"
      ]
    },
    {
      "cell_type": "code",
      "execution_count": null,
      "id": "38e64775",
      "metadata": {
        "id": "38e64775",
        "outputId": "9a1d6624-2eb1-429d-fcad-7a3f6e90c5f6"
      },
      "outputs": [
        {
          "data": {
            "image/png": "[encoded data removed]",
            "text/plain": [
              "<Figure size 2000x600 with 1 Axes>"
            ]
          },
          "metadata": {},
          "output_type": "display_data"
        }
      ],
      "source": [
        "plt.figure(figsize = (20, 6))\n",
        "sn.barplot( data = kmeans_levels_unpivot_df,\n",
        "            x = 'kmeans_cluster_id',\n",
        "            y = 'value',\n",
        "            hue = 'variable',\n",
        "            estimator = 'mean');"
      ]
    }
  ],
  "metadata": {
    "kernelspec": {
      "display_name": "Python 3 (ipykernel)",
      "language": "python",
      "name": "python3"
    },
    "language_info": {
      "codemirror_mode": {
        "name": "ipython",
        "version": 3
      },
      "file_extension": ".py",
      "mimetype": "text/x-python",
      "name": "python",
      "nbconvert_exporter": "python",
      "pygments_lexer": "ipython3",
      "version": "3.10.9"
    },
    "colab": {
      "provenance": [],
      "include_colab_link": true
    }
  },
  "nbformat": 4,
  "nbformat_minor": 5
}
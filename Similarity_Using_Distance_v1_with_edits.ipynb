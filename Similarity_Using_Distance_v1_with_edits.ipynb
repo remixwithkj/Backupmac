{
  "cells": [
    {
      "cell_type": "markdown",
      "metadata": {
        "id": "view-in-github",
        "colab_type": "text"
      },
      "source": [
        "<a href=\"https://colab.research.google.com/github/remixwithkj/Backupmac/blob/main/Similarity_Using_Distance_v1_with_edits.ipynb\" target=\"_parent\"><img src=\"https://colab.research.google.com/assets/colab-badge.svg\" alt=\"Open In Colab\"/></a>"
      ]
    },
    {
      "cell_type": "markdown",
      "metadata": {
        "id": "SE-hA09cse-m"
      },
      "source": [
        "# Introduction to Clustering"
      ]
    },
    {
      "cell_type": "code",
      "execution_count": null,
      "metadata": {
        "id": "P4k4EehFL9a9",
        "outputId": "cac226e6-eea7-46d6-8633-ee21e051f508"
      },
      "outputs": [
        {
          "data": {
            "text/html": [
              "<style>.container { width:100% !important; }</style>"
            ],
            "text/plain": [
              "<IPython.core.display.HTML object>"
            ]
          },
          "metadata": {},
          "output_type": "display_data"
        }
      ],
      "source": [
        "from IPython.display import display, HTML\n",
        "display(HTML(\"<style>.container { width:100% !important; }</style>\"))"
      ]
    },
    {
      "cell_type": "code",
      "execution_count": null,
      "metadata": {
        "id": "urAQRaTTse-n"
      },
      "outputs": [],
      "source": [
        "import pandas as pd\n",
        "import numpy as np\n",
        "import matplotlib.pyplot as plt\n",
        "import seaborn as sn"
      ]
    },
    {
      "cell_type": "code",
      "execution_count": null,
      "metadata": {
        "id": "BqErnTPXse-o"
      },
      "outputs": [],
      "source": [
        "custs_df = pd.read_excel(\"https://raw.githubusercontent.com/manaranjanp/ISB_MLUL/main/distance/Distance_Datasets.xlsx\",\n",
        "                         'Customers')"
      ]
    },
    {
      "cell_type": "code",
      "execution_count": null,
      "metadata": {
        "colab": {
          "base_uri": "https://localhost:8080/",
          "height": 175
        },
        "id": "uVj6kbkKse-o",
        "outputId": "13f769cf-e6ec-493d-ca9a-70c336594fd9"
      },
      "outputs": [
        {
          "data": {
            "text/html": [
              "<div>\n",
              "<style scoped>\n",
              "    .dataframe tbody tr th:only-of-type {\n",
              "        vertical-align: middle;\n",
              "    }\n",
              "\n",
              "    .dataframe tbody tr th {\n",
              "        vertical-align: top;\n",
              "    }\n",
              "\n",
              "    .dataframe thead th {\n",
              "        text-align: right;\n",
              "    }\n",
              "</style>\n",
              "<table border=\"1\" class=\"dataframe\">\n",
              "  <thead>\n",
              "    <tr style=\"text-align: right;\">\n",
              "      <th></th>\n",
              "      <th>Name</th>\n",
              "      <th>Age</th>\n",
              "      <th>Income</th>\n",
              "    </tr>\n",
              "  </thead>\n",
              "  <tbody>\n",
              "    <tr>\n",
              "      <th>0</th>\n",
              "      <td>A</td>\n",
              "      <td>20</td>\n",
              "      <td>10000</td>\n",
              "    </tr>\n",
              "    <tr>\n",
              "      <th>1</th>\n",
              "      <td>B</td>\n",
              "      <td>21</td>\n",
              "      <td>11000</td>\n",
              "    </tr>\n",
              "    <tr>\n",
              "      <th>2</th>\n",
              "      <td>C</td>\n",
              "      <td>70</td>\n",
              "      <td>10500</td>\n",
              "    </tr>\n",
              "    <tr>\n",
              "      <th>3</th>\n",
              "      <td>D</td>\n",
              "      <td>50</td>\n",
              "      <td>90000</td>\n",
              "    </tr>\n",
              "  </tbody>\n",
              "</table>\n",
              "</div>"
            ],
            "text/plain": [
              "  Name  Age  Income\n",
              "0    A   20   10000\n",
              "1    B   21   11000\n",
              "2    C   70   10500\n",
              "3    D   50   90000"
            ]
          },
          "execution_count": 159,
          "metadata": {},
          "output_type": "execute_result"
        }
      ],
      "source": [
        "custs_df"
      ]
    },
    {
      "cell_type": "code",
      "execution_count": null,
      "metadata": {
        "id": "HneoKd0rse-o"
      },
      "outputs": [],
      "source": [
        "import warnings\n",
        "warnings.filterwarnings('ignore')"
      ]
    },
    {
      "cell_type": "markdown",
      "metadata": {
        "id": "2yqQ3g8Rse-p"
      },
      "source": [
        "## Euclidean Distance"
      ]
    },
    {
      "cell_type": "markdown",
      "metadata": {
        "id": "enKOKBmxse-p"
      },
      "source": [
        "The  distance between two customers, $customer_{1}$ and $customer_{2}$ is calculated as follows:\n",
        "\n",
        "$\\sqrt{(age_{1} - age_{2})^2 +  (income_{1} - income_{2})^2}$"
      ]
    },
    {
      "cell_type": "code",
      "execution_count": null,
      "metadata": {
        "id": "ovZywKzqse-p"
      },
      "outputs": [],
      "source": [
        "from sklearn.metrics.pairwise import euclidean_distances"
      ]
    },
    {
      "cell_type": "code",
      "execution_count": null,
      "metadata": {
        "id": "3IzuHcASse-q"
      },
      "outputs": [],
      "source": [
        "x = euclidean_distances(custs_df[['Age', 'Income']])"
      ]
    },
    {
      "cell_type": "code",
      "execution_count": null,
      "metadata": {
        "id": "ZPRjwmV3L9bB",
        "outputId": "70403ae9-a035-401b-ca30-f0635d6646ab"
      },
      "outputs": [
        {
          "data": {
            "text/plain": [
              "array([[    0.        ,  1000.0005    ,   502.49378106, 80000.005625  ],\n",
              "       [ 1000.0005    ,     0.        ,   502.39526272, 79000.00532278],\n",
              "       [  502.49378106,   502.39526272,     0.        , 79500.00251572],\n",
              "       [80000.005625  , 79000.00532278, 79500.00251572,     0.        ]])"
            ]
          },
          "execution_count": 169,
          "metadata": {},
          "output_type": "execute_result"
        }
      ],
      "source": [
        "x"
      ]
    },
    {
      "cell_type": "markdown",
      "metadata": {
        "id": "_sSfIUVDL9bB"
      },
      "source": [
        "## Convert array to pandas dataframe and presenting it in a more readable format"
      ]
    },
    {
      "cell_type": "code",
      "execution_count": null,
      "metadata": {
        "id": "pG57heJVL9bB",
        "outputId": "88da6159-bb25-499a-e50f-14b234b449e5"
      },
      "outputs": [
        {
          "name": "stdout",
          "output_type": "stream",
          "text": [
            "\n",
            "Pandas DataFrame for euclidean distance: \n"
          ]
        },
        {
          "data": {
            "text/html": [
              "<div>\n",
              "<style scoped>\n",
              "    .dataframe tbody tr th:only-of-type {\n",
              "        vertical-align: middle;\n",
              "    }\n",
              "\n",
              "    .dataframe tbody tr th {\n",
              "        vertical-align: top;\n",
              "    }\n",
              "\n",
              "    .dataframe thead th {\n",
              "        text-align: right;\n",
              "    }\n",
              "</style>\n",
              "<table border=\"1\" class=\"dataframe\">\n",
              "  <thead>\n",
              "    <tr style=\"text-align: right;\">\n",
              "      <th></th>\n",
              "      <th>A</th>\n",
              "      <th>B</th>\n",
              "      <th>C</th>\n",
              "      <th>D</th>\n",
              "    </tr>\n",
              "  </thead>\n",
              "  <tbody>\n",
              "    <tr>\n",
              "      <th>A</th>\n",
              "      <td>0.000000</td>\n",
              "      <td>1000.000500</td>\n",
              "      <td>502.493781</td>\n",
              "      <td>80000.005625</td>\n",
              "    </tr>\n",
              "    <tr>\n",
              "      <th>B</th>\n",
              "      <td>1000.000500</td>\n",
              "      <td>0.000000</td>\n",
              "      <td>502.395263</td>\n",
              "      <td>79000.005323</td>\n",
              "    </tr>\n",
              "    <tr>\n",
              "      <th>C</th>\n",
              "      <td>502.493781</td>\n",
              "      <td>502.395263</td>\n",
              "      <td>0.000000</td>\n",
              "      <td>79500.002516</td>\n",
              "    </tr>\n",
              "    <tr>\n",
              "      <th>D</th>\n",
              "      <td>80000.005625</td>\n",
              "      <td>79000.005323</td>\n",
              "      <td>79500.002516</td>\n",
              "      <td>0.000000</td>\n",
              "    </tr>\n",
              "  </tbody>\n",
              "</table>\n",
              "</div>"
            ],
            "text/plain": [
              "              A             B             C             D\n",
              "A      0.000000   1000.000500    502.493781  80000.005625\n",
              "B   1000.000500      0.000000    502.395263  79000.005323\n",
              "C    502.493781    502.395263      0.000000  79500.002516\n",
              "D  80000.005625  79000.005323  79500.002516      0.000000"
            ]
          },
          "execution_count": 172,
          "metadata": {},
          "output_type": "execute_result"
        }
      ],
      "source": [
        "df_ecd = pd.DataFrame(data = x, index =[\"A\", \"B\", \"C\", \"D\"],\n",
        "                  columns =[\"A\", \"B\", \"C\", \"D\"])\n",
        "\n",
        "print(\"\\nPandas DataFrame for euclidean distance: \")\n",
        "df_ecd"
      ]
    },
    {
      "cell_type": "code",
      "execution_count": null,
      "metadata": {
        "id": "TjbP0zB_L9bB"
      },
      "outputs": [],
      "source": [
        "#row by label\n",
        "\n",
        "# Selecting a row by label using .loc[]\n",
        "row_by_label = df_ecd.loc[1]  # Selects the row with index label 1\n",
        "# it must throw and error because we have no such index and indeed it did!"
      ]
    },
    {
      "cell_type": "code",
      "execution_count": null,
      "metadata": {
        "id": "X-spVLpDL9bC",
        "outputId": "0a2f34b9-2193-4c83-d12f-cea6de386983"
      },
      "outputs": [
        {
          "data": {
            "text/plain": [
              "A        0.000000\n",
              "B     1000.000500\n",
              "C      502.493781\n",
              "D    80000.005625\n",
              "Name: A, dtype: float64"
            ]
          },
          "execution_count": 178,
          "metadata": {},
          "output_type": "execute_result"
        }
      ],
      "source": [
        "#row by label\n",
        "\n",
        "# Selecting a row by label using .loc[]\n",
        "row_by_label1 = df_ecd.loc[\"A\"]  # Selects the row with index label A\n",
        "row_by_label1"
      ]
    },
    {
      "cell_type": "code",
      "execution_count": null,
      "metadata": {
        "id": "8yRzi3uRL9bC",
        "outputId": "fe927281-e051-4e99-a366-c39fc7ff1f8a"
      },
      "outputs": [
        {
          "data": {
            "text/html": [
              "<div>\n",
              "<style scoped>\n",
              "    .dataframe tbody tr th:only-of-type {\n",
              "        vertical-align: middle;\n",
              "    }\n",
              "\n",
              "    .dataframe tbody tr th {\n",
              "        vertical-align: top;\n",
              "    }\n",
              "\n",
              "    .dataframe thead th {\n",
              "        text-align: right;\n",
              "    }\n",
              "</style>\n",
              "<table border=\"1\" class=\"dataframe\">\n",
              "  <thead>\n",
              "    <tr style=\"text-align: right;\">\n",
              "      <th></th>\n",
              "      <th>A</th>\n",
              "      <th>B</th>\n",
              "      <th>C</th>\n",
              "      <th>D</th>\n",
              "    </tr>\n",
              "  </thead>\n",
              "  <tbody>\n",
              "    <tr>\n",
              "      <th>A</th>\n",
              "      <td>0.0</td>\n",
              "      <td>1000.0005</td>\n",
              "      <td>502.493781</td>\n",
              "      <td>80000.005625</td>\n",
              "    </tr>\n",
              "  </tbody>\n",
              "</table>\n",
              "</div>"
            ],
            "text/plain": [
              "     A          B           C             D\n",
              "A  0.0  1000.0005  502.493781  80000.005625"
            ]
          },
          "execution_count": 180,
          "metadata": {},
          "output_type": "execute_result"
        }
      ],
      "source": [
        "# Selecting a row by integer position using .iloc[]\n",
        "row_by_position = df_ecd.iloc[0:1]  # Selects the first row (Bob)\n",
        "row_by_position"
      ]
    },
    {
      "cell_type": "code",
      "execution_count": null,
      "metadata": {
        "id": "2HJdjDEYL9bC",
        "outputId": "58c59020-b22b-4ca1-da77-e4f75d9f3f2c"
      },
      "outputs": [
        {
          "data": {
            "text/html": [
              "<div>\n",
              "<style scoped>\n",
              "    .dataframe tbody tr th:only-of-type {\n",
              "        vertical-align: middle;\n",
              "    }\n",
              "\n",
              "    .dataframe tbody tr th {\n",
              "        vertical-align: top;\n",
              "    }\n",
              "\n",
              "    .dataframe thead th {\n",
              "        text-align: right;\n",
              "    }\n",
              "</style>\n",
              "<table border=\"1\" class=\"dataframe\">\n",
              "  <thead>\n",
              "    <tr style=\"text-align: right;\">\n",
              "      <th></th>\n",
              "      <th>A</th>\n",
              "      <th>B</th>\n",
              "      <th>C</th>\n",
              "      <th>D</th>\n",
              "    </tr>\n",
              "  </thead>\n",
              "  <tbody>\n",
              "    <tr>\n",
              "      <th>A</th>\n",
              "      <td>0.0</td>\n",
              "      <td>1000.0005</td>\n",
              "      <td>502.493781</td>\n",
              "      <td>80000.005625</td>\n",
              "    </tr>\n",
              "  </tbody>\n",
              "</table>\n",
              "</div>"
            ],
            "text/plain": [
              "     A          B           C             D\n",
              "A  0.0  1000.0005  502.493781  80000.005625"
            ]
          },
          "execution_count": 182,
          "metadata": {},
          "output_type": "execute_result"
        }
      ],
      "source": [
        "# Selecting a row based on a condition\n",
        "row_condition = df_ecd[df_ecd['A'] == 0]  # Selects rows where A==0\n",
        "row_condition"
      ]
    },
    {
      "cell_type": "code",
      "execution_count": null,
      "metadata": {
        "id": "zVsHj6rFL9bC",
        "outputId": "7b9c435c-9dbc-4e72-89a0-9e6980b2242a"
      },
      "outputs": [
        {
          "data": {
            "text/html": [
              "<div>\n",
              "<style scoped>\n",
              "    .dataframe tbody tr th:only-of-type {\n",
              "        vertical-align: middle;\n",
              "    }\n",
              "\n",
              "    .dataframe tbody tr th {\n",
              "        vertical-align: top;\n",
              "    }\n",
              "\n",
              "    .dataframe thead th {\n",
              "        text-align: right;\n",
              "    }\n",
              "</style>\n",
              "<table border=\"1\" class=\"dataframe\">\n",
              "  <thead>\n",
              "    <tr style=\"text-align: right;\">\n",
              "      <th></th>\n",
              "      <th>A</th>\n",
              "      <th>B</th>\n",
              "      <th>C</th>\n",
              "      <th>D</th>\n",
              "    </tr>\n",
              "  </thead>\n",
              "  <tbody>\n",
              "    <tr>\n",
              "      <th>B</th>\n",
              "      <td>1000.000500</td>\n",
              "      <td>0.000000</td>\n",
              "      <td>502.395263</td>\n",
              "      <td>79000.005323</td>\n",
              "    </tr>\n",
              "    <tr>\n",
              "      <th>C</th>\n",
              "      <td>502.493781</td>\n",
              "      <td>502.395263</td>\n",
              "      <td>0.000000</td>\n",
              "      <td>79500.002516</td>\n",
              "    </tr>\n",
              "    <tr>\n",
              "      <th>D</th>\n",
              "      <td>80000.005625</td>\n",
              "      <td>79000.005323</td>\n",
              "      <td>79500.002516</td>\n",
              "      <td>0.000000</td>\n",
              "    </tr>\n",
              "  </tbody>\n",
              "</table>\n",
              "</div>"
            ],
            "text/plain": [
              "              A             B             C             D\n",
              "B   1000.000500      0.000000    502.395263  79000.005323\n",
              "C    502.493781    502.395263      0.000000  79500.002516\n",
              "D  80000.005625  79000.005323  79500.002516      0.000000"
            ]
          },
          "execution_count": 184,
          "metadata": {},
          "output_type": "execute_result"
        }
      ],
      "source": [
        "# Selecting a row based on a condition\n",
        "row_condition = df_ecd[df_ecd['A'] != 0]  # Selects rows where A!=0\n",
        "row_condition"
      ]
    },
    {
      "cell_type": "markdown",
      "metadata": {
        "id": "8JLIZPLlL9bC"
      },
      "source": [
        "## General format of and iloc  is\n",
        "df.iloc[0:2, 0:2]` selects the first two rows (index 0 and 1) and the first two columns (index 0 and 1)\n",
        "\n",
        "iloc[row_range, column_range]"
      ]
    },
    {
      "cell_type": "markdown",
      "metadata": {
        "id": "pS3M0OIfL9bC"
      },
      "source": [
        "## Select all columns and first row from the euclidean dataframe using iloc"
      ]
    },
    {
      "cell_type": "code",
      "execution_count": null,
      "metadata": {
        "id": "Idw6u2LxL9bC",
        "outputId": "0c705779-71b3-4750-9eda-08184a4b3621"
      },
      "outputs": [
        {
          "data": {
            "text/html": [
              "<div>\n",
              "<style scoped>\n",
              "    .dataframe tbody tr th:only-of-type {\n",
              "        vertical-align: middle;\n",
              "    }\n",
              "\n",
              "    .dataframe tbody tr th {\n",
              "        vertical-align: top;\n",
              "    }\n",
              "\n",
              "    .dataframe thead th {\n",
              "        text-align: right;\n",
              "    }\n",
              "</style>\n",
              "<table border=\"1\" class=\"dataframe\">\n",
              "  <thead>\n",
              "    <tr style=\"text-align: right;\">\n",
              "      <th></th>\n",
              "      <th>A</th>\n",
              "      <th>B</th>\n",
              "      <th>C</th>\n",
              "      <th>D</th>\n",
              "    </tr>\n",
              "  </thead>\n",
              "  <tbody>\n",
              "    <tr>\n",
              "      <th>A</th>\n",
              "      <td>0.0</td>\n",
              "      <td>1000.0005</td>\n",
              "      <td>502.493781</td>\n",
              "      <td>80000.005625</td>\n",
              "    </tr>\n",
              "  </tbody>\n",
              "</table>\n",
              "</div>"
            ],
            "text/plain": [
              "     A          B           C             D\n",
              "A  0.0  1000.0005  502.493781  80000.005625"
            ]
          },
          "execution_count": 188,
          "metadata": {},
          "output_type": "execute_result"
        }
      ],
      "source": [
        "# Selecting first row and column using .iloc[]\n",
        "frfc = df_ecd.iloc[0:1,0:4]  # Selects the first row (Bob)\n",
        "frfc"
      ]
    },
    {
      "cell_type": "code",
      "execution_count": null,
      "metadata": {
        "colab": {
          "base_uri": "https://localhost:8080/",
          "height": 449
        },
        "id": "Ldlxczntse-o",
        "outputId": "45fa928f-62f4-453f-cfc6-2e379b8257b1"
      },
      "outputs": [
        {
          "data": {
            "image/png": "[encoded data removed]",
            "text/plain": [
              "<Figure size 640x480 with 1 Axes>"
            ]
          },
          "metadata": {},
          "output_type": "display_data"
        }
      ],
      "source": [
        "sn.set_theme(style=\"ticks\")\n",
        "sn.scatterplot(data = custs_df,\n",
        "               x = 'Age',\n",
        "               y = 'Income');"
      ]
    },
    {
      "cell_type": "markdown",
      "metadata": {
        "id": "_c470jybse-q"
      },
      "source": [
        "#### Inference:\n",
        "\n",
        "- Distance wise A and B are very different, whereas A and c are similar.\n",
        "In reality, A and B are are very similar whereas A and C are very different as they have huge difference in terms of age.\n",
        "\n",
        "- This is because of difference in scale in which age and income are represented."
      ]
    },
    {
      "cell_type": "markdown",
      "metadata": {
        "id": "Bn5yxqt7se-q"
      },
      "source": [
        "##  Min Max Scaling\n",
        "\n",
        "\n",
        "In this technique, the minimum value of the feature is scaled to 0 and the maximum value is scaled to 1. All other values are scaled to a value between 0 and 1 based on their relative position to the minimum and maximum values.\n",
        "\n",
        "$X_{norm} = \\frac{X_{i} - X_{min}}{X_{max} - X_{min}}$\n",
        "\n",
        "[Sklearn Source](https://scikit-learn.org/stable/modules/generated/sklearn.preprocessing.MinMaxScaler.html)"
      ]
    },
    {
      "cell_type": "code",
      "execution_count": null,
      "metadata": {
        "id": "qjRTMdJCse-q"
      },
      "outputs": [],
      "source": [
        "from sklearn.preprocessing import MinMaxScaler"
      ]
    },
    {
      "cell_type": "code",
      "execution_count": null,
      "metadata": {
        "id": "5o5k_OazL9bD",
        "outputId": "8e9a9213-6140-42b0-881e-c6d5d2cbc7e3"
      },
      "outputs": [
        {
          "data": {
            "text/html": [
              "<div>\n",
              "<style scoped>\n",
              "    .dataframe tbody tr th:only-of-type {\n",
              "        vertical-align: middle;\n",
              "    }\n",
              "\n",
              "    .dataframe tbody tr th {\n",
              "        vertical-align: top;\n",
              "    }\n",
              "\n",
              "    .dataframe thead th {\n",
              "        text-align: right;\n",
              "    }\n",
              "</style>\n",
              "<table border=\"1\" class=\"dataframe\">\n",
              "  <thead>\n",
              "    <tr style=\"text-align: right;\">\n",
              "      <th></th>\n",
              "      <th>Name</th>\n",
              "      <th>Age</th>\n",
              "      <th>Income</th>\n",
              "    </tr>\n",
              "  </thead>\n",
              "  <tbody>\n",
              "    <tr>\n",
              "      <th>0</th>\n",
              "      <td>A</td>\n",
              "      <td>20</td>\n",
              "      <td>10000</td>\n",
              "    </tr>\n",
              "    <tr>\n",
              "      <th>1</th>\n",
              "      <td>B</td>\n",
              "      <td>21</td>\n",
              "      <td>11000</td>\n",
              "    </tr>\n",
              "    <tr>\n",
              "      <th>2</th>\n",
              "      <td>C</td>\n",
              "      <td>70</td>\n",
              "      <td>10500</td>\n",
              "    </tr>\n",
              "    <tr>\n",
              "      <th>3</th>\n",
              "      <td>D</td>\n",
              "      <td>50</td>\n",
              "      <td>90000</td>\n",
              "    </tr>\n",
              "  </tbody>\n",
              "</table>\n",
              "</div>"
            ],
            "text/plain": [
              "  Name  Age  Income\n",
              "0    A   20   10000\n",
              "1    B   21   11000\n",
              "2    C   70   10500\n",
              "3    D   50   90000"
            ]
          },
          "execution_count": 196,
          "metadata": {},
          "output_type": "execute_result"
        }
      ],
      "source": [
        "custs_df"
      ]
    },
    {
      "cell_type": "markdown",
      "metadata": {
        "id": "JtR2q9PAL9bD"
      },
      "source": [
        "1. `scaler = MinMaxScaler()` - This line initializes an instance of the `MinMaxScaler` class from the `sklearn.preprocessing` module. The `MinMaxScaler` is used to scale features to a specified range, typically between 0 and 1.\n",
        "\n",
        "2. `scaled_custs_df = scaler.fit_transform(custs_df[[\"Age\", \"Income\"]])` - This line applies the `fit_transform()` method of the `MinMaxScaler` to the specified columns (\"Age\" and \"Income\") of the `custs_df` DataFrame. `fit_transform()` first computes the minimum and maximum values for each feature (column) and then scales the data accordingly. The result is a NumPy array where the values of \"Age\" and \"Income\" are scaled to the range [0, 1].\n",
        "\n",
        "4. `scaled_custs_df` - This line outputs the entire scaled array, which contains the transformed values of \"Age\" and \"Income\" after scaling."
      ]
    },
    {
      "cell_type": "code",
      "execution_count": null,
      "metadata": {
        "colab": {
          "base_uri": "https://localhost:8080/"
        },
        "id": "Wt65ecs3se-q",
        "outputId": "b459a9ce-6819-4f85-d3a6-58f55642918e"
      },
      "outputs": [
        {
          "data": {
            "text/plain": [
              "array([[0.     , 0.     ],\n",
              "       [0.02   , 0.0125 ],\n",
              "       [1.     , 0.00625],\n",
              "       [0.6    , 1.     ]])"
            ]
          },
          "execution_count": 199,
          "metadata": {},
          "output_type": "execute_result"
        }
      ],
      "source": [
        "scaler = MinMaxScaler()\n",
        "scaled_custs_df = scaler.fit_transform(custs_df[[\"Age\", \"Income\"]] )\n",
        "scaled_custs_df\n",
        "# scaled_custs_df[0:10]"
      ]
    },
    {
      "cell_type": "code",
      "execution_count": null,
      "metadata": {
        "id": "lwDX-TsVse-q",
        "outputId": "1c564e8e-db60-4111-8a0e-af153a29cdad"
      },
      "outputs": [
        {
          "data": {
            "text/plain": [
              "array([[0.        , 0.02358495, 1.00001953, 1.16619038],\n",
              "       [0.02358495, 0.        , 0.98001993, 1.14523196],\n",
              "       [1.00001953, 0.98001993, 0.        , 1.0712325 ],\n",
              "       [1.16619038, 1.14523196, 1.0712325 , 0.        ]])"
            ]
          },
          "execution_count": 201,
          "metadata": {},
          "output_type": "execute_result"
        }
      ],
      "source": [
        "dist = euclidean_distances(scaled_custs_df)\n",
        "dist"
      ]
    },
    {
      "cell_type": "code",
      "execution_count": null,
      "metadata": {
        "id": "zzjdhyuML9bE",
        "outputId": "290d30c3-24b1-4d8e-861a-79ad87007967"
      },
      "outputs": [
        {
          "name": "stdout",
          "output_type": "stream",
          "text": [
            "\n",
            "Pandas DataFrame for euclidean distance post min_max scaling: \n"
          ]
        },
        {
          "data": {
            "text/html": [
              "<div>\n",
              "<style scoped>\n",
              "    .dataframe tbody tr th:only-of-type {\n",
              "        vertical-align: middle;\n",
              "    }\n",
              "\n",
              "    .dataframe tbody tr th {\n",
              "        vertical-align: top;\n",
              "    }\n",
              "\n",
              "    .dataframe thead th {\n",
              "        text-align: right;\n",
              "    }\n",
              "</style>\n",
              "<table border=\"1\" class=\"dataframe\">\n",
              "  <thead>\n",
              "    <tr style=\"text-align: right;\">\n",
              "      <th></th>\n",
              "      <th>A</th>\n",
              "      <th>B</th>\n",
              "      <th>C</th>\n",
              "      <th>D</th>\n",
              "    </tr>\n",
              "  </thead>\n",
              "  <tbody>\n",
              "    <tr>\n",
              "      <th>A</th>\n",
              "      <td>0.000000</td>\n",
              "      <td>0.023585</td>\n",
              "      <td>1.000020</td>\n",
              "      <td>1.166190</td>\n",
              "    </tr>\n",
              "    <tr>\n",
              "      <th>B</th>\n",
              "      <td>0.023585</td>\n",
              "      <td>0.000000</td>\n",
              "      <td>0.980020</td>\n",
              "      <td>1.145232</td>\n",
              "    </tr>\n",
              "    <tr>\n",
              "      <th>C</th>\n",
              "      <td>1.000020</td>\n",
              "      <td>0.980020</td>\n",
              "      <td>0.000000</td>\n",
              "      <td>1.071232</td>\n",
              "    </tr>\n",
              "    <tr>\n",
              "      <th>D</th>\n",
              "      <td>1.166190</td>\n",
              "      <td>1.145232</td>\n",
              "      <td>1.071232</td>\n",
              "      <td>0.000000</td>\n",
              "    </tr>\n",
              "  </tbody>\n",
              "</table>\n",
              "</div>"
            ],
            "text/plain": [
              "          A         B         C         D\n",
              "A  0.000000  0.023585  1.000020  1.166190\n",
              "B  0.023585  0.000000  0.980020  1.145232\n",
              "C  1.000020  0.980020  0.000000  1.071232\n",
              "D  1.166190  1.145232  1.071232  0.000000"
            ]
          },
          "execution_count": 203,
          "metadata": {},
          "output_type": "execute_result"
        }
      ],
      "source": [
        "df_ecd1 = pd.DataFrame(data = dist, index =[\"A\", \"B\", \"C\", \"D\"],\n",
        "                  columns =[\"A\", \"B\", \"C\", \"D\"])\n",
        "\n",
        "print(\"\\nPandas DataFrame for euclidean distance post min_max scaling: \")\n",
        "df_ecd1"
      ]
    },
    {
      "cell_type": "code",
      "execution_count": null,
      "metadata": {
        "id": "-xOZ4_IbL9bE",
        "outputId": "a598ff85-857f-48f6-b989-4f8736e79bbf"
      },
      "outputs": [
        {
          "data": {
            "text/html": [
              "<div>\n",
              "<style scoped>\n",
              "    .dataframe tbody tr th:only-of-type {\n",
              "        vertical-align: middle;\n",
              "    }\n",
              "\n",
              "    .dataframe tbody tr th {\n",
              "        vertical-align: top;\n",
              "    }\n",
              "\n",
              "    .dataframe thead th {\n",
              "        text-align: right;\n",
              "    }\n",
              "</style>\n",
              "<table border=\"1\" class=\"dataframe\">\n",
              "  <thead>\n",
              "    <tr style=\"text-align: right;\">\n",
              "      <th></th>\n",
              "      <th>A</th>\n",
              "      <th>B</th>\n",
              "      <th>C</th>\n",
              "      <th>D</th>\n",
              "    </tr>\n",
              "  </thead>\n",
              "  <tbody>\n",
              "    <tr>\n",
              "      <th>A</th>\n",
              "      <td>0.0</td>\n",
              "      <td>0.023585</td>\n",
              "      <td>1.00002</td>\n",
              "      <td>1.16619</td>\n",
              "    </tr>\n",
              "  </tbody>\n",
              "</table>\n",
              "</div>"
            ],
            "text/plain": [
              "     A         B        C        D\n",
              "A  0.0  0.023585  1.00002  1.16619"
            ]
          },
          "execution_count": 205,
          "metadata": {},
          "output_type": "execute_result"
        }
      ],
      "source": [
        "#isolating all columns and first row using iloc\n",
        "# Selecting first row and column using .iloc[]\n",
        "frfc1 = df_ecd1.iloc[0:1,0:4]\n",
        "frfc1"
      ]
    },
    {
      "cell_type": "markdown",
      "metadata": {
        "id": "-CMfNaTdse-q"
      },
      "source": [
        "## Cosine Distances"
      ]
    },
    {
      "cell_type": "markdown",
      "metadata": {
        "id": "gX6gl0ZnL9bE"
      },
      "source": [
        "Running cosine similarity function without scaling"
      ]
    },
    {
      "cell_type": "code",
      "execution_count": null,
      "metadata": {
        "id": "t9OUoolQse-r"
      },
      "outputs": [],
      "source": [
        "from sklearn.metrics.pairwise import cosine_similarity"
      ]
    },
    {
      "cell_type": "code",
      "execution_count": null,
      "metadata": {
        "colab": {
          "base_uri": "https://localhost:8080/"
        },
        "id": "UlxLT0hCse-r",
        "outputId": "3f170c15-ab3a-4895-a3a9-e1d4f5480633"
      },
      "outputs": [
        {
          "data": {
            "text/plain": [
              "array([[1.        , 1.        , 0.99998911, 0.99999896],\n",
              "       [1.        , 1.        , 0.99998868, 0.99999908],\n",
              "       [0.99998911, 0.99998868, 1.        , 0.99998133],\n",
              "       [0.99999896, 0.99999908, 0.99998133, 1.        ]])"
            ]
          },
          "execution_count": 211,
          "metadata": {},
          "output_type": "execute_result"
        }
      ],
      "source": [
        "cs= cosine_similarity(custs_df[['Age', 'Income']])\n",
        "cs"
      ]
    },
    {
      "cell_type": "code",
      "execution_count": null,
      "metadata": {
        "id": "4DtJ1s1lL9bE",
        "outputId": "b3bfe6fe-371d-4434-a5f1-77e98fd2ea53"
      },
      "outputs": [
        {
          "name": "stdout",
          "output_type": "stream",
          "text": [
            "\n",
            "Pandas DataFrame for cs: \n"
          ]
        },
        {
          "data": {
            "text/html": [
              "<div>\n",
              "<style scoped>\n",
              "    .dataframe tbody tr th:only-of-type {\n",
              "        vertical-align: middle;\n",
              "    }\n",
              "\n",
              "    .dataframe tbody tr th {\n",
              "        vertical-align: top;\n",
              "    }\n",
              "\n",
              "    .dataframe thead th {\n",
              "        text-align: right;\n",
              "    }\n",
              "</style>\n",
              "<table border=\"1\" class=\"dataframe\">\n",
              "  <thead>\n",
              "    <tr style=\"text-align: right;\">\n",
              "      <th></th>\n",
              "      <th>A</th>\n",
              "      <th>B</th>\n",
              "      <th>C</th>\n",
              "      <th>D</th>\n",
              "    </tr>\n",
              "  </thead>\n",
              "  <tbody>\n",
              "    <tr>\n",
              "      <th>A</th>\n",
              "      <td>1.000000</td>\n",
              "      <td>1.000000</td>\n",
              "      <td>0.999989</td>\n",
              "      <td>0.999999</td>\n",
              "    </tr>\n",
              "    <tr>\n",
              "      <th>B</th>\n",
              "      <td>1.000000</td>\n",
              "      <td>1.000000</td>\n",
              "      <td>0.999989</td>\n",
              "      <td>0.999999</td>\n",
              "    </tr>\n",
              "    <tr>\n",
              "      <th>C</th>\n",
              "      <td>0.999989</td>\n",
              "      <td>0.999989</td>\n",
              "      <td>1.000000</td>\n",
              "      <td>0.999981</td>\n",
              "    </tr>\n",
              "    <tr>\n",
              "      <th>D</th>\n",
              "      <td>0.999999</td>\n",
              "      <td>0.999999</td>\n",
              "      <td>0.999981</td>\n",
              "      <td>1.000000</td>\n",
              "    </tr>\n",
              "  </tbody>\n",
              "</table>\n",
              "</div>"
            ],
            "text/plain": [
              "          A         B         C         D\n",
              "A  1.000000  1.000000  0.999989  0.999999\n",
              "B  1.000000  1.000000  0.999989  0.999999\n",
              "C  0.999989  0.999989  1.000000  0.999981\n",
              "D  0.999999  0.999999  0.999981  1.000000"
            ]
          },
          "execution_count": 213,
          "metadata": {},
          "output_type": "execute_result"
        }
      ],
      "source": [
        "df_ecd2 = pd.DataFrame(data = cs, index =[\"A\", \"B\", \"C\", \"D\"],\n",
        "                  columns =[\"A\", \"B\", \"C\", \"D\"])\n",
        "\n",
        "print(\"\\nPandas DataFrame for cs: \")\n",
        "df_ecd2"
      ]
    },
    {
      "cell_type": "code",
      "execution_count": null,
      "metadata": {
        "id": "_JC8dZopL9bF",
        "outputId": "7d56a15d-60c4-429d-e688-f2a9030cef00"
      },
      "outputs": [
        {
          "data": {
            "text/html": [
              "<div>\n",
              "<style scoped>\n",
              "    .dataframe tbody tr th:only-of-type {\n",
              "        vertical-align: middle;\n",
              "    }\n",
              "\n",
              "    .dataframe tbody tr th {\n",
              "        vertical-align: top;\n",
              "    }\n",
              "\n",
              "    .dataframe thead th {\n",
              "        text-align: right;\n",
              "    }\n",
              "</style>\n",
              "<table border=\"1\" class=\"dataframe\">\n",
              "  <thead>\n",
              "    <tr style=\"text-align: right;\">\n",
              "      <th></th>\n",
              "      <th>A</th>\n",
              "      <th>B</th>\n",
              "      <th>C</th>\n",
              "      <th>D</th>\n",
              "    </tr>\n",
              "  </thead>\n",
              "  <tbody>\n",
              "    <tr>\n",
              "      <th>A</th>\n",
              "      <td>1.0</td>\n",
              "      <td>1.0</td>\n",
              "      <td>0.999989</td>\n",
              "      <td>0.999999</td>\n",
              "    </tr>\n",
              "  </tbody>\n",
              "</table>\n",
              "</div>"
            ],
            "text/plain": [
              "     A    B         C         D\n",
              "A  1.0  1.0  0.999989  0.999999"
            ]
          },
          "execution_count": 215,
          "metadata": {},
          "output_type": "execute_result"
        }
      ],
      "source": [
        "#isolating all columns and first row using iloc\n",
        "# Selecting first row and column using .iloc[]\n",
        "frfc2 = df_ecd2.iloc[0:1,0:4]\n",
        "frfc2"
      ]
    },
    {
      "cell_type": "markdown",
      "metadata": {
        "id": "HXg5GvptL9bF"
      },
      "source": [
        "Running cosine similarity function with min-max scaling first"
      ]
    },
    {
      "cell_type": "code",
      "execution_count": null,
      "metadata": {
        "id": "m2SlCs1JL9bF",
        "outputId": "9a79d97e-0b81-4a84-dbb2-ba6edf78f2d4"
      },
      "outputs": [
        {
          "data": {
            "text/plain": [
              "array([[0.     , 0.     ],\n",
              "       [0.02   , 0.0125 ],\n",
              "       [1.     , 0.00625],\n",
              "       [0.6    , 1.     ]])"
            ]
          },
          "execution_count": 218,
          "metadata": {},
          "output_type": "execute_result"
        }
      ],
      "source": [
        "scaled_custs_df"
      ]
    },
    {
      "cell_type": "code",
      "execution_count": null,
      "metadata": {
        "id": "SCfctaM5L9bF",
        "outputId": "8da2136e-33e5-4889-c961-9b439cd0a119"
      },
      "outputs": [
        {
          "data": {
            "text/plain": [
              "array([[0.        , 0.        , 0.        , 0.        ],\n",
              "       [0.        , 1.        , 0.85129417, 0.89076187],\n",
              "       [0.        , 0.85129417, 1.        , 0.51984493],\n",
              "       [0.        , 0.89076187, 0.51984493, 1.        ]])"
            ]
          },
          "execution_count": 220,
          "metadata": {},
          "output_type": "execute_result"
        }
      ],
      "source": [
        "#cosine similarity\n",
        "\n",
        "cosine_sim = cosine_similarity(scaled_custs_df)\n",
        "cosine_sim"
      ]
    },
    {
      "cell_type": "code",
      "execution_count": null,
      "metadata": {
        "id": "GASAa77yL9bF",
        "outputId": "71037126-e1f1-43c9-a801-e31d58730dbb"
      },
      "outputs": [
        {
          "name": "stdout",
          "output_type": "stream",
          "text": [
            "\n",
            "Pandas DataFrame for cs post min-max scaler: \n"
          ]
        },
        {
          "data": {
            "text/html": [
              "<div>\n",
              "<style scoped>\n",
              "    .dataframe tbody tr th:only-of-type {\n",
              "        vertical-align: middle;\n",
              "    }\n",
              "\n",
              "    .dataframe tbody tr th {\n",
              "        vertical-align: top;\n",
              "    }\n",
              "\n",
              "    .dataframe thead th {\n",
              "        text-align: right;\n",
              "    }\n",
              "</style>\n",
              "<table border=\"1\" class=\"dataframe\">\n",
              "  <thead>\n",
              "    <tr style=\"text-align: right;\">\n",
              "      <th></th>\n",
              "      <th>A</th>\n",
              "      <th>B</th>\n",
              "      <th>C</th>\n",
              "      <th>D</th>\n",
              "    </tr>\n",
              "  </thead>\n",
              "  <tbody>\n",
              "    <tr>\n",
              "      <th>A</th>\n",
              "      <td>0.0</td>\n",
              "      <td>0.000000</td>\n",
              "      <td>0.000000</td>\n",
              "      <td>0.000000</td>\n",
              "    </tr>\n",
              "    <tr>\n",
              "      <th>B</th>\n",
              "      <td>0.0</td>\n",
              "      <td>1.000000</td>\n",
              "      <td>0.851294</td>\n",
              "      <td>0.890762</td>\n",
              "    </tr>\n",
              "    <tr>\n",
              "      <th>C</th>\n",
              "      <td>0.0</td>\n",
              "      <td>0.851294</td>\n",
              "      <td>1.000000</td>\n",
              "      <td>0.519845</td>\n",
              "    </tr>\n",
              "    <tr>\n",
              "      <th>D</th>\n",
              "      <td>0.0</td>\n",
              "      <td>0.890762</td>\n",
              "      <td>0.519845</td>\n",
              "      <td>1.000000</td>\n",
              "    </tr>\n",
              "  </tbody>\n",
              "</table>\n",
              "</div>"
            ],
            "text/plain": [
              "     A         B         C         D\n",
              "A  0.0  0.000000  0.000000  0.000000\n",
              "B  0.0  1.000000  0.851294  0.890762\n",
              "C  0.0  0.851294  1.000000  0.519845\n",
              "D  0.0  0.890762  0.519845  1.000000"
            ]
          },
          "execution_count": 222,
          "metadata": {},
          "output_type": "execute_result"
        }
      ],
      "source": [
        "# convert the array into dataframe\n",
        "\n",
        "df_ecd3 = pd.DataFrame(data = cosine_sim, index =[\"A\", \"B\", \"C\", \"D\"],\n",
        "                  columns =[\"A\", \"B\", \"C\", \"D\"])\n",
        "\n",
        "print(\"\\nPandas DataFrame for cs post min-max scaler: \")\n",
        "df_ecd3"
      ]
    },
    {
      "cell_type": "code",
      "execution_count": null,
      "metadata": {
        "id": "wSVwatJpL9bG",
        "outputId": "5beec3bf-d44f-4e9f-fa92-8de9ad79489d"
      },
      "outputs": [
        {
          "data": {
            "text/html": [
              "<div>\n",
              "<style scoped>\n",
              "    .dataframe tbody tr th:only-of-type {\n",
              "        vertical-align: middle;\n",
              "    }\n",
              "\n",
              "    .dataframe tbody tr th {\n",
              "        vertical-align: top;\n",
              "    }\n",
              "\n",
              "    .dataframe thead th {\n",
              "        text-align: right;\n",
              "    }\n",
              "</style>\n",
              "<table border=\"1\" class=\"dataframe\">\n",
              "  <thead>\n",
              "    <tr style=\"text-align: right;\">\n",
              "      <th></th>\n",
              "      <th>A</th>\n",
              "      <th>B</th>\n",
              "      <th>C</th>\n",
              "      <th>D</th>\n",
              "    </tr>\n",
              "  </thead>\n",
              "  <tbody>\n",
              "    <tr>\n",
              "      <th>A</th>\n",
              "      <td>0.0</td>\n",
              "      <td>0.0</td>\n",
              "      <td>0.0</td>\n",
              "      <td>0.0</td>\n",
              "    </tr>\n",
              "  </tbody>\n",
              "</table>\n",
              "</div>"
            ],
            "text/plain": [
              "     A    B    C    D\n",
              "A  0.0  0.0  0.0  0.0"
            ]
          },
          "execution_count": 224,
          "metadata": {},
          "output_type": "execute_result"
        }
      ],
      "source": [
        "#isolating all columns and first row using iloc\n",
        "\n",
        "frfc3 = df_ecd3.iloc[0:1,0:4]\n",
        "frfc3"
      ]
    },
    {
      "cell_type": "markdown",
      "metadata": {
        "id": "GVO28uJhL9bG"
      },
      "source": [
        "#### Obviously cosine similarity is not appropriate for this case. for both the states that is without scaling and with scaling it throws inappropriate results. This should only be used for sparse data and possibly only with binary inputs that is 0 and 1"
      ]
    },
    {
      "cell_type": "markdown",
      "metadata": {
        "id": "S02ckZrAslsc"
      },
      "source": [
        "## Canberra Distances"
      ]
    },
    {
      "cell_type": "markdown",
      "metadata": {
        "id": "0XQiC7DQL9bG"
      },
      "source": [
        "1. `from sklearn.metrics import DistanceMetric` - This line imports the `DistanceMetric` class from the `sklearn.metrics` module, which provides various distance metrics for measuring the distance between data points.\n",
        "\n",
        "2. `dist = DistanceMetric.get_metric('canberra')` - This line retrieves the Canberra distance metric by calling the `get_metric()` method of the `DistanceMetric` class. The Canberra distance is a weighted version of the Manhattan distance that is sensitive to small differences in values.\n",
        "\n",
        "3. `dist.pairwise(custs_df[['Age', 'Income']])` - This line calculates the pairwise Canberra distances between all pairs of observations in the specified columns ('Age' and 'Income') of the `custs_df` DataFrame. The result is a distance matrix where each entry represents the distance between a pair of observations based on the selected features."
      ]
    },
    {
      "cell_type": "code",
      "execution_count": null,
      "metadata": {
        "id": "-Jw6vFtCsovr",
        "outputId": "672c1545-f546-4653-8528-8a2083e1a0e2"
      },
      "outputs": [
        {
          "data": {
            "text/plain": [
              "array([[0.        , 0.07200929, 0.5799458 , 1.22857143],\n",
              "       [0.07200929, 0.        , 0.56171735, 1.19062892],\n",
              "       [0.5799458 , 0.56171735, 0.        , 0.95771144],\n",
              "       [1.22857143, 1.19062892, 0.95771144, 0.        ]])"
            ]
          },
          "execution_count": 229,
          "metadata": {},
          "output_type": "execute_result"
        }
      ],
      "source": [
        "from sklearn.metrics import DistanceMetric\n",
        "dist = DistanceMetric.get_metric('canberra')\n",
        "\n",
        "dist.pairwise(custs_df[['Age', 'Income']])"
      ]
    },
    {
      "cell_type": "markdown",
      "metadata": {
        "id": "FDe0SC2AL9bG"
      },
      "source": [
        "The `get_metric` function from the `DistanceMetric` class in `sklearn.metrics` can take the following arguments:\n",
        "\n",
        "1. **metric** (str): This is a required argument that specifies the name of the distance metric to be used. It can be a string representing one of the available distance metrics, such as 'euclidean', 'manhattan', 'canberra', 'chebyshev', etc."
      ]
    },
    {
      "cell_type": "code",
      "execution_count": null,
      "metadata": {
        "id": "yyYTDPrhL9bG"
      },
      "outputs": [],
      "source": [
        "# compare all the distances on the custs_df"
      ]
    },
    {
      "cell_type": "code",
      "execution_count": null,
      "metadata": {
        "id": "xqXNbYwJL9bG",
        "outputId": "dce191c8-5148-490a-eca2-516b0620af48"
      },
      "outputs": [
        {
          "data": {
            "text/html": [
              "<div>\n",
              "<style scoped>\n",
              "    .dataframe tbody tr th:only-of-type {\n",
              "        vertical-align: middle;\n",
              "    }\n",
              "\n",
              "    .dataframe tbody tr th {\n",
              "        vertical-align: top;\n",
              "    }\n",
              "\n",
              "    .dataframe thead th {\n",
              "        text-align: right;\n",
              "    }\n",
              "</style>\n",
              "<table border=\"1\" class=\"dataframe\">\n",
              "  <thead>\n",
              "    <tr style=\"text-align: right;\">\n",
              "      <th></th>\n",
              "      <th>A</th>\n",
              "      <th>B</th>\n",
              "      <th>C</th>\n",
              "      <th>D</th>\n",
              "    </tr>\n",
              "  </thead>\n",
              "  <tbody>\n",
              "    <tr>\n",
              "      <th>A</th>\n",
              "      <td>0.0</td>\n",
              "      <td>1000.0005</td>\n",
              "      <td>502.493781</td>\n",
              "      <td>80000.005625</td>\n",
              "    </tr>\n",
              "  </tbody>\n",
              "</table>\n",
              "</div>"
            ],
            "text/plain": [
              "     A          B           C             D\n",
              "A  0.0  1000.0005  502.493781  80000.005625"
            ]
          },
          "execution_count": 234,
          "metadata": {},
          "output_type": "execute_result"
        }
      ],
      "source": [
        "# start with Euclidean distance\n",
        "\n",
        "dist_e = DistanceMetric.get_metric('euclidean')\n",
        "\n",
        "x1 = dist_e.pairwise(custs_df[['Age', 'Income']])\n",
        "\n",
        "#labelling the array before printing\n",
        "\n",
        "dfe = pd.DataFrame(data = x1, index =[\"A\", \"B\", \"C\", \"D\"],\n",
        "                  columns =[\"A\", \"B\", \"C\", \"D\"])\n",
        "\n",
        "#isolating all columns and first row using iloc\n",
        "\n",
        "ecd = dfe.iloc[0:1,0:4]\n",
        "ecd"
      ]
    },
    {
      "cell_type": "code",
      "execution_count": null,
      "metadata": {
        "id": "_CqlTKtCL9bG",
        "outputId": "f3aabe95-3180-460d-fdfa-6190e3b1d1cd"
      },
      "outputs": [
        {
          "data": {
            "text/html": [
              "<div>\n",
              "<style scoped>\n",
              "    .dataframe tbody tr th:only-of-type {\n",
              "        vertical-align: middle;\n",
              "    }\n",
              "\n",
              "    .dataframe tbody tr th {\n",
              "        vertical-align: top;\n",
              "    }\n",
              "\n",
              "    .dataframe thead th {\n",
              "        text-align: right;\n",
              "    }\n",
              "</style>\n",
              "<table border=\"1\" class=\"dataframe\">\n",
              "  <thead>\n",
              "    <tr style=\"text-align: right;\">\n",
              "      <th></th>\n",
              "      <th>A</th>\n",
              "      <th>B</th>\n",
              "      <th>C</th>\n",
              "      <th>D</th>\n",
              "    </tr>\n",
              "  </thead>\n",
              "  <tbody>\n",
              "    <tr>\n",
              "      <th>A</th>\n",
              "      <td>0.0</td>\n",
              "      <td>1001.0</td>\n",
              "      <td>550.0</td>\n",
              "      <td>80030.0</td>\n",
              "    </tr>\n",
              "  </tbody>\n",
              "</table>\n",
              "</div>"
            ],
            "text/plain": [
              "     A       B      C        D\n",
              "A  0.0  1001.0  550.0  80030.0"
            ]
          },
          "execution_count": 236,
          "metadata": {},
          "output_type": "execute_result"
        }
      ],
      "source": [
        "# now manhattan\n",
        "\n",
        "dist_m = DistanceMetric.get_metric('manhattan')\n",
        "\n",
        "x2 = dist_m.pairwise(custs_df[['Age', 'Income']])\n",
        "\n",
        "#labelling the array before printing\n",
        "\n",
        "dfm = pd.DataFrame(data = x2, index =[\"A\", \"B\", \"C\", \"D\"],\n",
        "                  columns =[\"A\", \"B\", \"C\", \"D\"])\n",
        "\n",
        "#isolating all columns and first row using iloc\n",
        "\n",
        "mht = dfm.iloc[0:1,0:4]\n",
        "mht"
      ]
    },
    {
      "cell_type": "code",
      "execution_count": null,
      "metadata": {
        "id": "kqoRLR2SL9bH",
        "outputId": "e8dd32a6-b23a-4853-c9e3-a452b066ac58"
      },
      "outputs": [
        {
          "data": {
            "text/html": [
              "<div>\n",
              "<style scoped>\n",
              "    .dataframe tbody tr th:only-of-type {\n",
              "        vertical-align: middle;\n",
              "    }\n",
              "\n",
              "    .dataframe tbody tr th {\n",
              "        vertical-align: top;\n",
              "    }\n",
              "\n",
              "    .dataframe thead th {\n",
              "        text-align: right;\n",
              "    }\n",
              "</style>\n",
              "<table border=\"1\" class=\"dataframe\">\n",
              "  <thead>\n",
              "    <tr style=\"text-align: right;\">\n",
              "      <th></th>\n",
              "      <th>A</th>\n",
              "      <th>B</th>\n",
              "      <th>C</th>\n",
              "      <th>D</th>\n",
              "    </tr>\n",
              "  </thead>\n",
              "  <tbody>\n",
              "    <tr>\n",
              "      <th>A</th>\n",
              "      <td>0.0</td>\n",
              "      <td>0.072009</td>\n",
              "      <td>0.579946</td>\n",
              "      <td>1.228571</td>\n",
              "    </tr>\n",
              "  </tbody>\n",
              "</table>\n",
              "</div>"
            ],
            "text/plain": [
              "     A         B         C         D\n",
              "A  0.0  0.072009  0.579946  1.228571"
            ]
          },
          "execution_count": 238,
          "metadata": {},
          "output_type": "execute_result"
        }
      ],
      "source": [
        "# now canberra\n",
        "\n",
        "dist_c = DistanceMetric.get_metric('canberra')\n",
        "\n",
        "x3 = dist_c.pairwise(custs_df[['Age', 'Income']])\n",
        "\n",
        "#labelling the array before printing\n",
        "\n",
        "dfc = pd.DataFrame(data = x3, index =[\"A\", \"B\", \"C\", \"D\"],\n",
        "                  columns =[\"A\", \"B\", \"C\", \"D\"])\n",
        "\n",
        "#isolating all columns and first row using iloc\n",
        "\n",
        "cnb = dfc.iloc[0:1,0:4]\n",
        "cnb"
      ]
    },
    {
      "cell_type": "code",
      "execution_count": null,
      "metadata": {
        "id": "umroQ6fJL9bH",
        "outputId": "580c4b4a-ba25-428d-cda5-57dc4e8ac58f"
      },
      "outputs": [
        {
          "data": {
            "text/html": [
              "<div>\n",
              "<style scoped>\n",
              "    .dataframe tbody tr th:only-of-type {\n",
              "        vertical-align: middle;\n",
              "    }\n",
              "\n",
              "    .dataframe tbody tr th {\n",
              "        vertical-align: top;\n",
              "    }\n",
              "\n",
              "    .dataframe thead th {\n",
              "        text-align: right;\n",
              "    }\n",
              "</style>\n",
              "<table border=\"1\" class=\"dataframe\">\n",
              "  <thead>\n",
              "    <tr style=\"text-align: right;\">\n",
              "      <th></th>\n",
              "      <th>A</th>\n",
              "      <th>B</th>\n",
              "      <th>C</th>\n",
              "      <th>D</th>\n",
              "    </tr>\n",
              "  </thead>\n",
              "  <tbody>\n",
              "    <tr>\n",
              "      <th>A</th>\n",
              "      <td>0.0</td>\n",
              "      <td>1000.0</td>\n",
              "      <td>500.0</td>\n",
              "      <td>80000.0</td>\n",
              "    </tr>\n",
              "  </tbody>\n",
              "</table>\n",
              "</div>"
            ],
            "text/plain": [
              "     A       B      C        D\n",
              "A  0.0  1000.0  500.0  80000.0"
            ]
          },
          "execution_count": 240,
          "metadata": {},
          "output_type": "execute_result"
        }
      ],
      "source": [
        "# now chebyshev\n",
        "\n",
        "dist_ch = DistanceMetric.get_metric('chebyshev')\n",
        "\n",
        "x4 = dist_ch.pairwise(custs_df[['Age', 'Income']])\n",
        "\n",
        "#labelling the array before printing\n",
        "\n",
        "dfch = pd.DataFrame(data = x4, index =[\"A\", \"B\", \"C\", \"D\"],\n",
        "                  columns =[\"A\", \"B\", \"C\", \"D\"])\n",
        "\n",
        "#isolating all columns and first row using iloc\n",
        "\n",
        "chb = dfch.iloc[0:1,0:4]\n",
        "chb"
      ]
    },
    {
      "cell_type": "markdown",
      "metadata": {
        "id": "QuELcsHmL9bH"
      },
      "source": [
        "#### Conclusion - Chebyshev, Manhattan, and Euclidean offer similar distance insights. The outlier is canberra which has completely different outcome"
      ]
    },
    {
      "cell_type": "markdown",
      "metadata": {
        "id": "IzPXItvKse-r"
      },
      "source": [
        "## Jaccard Distance for categorical features"
      ]
    },
    {
      "cell_type": "code",
      "execution_count": null,
      "metadata": {
        "id": "rlKtAdOlse-r"
      },
      "outputs": [],
      "source": [
        "movies_df = pd.read_excel(\"https://raw.githubusercontent.com/manaranjanp/ISB_MLUL/main/distance/Distance_Datasets.xlsx\",\n",
        "                          \"Movies\",\n",
        "                          index_col='Users')"
      ]
    },
    {
      "cell_type": "code",
      "execution_count": null,
      "metadata": {
        "colab": {
          "base_uri": "https://localhost:8080/",
          "height": 238
        },
        "id": "J9joerPlse-r",
        "outputId": "f7adc7c1-158a-4654-b538-b68502423c9e"
      },
      "outputs": [
        {
          "data": {
            "text/html": [
              "<div>\n",
              "<style scoped>\n",
              "    .dataframe tbody tr th:only-of-type {\n",
              "        vertical-align: middle;\n",
              "    }\n",
              "\n",
              "    .dataframe tbody tr th {\n",
              "        vertical-align: top;\n",
              "    }\n",
              "\n",
              "    .dataframe thead th {\n",
              "        text-align: right;\n",
              "    }\n",
              "</style>\n",
              "<table border=\"1\" class=\"dataframe\">\n",
              "  <thead>\n",
              "    <tr style=\"text-align: right;\">\n",
              "      <th></th>\n",
              "      <th>Movie_1</th>\n",
              "      <th>Movie_2</th>\n",
              "      <th>Movie_3</th>\n",
              "      <th>Movie_4</th>\n",
              "      <th>Movie_5</th>\n",
              "      <th>Movie_6</th>\n",
              "      <th>Movie_7</th>\n",
              "      <th>Movie_8</th>\n",
              "      <th>Movie_9</th>\n",
              "      <th>Movie_10</th>\n",
              "    </tr>\n",
              "    <tr>\n",
              "      <th>Users</th>\n",
              "      <th></th>\n",
              "      <th></th>\n",
              "      <th></th>\n",
              "      <th></th>\n",
              "      <th></th>\n",
              "      <th></th>\n",
              "      <th></th>\n",
              "      <th></th>\n",
              "      <th></th>\n",
              "      <th></th>\n",
              "    </tr>\n",
              "  </thead>\n",
              "  <tbody>\n",
              "    <tr>\n",
              "      <th>User_1</th>\n",
              "      <td>0</td>\n",
              "      <td>1</td>\n",
              "      <td>1</td>\n",
              "      <td>0</td>\n",
              "      <td>1</td>\n",
              "      <td>1</td>\n",
              "      <td>1</td>\n",
              "      <td>1</td>\n",
              "      <td>1</td>\n",
              "      <td>1</td>\n",
              "    </tr>\n",
              "    <tr>\n",
              "      <th>User_2</th>\n",
              "      <td>1</td>\n",
              "      <td>0</td>\n",
              "      <td>0</td>\n",
              "      <td>1</td>\n",
              "      <td>0</td>\n",
              "      <td>0</td>\n",
              "      <td>0</td>\n",
              "      <td>0</td>\n",
              "      <td>0</td>\n",
              "      <td>1</td>\n",
              "    </tr>\n",
              "    <tr>\n",
              "      <th>User_3</th>\n",
              "      <td>0</td>\n",
              "      <td>1</td>\n",
              "      <td>1</td>\n",
              "      <td>0</td>\n",
              "      <td>0</td>\n",
              "      <td>1</td>\n",
              "      <td>1</td>\n",
              "      <td>1</td>\n",
              "      <td>1</td>\n",
              "      <td>0</td>\n",
              "    </tr>\n",
              "    <tr>\n",
              "      <th>User_4</th>\n",
              "      <td>1</td>\n",
              "      <td>0</td>\n",
              "      <td>1</td>\n",
              "      <td>0</td>\n",
              "      <td>1</td>\n",
              "      <td>1</td>\n",
              "      <td>0</td>\n",
              "      <td>1</td>\n",
              "      <td>1</td>\n",
              "      <td>0</td>\n",
              "    </tr>\n",
              "    <tr>\n",
              "      <th>User_5</th>\n",
              "      <td>0</td>\n",
              "      <td>1</td>\n",
              "      <td>0</td>\n",
              "      <td>1</td>\n",
              "      <td>1</td>\n",
              "      <td>1</td>\n",
              "      <td>1</td>\n",
              "      <td>1</td>\n",
              "      <td>0</td>\n",
              "      <td>1</td>\n",
              "    </tr>\n",
              "  </tbody>\n",
              "</table>\n",
              "</div>"
            ],
            "text/plain": [
              "        Movie_1  Movie_2  Movie_3  Movie_4  Movie_5  Movie_6  Movie_7  \\\n",
              "Users                                                                   \n",
              "User_1        0        1        1        0        1        1        1   \n",
              "User_2        1        0        0        1        0        0        0   \n",
              "User_3        0        1        1        0        0        1        1   \n",
              "User_4        1        0        1        0        1        1        0   \n",
              "User_5        0        1        0        1        1        1        1   \n",
              "\n",
              "        Movie_8  Movie_9  Movie_10  \n",
              "Users                               \n",
              "User_1        1        1         1  \n",
              "User_2        0        0         1  \n",
              "User_3        1        1         0  \n",
              "User_4        1        1         0  \n",
              "User_5        1        0         1  "
            ]
          },
          "execution_count": 246,
          "metadata": {},
          "output_type": "execute_result"
        }
      ],
      "source": [
        "movies_df"
      ]
    },
    {
      "cell_type": "code",
      "execution_count": null,
      "metadata": {
        "id": "tmF7-uEMse-r"
      },
      "outputs": [],
      "source": [
        "from scipy.spatial.distance import jaccard"
      ]
    },
    {
      "cell_type": "markdown",
      "metadata": {
        "id": "YuqYMm4LL9bH"
      },
      "source": [
        "1. `movies_df.loc['User_1']` - This part accesses the row in the DataFrame `movies_df` that corresponds to 'User_1'. The `.loc` method is used to select rows by their index label.\n",
        "\n",
        "2. `.values` - This converts the selected row (which is a Series) into a NumPy array containing the values (e.g., movie ratings or preferences) for 'User_1'.\n",
        "\n",
        "3. `movies_df.loc['User_2'].values` - Similarly, this accesses the row for 'User_2' and converts it into a NumPy array of values.\n",
        "\n",
        "4. `jaccard(...)` - This function (presumably defined elsewhere in the code) takes the two arrays as input and computes the Jaccard similarity, which is a measure of similarity between two sets. It is calculated as the size of the intersection divided by the size of the union of the two sets.\n",
        "\n",
        "Overall, this line of code is used to compare the movie preferences of two users and quantify their similarity using the Jaccard index."
      ]
    },
    {
      "cell_type": "code",
      "execution_count": null,
      "metadata": {
        "colab": {
          "base_uri": "https://localhost:8080/"
        },
        "id": "VCrHH3Q0se-r",
        "outputId": "7212c079-e72e-4017-b2c0-b3690fc25540"
      },
      "outputs": [
        {
          "data": {
            "text/plain": [
              "0.9"
            ]
          },
          "execution_count": 250,
          "metadata": {},
          "output_type": "execute_result"
        }
      ],
      "source": [
        "jaccard(movies_df.loc['User_1'].values, movies_df.loc['User_2'].values)"
      ]
    },
    {
      "cell_type": "markdown",
      "metadata": {
        "id": "LlUpZmWmL9bI"
      },
      "source": [
        "distances = pairwise_distances(X)` - This line calls the `pairwise_distances` function with the array `X` as input. It computes the pairwise distances between all points in `X` and stores the result in the variable `distances`. The output is a square matrix where the element at position (i, j) represents the distance between the i-th and j-th points.\n",
        "\n",
        "The `pairwise_distances` function calculates distances between pairs of samples using various distance metrics. By default, it uses the Euclidean distance, but it can also compute other types of distances based on the specified metric.\n",
        "\n",
        "**Custom Metrics**: Users can specify a different metric by passing the `metric` parameter to the function, allowing for flexibility in distance calculations based on the specific needs of the analysis.\n",
        "\n",
        "Overall, `pairwise_distances` provides a convenient way to compute distances between multiple samples efficiently.\n",
        "\n",
        "Custom metrics can take up the following parameters\n",
        "\n",
        "   - **Euclidean Distance**: The straight-line distance between two points in Euclidean space.\n",
        "   - **Manhattan Distance**: The sum of the absolute differences of their Cartesian coordinates.\n",
        "   - **Cosine Distance**: Measures the cosine of the angle between two vectors.\n",
        "   - **Minkowski Distance**: A generalization of both Euclidean and Manhattan distances.\n",
        "   - **Jaccard Distance**: 1 - jaccard index"
      ]
    },
    {
      "cell_type": "code",
      "execution_count": null,
      "metadata": {
        "id": "0xez9pSbL9bI",
        "outputId": "5958d473-6c7f-4624-de81-d8671ce179f9"
      },
      "outputs": [
        {
          "name": "stdout",
          "output_type": "stream",
          "text": [
            "[[0.         2.82842712 5.65685425]\n",
            " [2.82842712 0.         2.82842712]\n",
            " [5.65685425 2.82842712 0.        ]]\n",
            "\n",
            " \n",
            "\n",
            "Logical Space \n",
            " \n",
            "\n",
            "[[0.         2.82842712 5.65685425]\n",
            " [2.82842712 0.         2.82842712]\n",
            " [5.65685425 2.82842712 0.        ]]\n",
            "\n",
            "\n",
            "indeed default and euclidean distances are the same hence \n",
            " by default pairwise distance adopts euclidean distance\n"
          ]
        }
      ],
      "source": [
        "# Example pairwise distance\n",
        "from sklearn.metrics.pairwise import pairwise_distances\n",
        "import numpy as np\n",
        "\n",
        "# Sample data\n",
        "X = np.array([[1, 2], [3, 4], [5, 6]])\n",
        "\n",
        "# Compute pairwise distances\n",
        "distances1 = pairwise_distances(X)\n",
        "distances2 = pairwise_distances(X, metric = 'euclidean')\n",
        "print(distances1)\n",
        "print(\"\\n \\n\")\n",
        "print(\"Logical Space \\n \\n\")\n",
        "print(distances2)\n",
        "print(\"\\n\")\n",
        "print(\"indeed default and euclidean distances are the same hence \\n by default pairwise distance adopts euclidean distance\")"
      ]
    },
    {
      "cell_type": "code",
      "execution_count": null,
      "metadata": {
        "id": "Pv9teHndL9bI",
        "outputId": "3eb40b3b-b453-42e3-a07d-af35411e3768"
      },
      "outputs": [
        {
          "data": {
            "text/html": [
              "<div>\n",
              "<style scoped>\n",
              "    .dataframe tbody tr th:only-of-type {\n",
              "        vertical-align: middle;\n",
              "    }\n",
              "\n",
              "    .dataframe tbody tr th {\n",
              "        vertical-align: top;\n",
              "    }\n",
              "\n",
              "    .dataframe thead th {\n",
              "        text-align: right;\n",
              "    }\n",
              "</style>\n",
              "<table border=\"1\" class=\"dataframe\">\n",
              "  <thead>\n",
              "    <tr style=\"text-align: right;\">\n",
              "      <th></th>\n",
              "      <th>Movie_1</th>\n",
              "      <th>Movie_2</th>\n",
              "      <th>Movie_3</th>\n",
              "      <th>Movie_4</th>\n",
              "      <th>Movie_5</th>\n",
              "      <th>Movie_6</th>\n",
              "      <th>Movie_7</th>\n",
              "      <th>Movie_8</th>\n",
              "      <th>Movie_9</th>\n",
              "      <th>Movie_10</th>\n",
              "    </tr>\n",
              "    <tr>\n",
              "      <th>Users</th>\n",
              "      <th></th>\n",
              "      <th></th>\n",
              "      <th></th>\n",
              "      <th></th>\n",
              "      <th></th>\n",
              "      <th></th>\n",
              "      <th></th>\n",
              "      <th></th>\n",
              "      <th></th>\n",
              "      <th></th>\n",
              "    </tr>\n",
              "  </thead>\n",
              "  <tbody>\n",
              "    <tr>\n",
              "      <th>User_1</th>\n",
              "      <td>0</td>\n",
              "      <td>1</td>\n",
              "      <td>1</td>\n",
              "      <td>0</td>\n",
              "      <td>1</td>\n",
              "      <td>1</td>\n",
              "      <td>1</td>\n",
              "      <td>1</td>\n",
              "      <td>1</td>\n",
              "      <td>1</td>\n",
              "    </tr>\n",
              "    <tr>\n",
              "      <th>User_2</th>\n",
              "      <td>1</td>\n",
              "      <td>0</td>\n",
              "      <td>0</td>\n",
              "      <td>1</td>\n",
              "      <td>0</td>\n",
              "      <td>0</td>\n",
              "      <td>0</td>\n",
              "      <td>0</td>\n",
              "      <td>0</td>\n",
              "      <td>1</td>\n",
              "    </tr>\n",
              "    <tr>\n",
              "      <th>User_3</th>\n",
              "      <td>0</td>\n",
              "      <td>1</td>\n",
              "      <td>1</td>\n",
              "      <td>0</td>\n",
              "      <td>0</td>\n",
              "      <td>1</td>\n",
              "      <td>1</td>\n",
              "      <td>1</td>\n",
              "      <td>1</td>\n",
              "      <td>0</td>\n",
              "    </tr>\n",
              "    <tr>\n",
              "      <th>User_4</th>\n",
              "      <td>1</td>\n",
              "      <td>0</td>\n",
              "      <td>1</td>\n",
              "      <td>0</td>\n",
              "      <td>1</td>\n",
              "      <td>1</td>\n",
              "      <td>0</td>\n",
              "      <td>1</td>\n",
              "      <td>1</td>\n",
              "      <td>0</td>\n",
              "    </tr>\n",
              "    <tr>\n",
              "      <th>User_5</th>\n",
              "      <td>0</td>\n",
              "      <td>1</td>\n",
              "      <td>0</td>\n",
              "      <td>1</td>\n",
              "      <td>1</td>\n",
              "      <td>1</td>\n",
              "      <td>1</td>\n",
              "      <td>1</td>\n",
              "      <td>0</td>\n",
              "      <td>1</td>\n",
              "    </tr>\n",
              "  </tbody>\n",
              "</table>\n",
              "</div>"
            ],
            "text/plain": [
              "        Movie_1  Movie_2  Movie_3  Movie_4  Movie_5  Movie_6  Movie_7  \\\n",
              "Users                                                                   \n",
              "User_1        0        1        1        0        1        1        1   \n",
              "User_2        1        0        0        1        0        0        0   \n",
              "User_3        0        1        1        0        0        1        1   \n",
              "User_4        1        0        1        0        1        1        0   \n",
              "User_5        0        1        0        1        1        1        1   \n",
              "\n",
              "        Movie_8  Movie_9  Movie_10  \n",
              "Users                               \n",
              "User_1        1        1         1  \n",
              "User_2        0        0         1  \n",
              "User_3        1        1         0  \n",
              "User_4        1        1         0  \n",
              "User_5        1        0         1  "
            ]
          },
          "execution_count": 283,
          "metadata": {},
          "output_type": "execute_result"
        }
      ],
      "source": [
        "movies_df"
      ]
    },
    {
      "cell_type": "code",
      "execution_count": null,
      "metadata": {
        "id": "t6Yu1sTvL9bI",
        "outputId": "0da65b82-8ab0-42e9-f41f-28ac001a67c8"
      },
      "outputs": [
        {
          "data": {
            "text/plain": [
              "array([[0, 1, 1, 0, 1, 1, 1, 1, 1, 1],\n",
              "       [1, 0, 0, 1, 0, 0, 0, 0, 0, 1],\n",
              "       [0, 1, 1, 0, 0, 1, 1, 1, 1, 0],\n",
              "       [1, 0, 1, 0, 1, 1, 0, 1, 1, 0],\n",
              "       [0, 1, 0, 1, 1, 1, 1, 1, 0, 1]])"
            ]
          },
          "execution_count": 285,
          "metadata": {},
          "output_type": "execute_result"
        }
      ],
      "source": [
        "movies_df.values"
      ]
    },
    {
      "cell_type": "code",
      "execution_count": null,
      "metadata": {
        "id": "XDiQ1Hjpse-r"
      },
      "outputs": [],
      "source": [
        "from sklearn.metrics.pairwise import pairwise_distances"
      ]
    },
    {
      "cell_type": "code",
      "execution_count": null,
      "metadata": {
        "id": "bqkZ0opbL9bI"
      },
      "outputs": [],
      "source": [
        "# using 1- jaccard similarity to degree of similarity because\n",
        "# jaccard similarity is measure of dissimilarity"
      ]
    },
    {
      "cell_type": "code",
      "execution_count": null,
      "metadata": {
        "id": "Z2w1c5URse-r"
      },
      "outputs": [],
      "source": [
        "jaccard_similarity = 1 - pairwise_distances(movies_df.values, metric=\"jaccard\")"
      ]
    },
    {
      "cell_type": "code",
      "execution_count": null,
      "metadata": {
        "colab": {
          "base_uri": "https://localhost:8080/"
        },
        "id": "RT7Zrlhdse-r",
        "outputId": "639430f2-40df-49a7-bb2a-e6e3e294b00a"
      },
      "outputs": [
        {
          "data": {
            "text/plain": [
              "array([[1.        , 0.1       , 0.75      , 0.55555556, 0.66666667],\n",
              "       [0.1       , 1.        , 0.        , 0.125     , 0.25      ],\n",
              "       [0.75      , 0.        , 1.        , 0.5       , 0.44444444],\n",
              "       [0.55555556, 0.125     , 0.5       , 1.        , 0.3       ],\n",
              "       [0.66666667, 0.25      , 0.44444444, 0.3       , 1.        ]])"
            ]
          },
          "execution_count": 294,
          "metadata": {},
          "output_type": "execute_result"
        }
      ],
      "source": [
        "jaccard_similarity"
      ]
    },
    {
      "cell_type": "markdown",
      "metadata": {
        "id": "k5qgM07gL9bI"
      },
      "source": [
        "2. `jaccard_similarity` - This variable is expected to contain a 2D array or matrix that represents the Jaccard similarity values between items (e.g., movies). Each entry in this matrix indicates the similarity between two items.\n",
        "\n",
        "3. `index = movies_df.index` - This argument sets the index of the new DataFrame to be the same as the index of the `movies_df` DataFrame. This ensures that the rows of the new DataFrame are labeled with the same identifiers as those in the original `movies_df`.\n",
        "\n",
        "4. `columns = movies_df.index` - This argument sets the column labels of the new DataFrame to also be the same as the index of `movies_df`. This means that the columns will be labeled with the same identifiers, allowing for easy interpretation of the similarity values.\n",
        "\n",
        "Overall, this line of code constructs a DataFrame that represents the Jaccard similarity between items, with both rows and columns labeled according to the original items in `movies_df`."
      ]
    },
    {
      "cell_type": "code",
      "execution_count": null,
      "metadata": {
        "colab": {
          "base_uri": "https://localhost:8080/",
          "height": 237
        },
        "id": "WKCCjxN2se-r",
        "outputId": "104e50fd-d31b-49da-cc18-49c09caea6aa"
      },
      "outputs": [
        {
          "data": {
            "text/html": [
              "<div>\n",
              "<style scoped>\n",
              "    .dataframe tbody tr th:only-of-type {\n",
              "        vertical-align: middle;\n",
              "    }\n",
              "\n",
              "    .dataframe tbody tr th {\n",
              "        vertical-align: top;\n",
              "    }\n",
              "\n",
              "    .dataframe thead th {\n",
              "        text-align: right;\n",
              "    }\n",
              "</style>\n",
              "<table border=\"1\" class=\"dataframe\">\n",
              "  <thead>\n",
              "    <tr style=\"text-align: right;\">\n",
              "      <th>Users</th>\n",
              "      <th>User_1</th>\n",
              "      <th>User_2</th>\n",
              "      <th>User_3</th>\n",
              "      <th>User_4</th>\n",
              "      <th>User_5</th>\n",
              "    </tr>\n",
              "    <tr>\n",
              "      <th>Users</th>\n",
              "      <th></th>\n",
              "      <th></th>\n",
              "      <th></th>\n",
              "      <th></th>\n",
              "      <th></th>\n",
              "    </tr>\n",
              "  </thead>\n",
              "  <tbody>\n",
              "    <tr>\n",
              "      <th>User_1</th>\n",
              "      <td>1.000000</td>\n",
              "      <td>0.100</td>\n",
              "      <td>0.750000</td>\n",
              "      <td>0.555556</td>\n",
              "      <td>0.666667</td>\n",
              "    </tr>\n",
              "    <tr>\n",
              "      <th>User_2</th>\n",
              "      <td>0.100000</td>\n",
              "      <td>1.000</td>\n",
              "      <td>0.000000</td>\n",
              "      <td>0.125000</td>\n",
              "      <td>0.250000</td>\n",
              "    </tr>\n",
              "    <tr>\n",
              "      <th>User_3</th>\n",
              "      <td>0.750000</td>\n",
              "      <td>0.000</td>\n",
              "      <td>1.000000</td>\n",
              "      <td>0.500000</td>\n",
              "      <td>0.444444</td>\n",
              "    </tr>\n",
              "    <tr>\n",
              "      <th>User_4</th>\n",
              "      <td>0.555556</td>\n",
              "      <td>0.125</td>\n",
              "      <td>0.500000</td>\n",
              "      <td>1.000000</td>\n",
              "      <td>0.300000</td>\n",
              "    </tr>\n",
              "    <tr>\n",
              "      <th>User_5</th>\n",
              "      <td>0.666667</td>\n",
              "      <td>0.250</td>\n",
              "      <td>0.444444</td>\n",
              "      <td>0.300000</td>\n",
              "      <td>1.000000</td>\n",
              "    </tr>\n",
              "  </tbody>\n",
              "</table>\n",
              "</div>"
            ],
            "text/plain": [
              "Users     User_1  User_2    User_3    User_4    User_5\n",
              "Users                                                 \n",
              "User_1  1.000000   0.100  0.750000  0.555556  0.666667\n",
              "User_2  0.100000   1.000  0.000000  0.125000  0.250000\n",
              "User_3  0.750000   0.000  1.000000  0.500000  0.444444\n",
              "User_4  0.555556   0.125  0.500000  1.000000  0.300000\n",
              "User_5  0.666667   0.250  0.444444  0.300000  1.000000"
            ]
          },
          "execution_count": 302,
          "metadata": {},
          "output_type": "execute_result"
        }
      ],
      "source": [
        "rec_df = pd.DataFrame(jaccard_similarity, index = movies_df.index, columns = movies_df.index )\n",
        "rec_df"
      ]
    },
    {
      "cell_type": "markdown",
      "metadata": {
        "id": "qWxmwdszse-r"
      },
      "source": [
        "## Haversine"
      ]
    },
    {
      "cell_type": "code",
      "execution_count": null,
      "metadata": {
        "id": "_vAcfhcAse-r"
      },
      "outputs": [],
      "source": [
        "cities_df = pd.read_excel(\"https://raw.githubusercontent.com/manaranjanp/ISB_MLUL/main/distance/Distance_Datasets.xlsx\"\n",
        "                          , \"Cities\"\n",
        "                          , index_col='City')"
      ]
    },
    {
      "cell_type": "code",
      "execution_count": null,
      "metadata": {
        "colab": {
          "base_uri": "https://localhost:8080/",
          "height": 394
        },
        "id": "TJARLZvbse-r",
        "outputId": "4d342553-439c-471c-ad50-ea7db89da13d"
      },
      "outputs": [
        {
          "data": {
            "text/html": [
              "<div>\n",
              "<style scoped>\n",
              "    .dataframe tbody tr th:only-of-type {\n",
              "        vertical-align: middle;\n",
              "    }\n",
              "\n",
              "    .dataframe tbody tr th {\n",
              "        vertical-align: top;\n",
              "    }\n",
              "\n",
              "    .dataframe thead th {\n",
              "        text-align: right;\n",
              "    }\n",
              "</style>\n",
              "<table border=\"1\" class=\"dataframe\">\n",
              "  <thead>\n",
              "    <tr style=\"text-align: right;\">\n",
              "      <th></th>\n",
              "      <th>Latitude</th>\n",
              "      <th>Longitude</th>\n",
              "      <th>numpy_lat_radians</th>\n",
              "      <th>numpy_long_radians</th>\n",
              "    </tr>\n",
              "    <tr>\n",
              "      <th>City</th>\n",
              "      <th></th>\n",
              "      <th></th>\n",
              "      <th></th>\n",
              "      <th></th>\n",
              "    </tr>\n",
              "  </thead>\n",
              "  <tbody>\n",
              "    <tr>\n",
              "      <th>Mumbai</th>\n",
              "      <td>19.0760</td>\n",
              "      <td>72.8777</td>\n",
              "      <td>0.332939</td>\n",
              "      <td>1.271956</td>\n",
              "    </tr>\n",
              "    <tr>\n",
              "      <th>Delhi</th>\n",
              "      <td>28.7041</td>\n",
              "      <td>77.1025</td>\n",
              "      <td>0.500981</td>\n",
              "      <td>1.345692</td>\n",
              "    </tr>\n",
              "    <tr>\n",
              "      <th>Bangalore</th>\n",
              "      <td>12.9716</td>\n",
              "      <td>77.5946</td>\n",
              "      <td>0.226397</td>\n",
              "      <td>1.354281</td>\n",
              "    </tr>\n",
              "    <tr>\n",
              "      <th>Kolkata</th>\n",
              "      <td>22.5726</td>\n",
              "      <td>88.3639</td>\n",
              "      <td>0.393966</td>\n",
              "      <td>1.542241</td>\n",
              "    </tr>\n",
              "    <tr>\n",
              "      <th>Chennai</th>\n",
              "      <td>13.0827</td>\n",
              "      <td>80.2707</td>\n",
              "      <td>0.228336</td>\n",
              "      <td>1.400988</td>\n",
              "    </tr>\n",
              "    <tr>\n",
              "      <th>Hyderabad</th>\n",
              "      <td>17.3850</td>\n",
              "      <td>78.4867</td>\n",
              "      <td>0.303425</td>\n",
              "      <td>1.369851</td>\n",
              "    </tr>\n",
              "    <tr>\n",
              "      <th>Pune</th>\n",
              "      <td>18.5204</td>\n",
              "      <td>73.8567</td>\n",
              "      <td>0.323242</td>\n",
              "      <td>1.289043</td>\n",
              "    </tr>\n",
              "    <tr>\n",
              "      <th>Ahmedabad</th>\n",
              "      <td>23.0225</td>\n",
              "      <td>72.5714</td>\n",
              "      <td>0.401818</td>\n",
              "      <td>1.266610</td>\n",
              "    </tr>\n",
              "    <tr>\n",
              "      <th>Jaipur</th>\n",
              "      <td>26.9124</td>\n",
              "      <td>75.7873</td>\n",
              "      <td>0.469710</td>\n",
              "      <td>1.322738</td>\n",
              "    </tr>\n",
              "    <tr>\n",
              "      <th>Lucknow</th>\n",
              "      <td>26.8467</td>\n",
              "      <td>80.9462</td>\n",
              "      <td>0.468563</td>\n",
              "      <td>1.412778</td>\n",
              "    </tr>\n",
              "  </tbody>\n",
              "</table>\n",
              "</div>"
            ],
            "text/plain": [
              "           Latitude  Longitude  numpy_lat_radians  numpy_long_radians\n",
              "City                                                                 \n",
              "Mumbai      19.0760    72.8777           0.332939            1.271956\n",
              "Delhi       28.7041    77.1025           0.500981            1.345692\n",
              "Bangalore   12.9716    77.5946           0.226397            1.354281\n",
              "Kolkata     22.5726    88.3639           0.393966            1.542241\n",
              "Chennai     13.0827    80.2707           0.228336            1.400988\n",
              "Hyderabad   17.3850    78.4867           0.303425            1.369851\n",
              "Pune        18.5204    73.8567           0.323242            1.289043\n",
              "Ahmedabad   23.0225    72.5714           0.401818            1.266610\n",
              "Jaipur      26.9124    75.7873           0.469710            1.322738\n",
              "Lucknow     26.8467    80.9462           0.468563            1.412778"
            ]
          },
          "execution_count": 321,
          "metadata": {},
          "output_type": "execute_result"
        }
      ],
      "source": [
        "cities_df"
      ]
    },
    {
      "cell_type": "code",
      "execution_count": null,
      "metadata": {
        "id": "lcsfIeDose-r"
      },
      "outputs": [],
      "source": [
        "from math import radians"
      ]
    },
    {
      "cell_type": "code",
      "execution_count": null,
      "metadata": {
        "id": "XVt-ZdDHse-r"
      },
      "outputs": [],
      "source": [
        "cities_df['lat_radians'] = cities_df['Latitude'].map(radians)\n",
        "cities_df['long_radians'] = cities_df['Longitude'].map(radians)"
      ]
    },
    {
      "cell_type": "code",
      "execution_count": null,
      "metadata": {
        "id": "N7TFC5IjL9bJ"
      },
      "outputs": [],
      "source": [
        "#converting lat and long to radians using numpy radian function\n",
        "\n",
        "cities_df['numpy_lat_radians'] = np.radians(cities_df['Latitude'])"
      ]
    },
    {
      "cell_type": "code",
      "execution_count": null,
      "metadata": {
        "id": "ulS-5yh5L9bJ"
      },
      "outputs": [],
      "source": [
        "cities_df['numpy_long_radians'] = np.radians(cities_df['Longitude'])"
      ]
    },
    {
      "cell_type": "code",
      "execution_count": null,
      "metadata": {
        "colab": {
          "base_uri": "https://localhost:8080/",
          "height": 394
        },
        "id": "XkBccKDRse-r",
        "outputId": "506cbcfc-5b89-4dfb-d2c3-030cc241303b"
      },
      "outputs": [
        {
          "data": {
            "text/html": [
              "<div>\n",
              "<style scoped>\n",
              "    .dataframe tbody tr th:only-of-type {\n",
              "        vertical-align: middle;\n",
              "    }\n",
              "\n",
              "    .dataframe tbody tr th {\n",
              "        vertical-align: top;\n",
              "    }\n",
              "\n",
              "    .dataframe thead th {\n",
              "        text-align: right;\n",
              "    }\n",
              "</style>\n",
              "<table border=\"1\" class=\"dataframe\">\n",
              "  <thead>\n",
              "    <tr style=\"text-align: right;\">\n",
              "      <th></th>\n",
              "      <th>Latitude</th>\n",
              "      <th>Longitude</th>\n",
              "      <th>numpy_lat_radians</th>\n",
              "      <th>numpy_long_radians</th>\n",
              "      <th>lat_radians</th>\n",
              "      <th>long_radians</th>\n",
              "    </tr>\n",
              "    <tr>\n",
              "      <th>City</th>\n",
              "      <th></th>\n",
              "      <th></th>\n",
              "      <th></th>\n",
              "      <th></th>\n",
              "      <th></th>\n",
              "      <th></th>\n",
              "    </tr>\n",
              "  </thead>\n",
              "  <tbody>\n",
              "    <tr>\n",
              "      <th>Mumbai</th>\n",
              "      <td>19.0760</td>\n",
              "      <td>72.8777</td>\n",
              "      <td>0.332939</td>\n",
              "      <td>1.271956</td>\n",
              "      <td>0.332939</td>\n",
              "      <td>1.271956</td>\n",
              "    </tr>\n",
              "    <tr>\n",
              "      <th>Delhi</th>\n",
              "      <td>28.7041</td>\n",
              "      <td>77.1025</td>\n",
              "      <td>0.500981</td>\n",
              "      <td>1.345692</td>\n",
              "      <td>0.500981</td>\n",
              "      <td>1.345692</td>\n",
              "    </tr>\n",
              "    <tr>\n",
              "      <th>Bangalore</th>\n",
              "      <td>12.9716</td>\n",
              "      <td>77.5946</td>\n",
              "      <td>0.226397</td>\n",
              "      <td>1.354281</td>\n",
              "      <td>0.226397</td>\n",
              "      <td>1.354281</td>\n",
              "    </tr>\n",
              "    <tr>\n",
              "      <th>Kolkata</th>\n",
              "      <td>22.5726</td>\n",
              "      <td>88.3639</td>\n",
              "      <td>0.393966</td>\n",
              "      <td>1.542241</td>\n",
              "      <td>0.393966</td>\n",
              "      <td>1.542241</td>\n",
              "    </tr>\n",
              "    <tr>\n",
              "      <th>Chennai</th>\n",
              "      <td>13.0827</td>\n",
              "      <td>80.2707</td>\n",
              "      <td>0.228336</td>\n",
              "      <td>1.400988</td>\n",
              "      <td>0.228336</td>\n",
              "      <td>1.400988</td>\n",
              "    </tr>\n",
              "    <tr>\n",
              "      <th>Hyderabad</th>\n",
              "      <td>17.3850</td>\n",
              "      <td>78.4867</td>\n",
              "      <td>0.303425</td>\n",
              "      <td>1.369851</td>\n",
              "      <td>0.303425</td>\n",
              "      <td>1.369851</td>\n",
              "    </tr>\n",
              "    <tr>\n",
              "      <th>Pune</th>\n",
              "      <td>18.5204</td>\n",
              "      <td>73.8567</td>\n",
              "      <td>0.323242</td>\n",
              "      <td>1.289043</td>\n",
              "      <td>0.323242</td>\n",
              "      <td>1.289043</td>\n",
              "    </tr>\n",
              "    <tr>\n",
              "      <th>Ahmedabad</th>\n",
              "      <td>23.0225</td>\n",
              "      <td>72.5714</td>\n",
              "      <td>0.401818</td>\n",
              "      <td>1.266610</td>\n",
              "      <td>0.401818</td>\n",
              "      <td>1.266610</td>\n",
              "    </tr>\n",
              "    <tr>\n",
              "      <th>Jaipur</th>\n",
              "      <td>26.9124</td>\n",
              "      <td>75.7873</td>\n",
              "      <td>0.469710</td>\n",
              "      <td>1.322738</td>\n",
              "      <td>0.469710</td>\n",
              "      <td>1.322738</td>\n",
              "    </tr>\n",
              "    <tr>\n",
              "      <th>Lucknow</th>\n",
              "      <td>26.8467</td>\n",
              "      <td>80.9462</td>\n",
              "      <td>0.468563</td>\n",
              "      <td>1.412778</td>\n",
              "      <td>0.468563</td>\n",
              "      <td>1.412778</td>\n",
              "    </tr>\n",
              "  </tbody>\n",
              "</table>\n",
              "</div>"
            ],
            "text/plain": [
              "           Latitude  Longitude  numpy_lat_radians  numpy_long_radians  \\\n",
              "City                                                                    \n",
              "Mumbai      19.0760    72.8777           0.332939            1.271956   \n",
              "Delhi       28.7041    77.1025           0.500981            1.345692   \n",
              "Bangalore   12.9716    77.5946           0.226397            1.354281   \n",
              "Kolkata     22.5726    88.3639           0.393966            1.542241   \n",
              "Chennai     13.0827    80.2707           0.228336            1.400988   \n",
              "Hyderabad   17.3850    78.4867           0.303425            1.369851   \n",
              "Pune        18.5204    73.8567           0.323242            1.289043   \n",
              "Ahmedabad   23.0225    72.5714           0.401818            1.266610   \n",
              "Jaipur      26.9124    75.7873           0.469710            1.322738   \n",
              "Lucknow     26.8467    80.9462           0.468563            1.412778   \n",
              "\n",
              "           lat_radians  long_radians  \n",
              "City                                  \n",
              "Mumbai        0.332939      1.271956  \n",
              "Delhi         0.500981      1.345692  \n",
              "Bangalore     0.226397      1.354281  \n",
              "Kolkata       0.393966      1.542241  \n",
              "Chennai       0.228336      1.400988  \n",
              "Hyderabad     0.303425      1.369851  \n",
              "Pune          0.323242      1.289043  \n",
              "Ahmedabad     0.401818      1.266610  \n",
              "Jaipur        0.469710      1.322738  \n",
              "Lucknow       0.468563      1.412778  "
            ]
          },
          "execution_count": 331,
          "metadata": {},
          "output_type": "execute_result"
        }
      ],
      "source": [
        "cities_df"
      ]
    },
    {
      "cell_type": "markdown",
      "metadata": {
        "id": "QkNxY-GpL9bJ"
      },
      "source": [
        "1. `from sklearn.metrics.pairwise` - This part specifies the module from which we want to import a function. In this case, it is the `pairwise` module located within the `metrics` subpackage of `scikit-learn` (often abbreviated as `sklearn`).\n",
        "\n",
        "2. `import haversine_distances` - This part indicates that we are importing the `haversine_distances` function, which is used to compute the pairwise distances between points on the Earth's surface given their latitude and longitude coordinates.\n",
        "\n",
        "Overall, this line of code allows you to use the `haversine_distances` function in your code, which is useful for calculating distances based on the Haversine formula, commonly used in geographic applications."
      ]
    },
    {
      "cell_type": "code",
      "execution_count": null,
      "metadata": {
        "id": "njGJmgdJse-r"
      },
      "outputs": [],
      "source": [
        "from sklearn.metrics.pairwise import haversine_distances"
      ]
    },
    {
      "cell_type": "code",
      "execution_count": null,
      "metadata": {
        "id": "7yxD_Tb2se-r"
      },
      "outputs": [],
      "source": [
        "aerial_distance = haversine_distances(cities_df[['lat_radians', 'long_radians']])"
      ]
    },
    {
      "cell_type": "code",
      "execution_count": null,
      "metadata": {
        "colab": {
          "base_uri": "https://localhost:8080/"
        },
        "id": "4eTZYSuQse-r",
        "outputId": "8da8b5e1-d050-4b9a-f6f7-e431c9ee32f1"
      },
      "outputs": [
        {
          "data": {
            "text/plain": [
              "array([[0.        , 0.18101417, 0.13268221, 0.25974558, 0.16215641,\n",
              "        0.09754557, 0.01885925, 0.06905977, 0.14452085, 0.18751762],\n",
              "       [0.18101417, 0.        , 0.27470017, 0.20683623, 0.27745274,\n",
              "        0.1987962 , 0.18513301, 0.12202296, 0.03728339, 0.06762515],\n",
              "       [0.13268221, 0.27470017, 0.        , 0.24496886, 0.04554576,\n",
              "        0.07847955, 0.11540213, 0.19416806, 0.24510062, 0.24829166],\n",
              "       [0.25974558, 0.20683623, 0.24496886, 0.        , 0.21320997,\n",
              "        0.18550967, 0.24727296, 0.25409757, 0.21311791, 0.13922217],\n",
              "       [0.16215641, 0.27745274, 0.04554576, 0.21320997, 0.        ,\n",
              "        0.08087296, 0.14351981, 0.21532082, 0.25225227, 0.24048084],\n",
              "       [0.09754557, 0.1987962 , 0.07847955, 0.18550967, 0.08087296,\n",
              "        0.        , 0.07938379, 0.13804712, 0.17189556, 0.16984281],\n",
              "       [0.01885925, 0.18513301, 0.11540213, 0.24727296, 0.14351981,\n",
              "        0.07938379, 0.        , 0.08132571, 0.14972072, 0.18470044],\n",
              "       [0.06905977, 0.12202296, 0.19416806, 0.25409757, 0.21532082,\n",
              "        0.13804712, 0.08132571, 0.        , 0.08483252, 0.14834529],\n",
              "       [0.14452085, 0.03728339, 0.24510062, 0.21311791, 0.25225227,\n",
              "        0.17189556, 0.14972072, 0.08483252, 0.        , 0.08031443],\n",
              "       [0.18751762, 0.06762515, 0.24829166, 0.13922217, 0.24048084,\n",
              "        0.16984281, 0.18470044, 0.14834529, 0.08031443, 0.        ]])"
            ]
          },
          "execution_count": 337,
          "metadata": {},
          "output_type": "execute_result"
        }
      ],
      "source": [
        "aerial_distance"
      ]
    },
    {
      "cell_type": "markdown",
      "metadata": {
        "id": "m_iBCoJeL9bK"
      },
      "source": [
        "The multiplication by `6371000` (the approximate radius of the Earth in meters) is intended to convert the angular distance (in radians) calculated by the Haversine formula into a linear distance in meters.\n",
        "\n",
        "The division by `1000` converts the distance from meters to kilometers."
      ]
    },
    {
      "cell_type": "code",
      "execution_count": null,
      "metadata": {
        "colab": {
          "base_uri": "https://localhost:8080/"
        },
        "id": "4oNlxymjse-s",
        "outputId": "4dd0b1df-a7c1-4f8c-819c-12229793b55f"
      },
      "outputs": [
        {
          "data": {
            "text/plain": [
              "array([[   0.        , 1153.24129125,  845.31838566, 1654.8391168 ,\n",
              "        1033.09851229,  621.46285008,  120.15230197,  439.97982267,\n",
              "         920.74235994, 1194.6747399 ],\n",
              "       [1153.24129125,    0.        , 1750.11476241, 1317.75360304,\n",
              "        1767.65141115, 1266.53060328, 1179.48242792,  777.40828075,\n",
              "         237.53250239,  430.83985395],\n",
              "       [ 845.31838566, 1750.11476241,    0.        , 1560.69662326,\n",
              "         290.17202495,  499.9932409 ,  735.22694258, 1237.04469746,\n",
              "        1561.53604825, 1581.86618933],\n",
              "       [1654.8391168 , 1317.75360304, 1560.69662326,    0.        ,\n",
              "        1358.36071543, 1181.88210021, 1575.37605359, 1618.85559067,\n",
              "        1357.77419014,  886.98443856],\n",
              "       [1033.09851229, 1767.65141115,  290.17202495, 1358.36071543,\n",
              "           0.        ,  515.24163438,  914.3646912 , 1371.80891612,\n",
              "        1607.09919695, 1532.10343439],\n",
              "       [ 621.46285008, 1266.53060328,  499.9932409 , 1181.88210021,\n",
              "         515.24163438,    0.        ,  505.75412148,  879.49820343,\n",
              "        1095.14660682, 1082.06856458],\n",
              "       [ 120.15230197, 1179.48242792,  735.22694258, 1575.37605359,\n",
              "         914.3646912 ,  505.75412148,    0.        ,  518.12608294,\n",
              "         953.87067632, 1176.72651038],\n",
              "       [ 439.97982267,  777.40828075, 1237.04469746, 1618.85559067,\n",
              "        1371.80891612,  879.49820343,  518.12608294,    0.        ,\n",
              "         540.467958  ,  945.10783938],\n",
              "       [ 920.74235994,  237.53250239, 1561.53604825, 1357.77419014,\n",
              "        1607.09919695, 1095.14660682,  953.87067632,  540.467958  ,\n",
              "           0.        ,  511.68321616],\n",
              "       [1194.6747399 ,  430.83985395, 1581.86618933,  886.98443856,\n",
              "        1532.10343439, 1082.06856458, 1176.72651038,  945.10783938,\n",
              "         511.68321616,    0.        ]])"
            ]
          },
          "execution_count": 340,
          "metadata": {},
          "output_type": "execute_result"
        }
      ],
      "source": [
        "aerial_distance_kms = aerial_distance * 6371000/1000\n",
        "aerial_distance_kms"
      ]
    },
    {
      "cell_type": "code",
      "execution_count": null,
      "metadata": {
        "colab": {
          "base_uri": "https://localhost:8080/",
          "height": 394
        },
        "id": "zYPynis-se-s",
        "outputId": "45de5274-5d0e-48f8-ec06-58481430e938"
      },
      "outputs": [
        {
          "data": {
            "application/vnd.google.colaboratory.intrinsic+json": {
              "summary": "{\n  \"name\": \"pd\",\n  \"rows\": 10,\n  \"fields\": [\n    {\n      \"column\": \"City\",\n      \"properties\": {\n        \"dtype\": \"string\",\n        \"num_unique_values\": 10,\n        \"samples\": [\n          \"Jaipur\",\n          \"Delhi\",\n          \"Hyderabad\"\n        ],\n        \"semantic_type\": \"\",\n        \"description\": \"\"\n      }\n    },\n    {\n      \"column\": \"Mumbai\",\n      \"properties\": {\n        \"dtype\": \"number\",\n        \"std\": 510.5466140664834,\n        \"min\": 0.0,\n        \"max\": 1654.8391167991713,\n        \"num_unique_values\": 10,\n        \"samples\": [\n          920.7423599427211,\n          1153.2412912502034,\n          621.4628500760233\n        ],\n        \"semantic_type\": \"\",\n        \"description\": \"\"\n      }\n    },\n    {\n      \"column\": \"Delhi\",\n      \"properties\": {\n        \"dtype\": \"number\",\n        \"std\": 608.557849798973,\n        \"min\": 0.0,\n        \"max\": 1767.6514111470074,\n        \"num_unique_values\": 10,\n        \"samples\": [\n          237.53250239474687,\n          0.0,\n          1266.5306032844744\n        ],\n        \"semantic_type\": \"\",\n        \"description\": \"\"\n      }\n    },\n    {\n      \"column\": \"Bangalore\",\n      \"properties\": {\n        \"dtype\": \"number\",\n        \"std\": 617.759726476425,\n        \"min\": 0.0,\n        \"max\": 1750.11476241321,\n        \"num_unique_values\": 10,\n        \"samples\": [\n          1561.5360482517535,\n          1750.11476241321,\n          499.99324089701366\n        ],\n        \"semantic_type\": \"\",\n        \"description\": \"\"\n      }\n    },\n    {\n      \"column\": \"Kolkata\",\n      \"properties\": {\n        \"dtype\": \"number\",\n        \"std\": 497.68393156515464,\n        \"min\": 0.0,\n        \"max\": 1654.8391167991713,\n        \"num_unique_values\": 10,\n        \"samples\": [\n          1357.774190144526,\n          1317.7536030396716,\n          1181.8821002123361\n        ],\n        \"semantic_type\": \"\",\n        \"description\": \"\"\n      }\n    },\n    {\n      \"column\": \"Chennai\",\n      \"properties\": {\n        \"dtype\": \"number\",\n        \"std\": 599.9749590420593,\n        \"min\": 0.0,\n        \"max\": 1767.6514111470074,\n        \"num_unique_values\": 10,\n        \"samples\": [\n          1607.099196954337,\n          1767.6514111470074,\n          515.2416343776237\n        ],\n        \"semantic_type\": \"\",\n        \"description\": \"\"\n      }\n    },\n    {\n      \"column\": \"Hyderabad\",\n      \"properties\": {\n        \"dtype\": \"number\",\n        \"std\": 401.8853212055824,\n        \"min\": 0.0,\n        \"max\": 1266.5306032844744,\n        \"num_unique_values\": 10,\n        \"samples\": [\n          1095.1466068235522,\n          1266.5306032844744,\n          0.0\n        ],\n        \"semantic_type\": \"\",\n        \"description\": \"\"\n      }\n    },\n    {\n      \"column\": \"Pune\",\n      \"properties\": {\n        \"dtype\": \"number\",\n        \"std\": 492.8394234237725,\n        \"min\": 0.0,\n        \"max\": 1575.3760535945123,\n        \"num_unique_values\": 10,\n        \"samples\": [\n          953.8706763236075,\n          1179.4824279187978,\n          505.7541214780401\n        ],\n        \"semantic_type\": \"\",\n        \"description\": \"\"\n      }\n    },\n    {\n      \"column\": \"Ahmedabad\",\n      \"properties\": {\n        \"dtype\": \"number\",\n        \"std\": 485.5730879872878,\n        \"min\": 0.0,\n        \"max\": 1618.8555906737156,\n        \"num_unique_values\": 10,\n        \"samples\": [\n          540.4679579970883,\n          777.4082807469656,\n          879.4982034294335\n        ],\n        \"semantic_type\": \"\",\n        \"description\": \"\"\n      }\n    },\n    {\n      \"column\": \"Jaipur\",\n      \"properties\": {\n        \"dtype\": \"number\",\n        \"std\": 549.031613643383,\n        \"min\": 0.0,\n        \"max\": 1607.099196954337,\n        \"num_unique_values\": 10,\n        \"samples\": [\n          0.0,\n          237.53250239474687,\n          1095.1466068235522\n        ],\n        \"semantic_type\": \"\",\n        \"description\": \"\"\n      }\n    },\n    {\n      \"column\": \"Lucknow\",\n      \"properties\": {\n        \"dtype\": \"number\",\n        \"std\": 498.0474229501811,\n        \"min\": 0.0,\n        \"max\": 1581.86618932784,\n        \"num_unique_values\": 10,\n        \"samples\": [\n          511.6832161595022,\n          430.8398539469194,\n          1082.068564584568\n        ],\n        \"semantic_type\": \"\",\n        \"description\": \"\"\n      }\n    }\n  ]\n}",
              "type": "dataframe"
            },
            "text/html": [
              "\n",
              "  <div id=\"df-1a74c48d-1364-4dd4-82e8-f5765cf729d3\" class=\"colab-df-container\">\n",
              "    <div>\n",
              "<style scoped>\n",
              "    .dataframe tbody tr th:only-of-type {\n",
              "        vertical-align: middle;\n",
              "    }\n",
              "\n",
              "    .dataframe tbody tr th {\n",
              "        vertical-align: top;\n",
              "    }\n",
              "\n",
              "    .dataframe thead th {\n",
              "        text-align: right;\n",
              "    }\n",
              "</style>\n",
              "<table border=\"1\" class=\"dataframe\">\n",
              "  <thead>\n",
              "    <tr style=\"text-align: right;\">\n",
              "      <th>City</th>\n",
              "      <th>Mumbai</th>\n",
              "      <th>Delhi</th>\n",
              "      <th>Bangalore</th>\n",
              "      <th>Kolkata</th>\n",
              "      <th>Chennai</th>\n",
              "      <th>Hyderabad</th>\n",
              "      <th>Pune</th>\n",
              "      <th>Ahmedabad</th>\n",
              "      <th>Jaipur</th>\n",
              "      <th>Lucknow</th>\n",
              "    </tr>\n",
              "    <tr>\n",
              "      <th>City</th>\n",
              "      <th></th>\n",
              "      <th></th>\n",
              "      <th></th>\n",
              "      <th></th>\n",
              "      <th></th>\n",
              "      <th></th>\n",
              "      <th></th>\n",
              "      <th></th>\n",
              "      <th></th>\n",
              "      <th></th>\n",
              "    </tr>\n",
              "  </thead>\n",
              "  <tbody>\n",
              "    <tr>\n",
              "      <th>Mumbai</th>\n",
              "      <td>0.000000</td>\n",
              "      <td>1153.241291</td>\n",
              "      <td>845.318386</td>\n",
              "      <td>1654.839117</td>\n",
              "      <td>1033.098512</td>\n",
              "      <td>621.462850</td>\n",
              "      <td>120.152302</td>\n",
              "      <td>439.979823</td>\n",
              "      <td>920.742360</td>\n",
              "      <td>1194.674740</td>\n",
              "    </tr>\n",
              "    <tr>\n",
              "      <th>Delhi</th>\n",
              "      <td>1153.241291</td>\n",
              "      <td>0.000000</td>\n",
              "      <td>1750.114762</td>\n",
              "      <td>1317.753603</td>\n",
              "      <td>1767.651411</td>\n",
              "      <td>1266.530603</td>\n",
              "      <td>1179.482428</td>\n",
              "      <td>777.408281</td>\n",
              "      <td>237.532502</td>\n",
              "      <td>430.839854</td>\n",
              "    </tr>\n",
              "    <tr>\n",
              "      <th>Bangalore</th>\n",
              "      <td>845.318386</td>\n",
              "      <td>1750.114762</td>\n",
              "      <td>0.000000</td>\n",
              "      <td>1560.696623</td>\n",
              "      <td>290.172025</td>\n",
              "      <td>499.993241</td>\n",
              "      <td>735.226943</td>\n",
              "      <td>1237.044697</td>\n",
              "      <td>1561.536048</td>\n",
              "      <td>1581.866189</td>\n",
              "    </tr>\n",
              "    <tr>\n",
              "      <th>Kolkata</th>\n",
              "      <td>1654.839117</td>\n",
              "      <td>1317.753603</td>\n",
              "      <td>1560.696623</td>\n",
              "      <td>0.000000</td>\n",
              "      <td>1358.360715</td>\n",
              "      <td>1181.882100</td>\n",
              "      <td>1575.376054</td>\n",
              "      <td>1618.855591</td>\n",
              "      <td>1357.774190</td>\n",
              "      <td>886.984439</td>\n",
              "    </tr>\n",
              "    <tr>\n",
              "      <th>Chennai</th>\n",
              "      <td>1033.098512</td>\n",
              "      <td>1767.651411</td>\n",
              "      <td>290.172025</td>\n",
              "      <td>1358.360715</td>\n",
              "      <td>0.000000</td>\n",
              "      <td>515.241634</td>\n",
              "      <td>914.364691</td>\n",
              "      <td>1371.808916</td>\n",
              "      <td>1607.099197</td>\n",
              "      <td>1532.103434</td>\n",
              "    </tr>\n",
              "    <tr>\n",
              "      <th>Hyderabad</th>\n",
              "      <td>621.462850</td>\n",
              "      <td>1266.530603</td>\n",
              "      <td>499.993241</td>\n",
              "      <td>1181.882100</td>\n",
              "      <td>515.241634</td>\n",
              "      <td>0.000000</td>\n",
              "      <td>505.754121</td>\n",
              "      <td>879.498203</td>\n",
              "      <td>1095.146607</td>\n",
              "      <td>1082.068565</td>\n",
              "    </tr>\n",
              "    <tr>\n",
              "      <th>Pune</th>\n",
              "      <td>120.152302</td>\n",
              "      <td>1179.482428</td>\n",
              "      <td>735.226943</td>\n",
              "      <td>1575.376054</td>\n",
              "      <td>914.364691</td>\n",
              "      <td>505.754121</td>\n",
              "      <td>0.000000</td>\n",
              "      <td>518.126083</td>\n",
              "      <td>953.870676</td>\n",
              "      <td>1176.726510</td>\n",
              "    </tr>\n",
              "    <tr>\n",
              "      <th>Ahmedabad</th>\n",
              "      <td>439.979823</td>\n",
              "      <td>777.408281</td>\n",
              "      <td>1237.044697</td>\n",
              "      <td>1618.855591</td>\n",
              "      <td>1371.808916</td>\n",
              "      <td>879.498203</td>\n",
              "      <td>518.126083</td>\n",
              "      <td>0.000000</td>\n",
              "      <td>540.467958</td>\n",
              "      <td>945.107839</td>\n",
              "    </tr>\n",
              "    <tr>\n",
              "      <th>Jaipur</th>\n",
              "      <td>920.742360</td>\n",
              "      <td>237.532502</td>\n",
              "      <td>1561.536048</td>\n",
              "      <td>1357.774190</td>\n",
              "      <td>1607.099197</td>\n",
              "      <td>1095.146607</td>\n",
              "      <td>953.870676</td>\n",
              "      <td>540.467958</td>\n",
              "      <td>0.000000</td>\n",
              "      <td>511.683216</td>\n",
              "    </tr>\n",
              "    <tr>\n",
              "      <th>Lucknow</th>\n",
              "      <td>1194.674740</td>\n",
              "      <td>430.839854</td>\n",
              "      <td>1581.866189</td>\n",
              "      <td>886.984439</td>\n",
              "      <td>1532.103434</td>\n",
              "      <td>1082.068565</td>\n",
              "      <td>1176.726510</td>\n",
              "      <td>945.107839</td>\n",
              "      <td>511.683216</td>\n",
              "      <td>0.000000</td>\n",
              "    </tr>\n",
              "  </tbody>\n",
              "</table>\n",
              "</div>\n",
              "    <div class=\"colab-df-buttons\">\n",
              "\n",
              "  <div class=\"colab-df-container\">\n",
              "    <button class=\"colab-df-convert\" onclick=\"convertToInteractive('df-1a74c48d-1364-4dd4-82e8-f5765cf729d3')\"\n",
              "            title=\"Convert this dataframe to an interactive table.\"\n",
              "            style=\"display:none;\">\n",
              "\n",
              "  <svg xmlns=\"http://www.w3.org/2000/svg\" height=\"24px\" viewBox=\"0 -960 960 960\">\n",
              "    <path d=\"M120-120v-720h720v720H120Zm60-500h600v-160H180v160Zm220 220h160v-160H400v160Zm0 220h160v-160H400v160ZM180-400h160v-160H180v160Zm440 0h160v-160H620v160ZM180-180h160v-160H180v160Zm440 0h160v-160H620v160Z\"/>\n",
              "  </svg>\n",
              "    </button>\n",
              "\n",
              "  <style>\n",
              "    .colab-df-container {\n",
              "      display:flex;\n",
              "      gap: 12px;\n",
              "    }\n",
              "\n",
              "    .colab-df-convert {\n",
              "      background-color: #E8F0FE;\n",
              "      border: none;\n",
              "      border-radius: 50%;\n",
              "      cursor: pointer;\n",
              "      display: none;\n",
              "      fill: #1967D2;\n",
              "      height: 32px;\n",
              "      padding: 0 0 0 0;\n",
              "      width: 32px;\n",
              "    }\n",
              "\n",
              "    .colab-df-convert:hover {\n",
              "      background-color: #E2EBFA;\n",
              "      box-shadow: 0px 1px 2px rgba(60, 64, 67, 0.3), 0px 1px 3px 1px rgba(60, 64, 67, 0.15);\n",
              "      fill: #174EA6;\n",
              "    }\n",
              "\n",
              "    .colab-df-buttons div {\n",
              "      margin-bottom: 4px;\n",
              "    }\n",
              "\n",
              "    [theme=dark] .colab-df-convert {\n",
              "      background-color: #3B4455;\n",
              "      fill: #D2E3FC;\n",
              "    }\n",
              "\n",
              "    [theme=dark] .colab-df-convert:hover {\n",
              "      background-color: #434B5C;\n",
              "      box-shadow: 0px 1px 3px 1px rgba(0, 0, 0, 0.15);\n",
              "      filter: drop-shadow(0px 1px 2px rgba(0, 0, 0, 0.3));\n",
              "      fill: #FFFFFF;\n",
              "    }\n",
              "  </style>\n",
              "\n",
              "    <script>\n",
              "      const buttonEl =\n",
              "        document.querySelector('#df-1a74c48d-1364-4dd4-82e8-f5765cf729d3 button.colab-df-convert');\n",
              "      buttonEl.style.display =\n",
              "        google.colab.kernel.accessAllowed ? 'block' : 'none';\n",
              "\n",
              "      async function convertToInteractive(key) {\n",
              "        const element = document.querySelector('#df-1a74c48d-1364-4dd4-82e8-f5765cf729d3');\n",
              "        const dataTable =\n",
              "          await google.colab.kernel.invokeFunction('convertToInteractive',\n",
              "                                                    [key], {});\n",
              "        if (!dataTable) return;\n",
              "\n",
              "        const docLinkHtml = 'Like what you see? Visit the ' +\n",
              "          '<a target=\"_blank\" href=https://colab.research.google.com/notebooks/data_table.ipynb>data table notebook</a>'\n",
              "          + ' to learn more about interactive tables.';\n",
              "        element.innerHTML = '';\n",
              "        dataTable['output_type'] = 'display_data';\n",
              "        await google.colab.output.renderOutput(dataTable, element);\n",
              "        const docLink = document.createElement('div');\n",
              "        docLink.innerHTML = docLinkHtml;\n",
              "        element.appendChild(docLink);\n",
              "      }\n",
              "    </script>\n",
              "  </div>\n",
              "\n",
              "\n",
              "<div id=\"df-4e5f618d-34ed-4e0d-a560-b431dd112b9f\">\n",
              "  <button class=\"colab-df-quickchart\" onclick=\"quickchart('df-4e5f618d-34ed-4e0d-a560-b431dd112b9f')\"\n",
              "            title=\"Suggest charts\"\n",
              "            style=\"display:none;\">\n",
              "\n",
              "<svg xmlns=\"http://www.w3.org/2000/svg\" height=\"24px\"viewBox=\"0 0 24 24\"\n",
              "     width=\"24px\">\n",
              "    <g>\n",
              "        <path d=\"M19 3H5c-1.1 0-2 .9-2 2v14c0 1.1.9 2 2 2h14c1.1 0 2-.9 2-2V5c0-1.1-.9-2-2-2zM9 17H7v-7h2v7zm4 0h-2V7h2v10zm4 0h-2v-4h2v4z\"/>\n",
              "    </g>\n",
              "</svg>\n",
              "  </button>\n",
              "\n",
              "<style>\n",
              "  .colab-df-quickchart {\n",
              "      --bg-color: #E8F0FE;\n",
              "      --fill-color: #1967D2;\n",
              "      --hover-bg-color: #E2EBFA;\n",
              "      --hover-fill-color: #174EA6;\n",
              "      --disabled-fill-color: #AAA;\n",
              "      --disabled-bg-color: #DDD;\n",
              "  }\n",
              "\n",
              "  [theme=dark] .colab-df-quickchart {\n",
              "      --bg-color: #3B4455;\n",
              "      --fill-color: #D2E3FC;\n",
              "      --hover-bg-color: #434B5C;\n",
              "      --hover-fill-color: #FFFFFF;\n",
              "      --disabled-bg-color: #3B4455;\n",
              "      --disabled-fill-color: #666;\n",
              "  }\n",
              "\n",
              "  .colab-df-quickchart {\n",
              "    background-color: var(--bg-color);\n",
              "    border: none;\n",
              "    border-radius: 50%;\n",
              "    cursor: pointer;\n",
              "    display: none;\n",
              "    fill: var(--fill-color);\n",
              "    height: 32px;\n",
              "    padding: 0;\n",
              "    width: 32px;\n",
              "  }\n",
              "\n",
              "  .colab-df-quickchart:hover {\n",
              "    background-color: var(--hover-bg-color);\n",
              "    box-shadow: 0 1px 2px rgba(60, 64, 67, 0.3), 0 1px 3px 1px rgba(60, 64, 67, 0.15);\n",
              "    fill: var(--button-hover-fill-color);\n",
              "  }\n",
              "\n",
              "  .colab-df-quickchart-complete:disabled,\n",
              "  .colab-df-quickchart-complete:disabled:hover {\n",
              "    background-color: var(--disabled-bg-color);\n",
              "    fill: var(--disabled-fill-color);\n",
              "    box-shadow: none;\n",
              "  }\n",
              "\n",
              "  .colab-df-spinner {\n",
              "    border: 2px solid var(--fill-color);\n",
              "    border-color: transparent;\n",
              "    border-bottom-color: var(--fill-color);\n",
              "    animation:\n",
              "      spin 1s steps(1) infinite;\n",
              "  }\n",
              "\n",
              "  @keyframes spin {\n",
              "    0% {\n",
              "      border-color: transparent;\n",
              "      border-bottom-color: var(--fill-color);\n",
              "      border-left-color: var(--fill-color);\n",
              "    }\n",
              "    20% {\n",
              "      border-color: transparent;\n",
              "      border-left-color: var(--fill-color);\n",
              "      border-top-color: var(--fill-color);\n",
              "    }\n",
              "    30% {\n",
              "      border-color: transparent;\n",
              "      border-left-color: var(--fill-color);\n",
              "      border-top-color: var(--fill-color);\n",
              "      border-right-color: var(--fill-color);\n",
              "    }\n",
              "    40% {\n",
              "      border-color: transparent;\n",
              "      border-right-color: var(--fill-color);\n",
              "      border-top-color: var(--fill-color);\n",
              "    }\n",
              "    60% {\n",
              "      border-color: transparent;\n",
              "      border-right-color: var(--fill-color);\n",
              "    }\n",
              "    80% {\n",
              "      border-color: transparent;\n",
              "      border-right-color: var(--fill-color);\n",
              "      border-bottom-color: var(--fill-color);\n",
              "    }\n",
              "    90% {\n",
              "      border-color: transparent;\n",
              "      border-bottom-color: var(--fill-color);\n",
              "    }\n",
              "  }\n",
              "</style>\n",
              "\n",
              "  <script>\n",
              "    async function quickchart(key) {\n",
              "      const quickchartButtonEl =\n",
              "        document.querySelector('#' + key + ' button');\n",
              "      quickchartButtonEl.disabled = true;  // To prevent multiple clicks.\n",
              "      quickchartButtonEl.classList.add('colab-df-spinner');\n",
              "      try {\n",
              "        const charts = await google.colab.kernel.invokeFunction(\n",
              "            'suggestCharts', [key], {});\n",
              "      } catch (error) {\n",
              "        console.error('Error during call to suggestCharts:', error);\n",
              "      }\n",
              "      quickchartButtonEl.classList.remove('colab-df-spinner');\n",
              "      quickchartButtonEl.classList.add('colab-df-quickchart-complete');\n",
              "    }\n",
              "    (() => {\n",
              "      let quickchartButtonEl =\n",
              "        document.querySelector('#df-4e5f618d-34ed-4e0d-a560-b431dd112b9f button');\n",
              "      quickchartButtonEl.style.display =\n",
              "        google.colab.kernel.accessAllowed ? 'block' : 'none';\n",
              "    })();\n",
              "  </script>\n",
              "</div>\n",
              "\n",
              "    </div>\n",
              "  </div>\n"
            ],
            "text/plain": [
              "City            Mumbai        Delhi    Bangalore      Kolkata      Chennai  \\\n",
              "City                                                                         \n",
              "Mumbai        0.000000  1153.241291   845.318386  1654.839117  1033.098512   \n",
              "Delhi      1153.241291     0.000000  1750.114762  1317.753603  1767.651411   \n",
              "Bangalore   845.318386  1750.114762     0.000000  1560.696623   290.172025   \n",
              "Kolkata    1654.839117  1317.753603  1560.696623     0.000000  1358.360715   \n",
              "Chennai    1033.098512  1767.651411   290.172025  1358.360715     0.000000   \n",
              "Hyderabad   621.462850  1266.530603   499.993241  1181.882100   515.241634   \n",
              "Pune        120.152302  1179.482428   735.226943  1575.376054   914.364691   \n",
              "Ahmedabad   439.979823   777.408281  1237.044697  1618.855591  1371.808916   \n",
              "Jaipur      920.742360   237.532502  1561.536048  1357.774190  1607.099197   \n",
              "Lucknow    1194.674740   430.839854  1581.866189   886.984439  1532.103434   \n",
              "\n",
              "City         Hyderabad         Pune    Ahmedabad       Jaipur      Lucknow  \n",
              "City                                                                        \n",
              "Mumbai      621.462850   120.152302   439.979823   920.742360  1194.674740  \n",
              "Delhi      1266.530603  1179.482428   777.408281   237.532502   430.839854  \n",
              "Bangalore   499.993241   735.226943  1237.044697  1561.536048  1581.866189  \n",
              "Kolkata    1181.882100  1575.376054  1618.855591  1357.774190   886.984439  \n",
              "Chennai     515.241634   914.364691  1371.808916  1607.099197  1532.103434  \n",
              "Hyderabad     0.000000   505.754121   879.498203  1095.146607  1082.068565  \n",
              "Pune        505.754121     0.000000   518.126083   953.870676  1176.726510  \n",
              "Ahmedabad   879.498203   518.126083     0.000000   540.467958   945.107839  \n",
              "Jaipur     1095.146607   953.870676   540.467958     0.000000   511.683216  \n",
              "Lucknow    1082.068565  1176.726510   945.107839   511.683216     0.000000  "
            ]
          },
          "execution_count": 52,
          "metadata": {},
          "output_type": "execute_result"
        }
      ],
      "source": [
        "pd.DataFrame( aerial_distance_kms, index = cities_df.index, columns = cities_df.index )"
      ]
    }
  ],
  "metadata": {
    "anaconda-cloud": {},
    "colab": {
      "provenance": [],
      "include_colab_link": true
    },
    "kernelspec": {
      "display_name": "anaconda-ai-2024.04-py310",
      "language": "python",
      "name": "conda-env-anaconda-ai-2024.04-py310-py"
    },
    "language_info": {
      "codemirror_mode": {
        "name": "ipython",
        "version": 3
      },
      "file_extension": ".py",
      "mimetype": "text/x-python",
      "name": "python",
      "nbconvert_exporter": "python",
      "pygments_lexer": "ipython3",
      "version": "3.10.13"
    }
  },
  "nbformat": 4,
  "nbformat_minor": 0
}
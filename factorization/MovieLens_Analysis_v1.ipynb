{
  "cells": [
    {
      "cell_type": "markdown",
      "metadata": {
        "id": "view-in-github",
        "colab_type": "text"
      },
      "source": [
        "<a href=\"https://colab.research.google.com/github/remixwithkj/Backupmac/blob/main/factorization/MovieLens_Analysis_v1.ipynb\" target=\"_parent\"><img src=\"https://colab.research.google.com/assets/colab-badge.svg\" alt=\"Open In Colab\"/></a>"
      ]
    },
    {
      "cell_type": "markdown",
      "id": "380373eb",
      "metadata": {
        "id": "380373eb"
      },
      "source": [
        "# Matrix Factorization"
      ]
    },
    {
      "cell_type": "code",
      "execution_count": null,
      "id": "f56428d4",
      "metadata": {
        "id": "f56428d4"
      },
      "outputs": [],
      "source": [
        "import pandas as pd\n",
        "import numpy as np"
      ]
    },
    {
      "cell_type": "markdown",
      "id": "6a948bcb",
      "metadata": {
        "id": "6a948bcb"
      },
      "source": [
        "## Reading Ratings Data"
      ]
    },
    {
      "cell_type": "code",
      "execution_count": null,
      "id": "aa6fde18",
      "metadata": {
        "id": "aa6fde18"
      },
      "outputs": [],
      "source": [
        "ratings_df = pd.read_csv('https://raw.githubusercontent.com/manaranjanp/ISB_MLUL/main/factorization/u.data',\n",
        "                         sep = '\\t')"
      ]
    },
    {
      "cell_type": "code",
      "execution_count": null,
      "id": "94dbe4a9",
      "metadata": {
        "id": "94dbe4a9"
      },
      "outputs": [],
      "source": [
        "ratings_df"
      ]
    },
    {
      "cell_type": "code",
      "execution_count": null,
      "id": "4c5174ae",
      "metadata": {
        "id": "4c5174ae"
      },
      "outputs": [],
      "source": [
        "ratings_df.columns = ['userid', 'movieid', 'rating', 'timestamp']"
      ]
    },
    {
      "cell_type": "code",
      "execution_count": null,
      "id": "23e279da",
      "metadata": {
        "id": "23e279da"
      },
      "outputs": [],
      "source": [
        "ratings_df"
      ]
    },
    {
      "cell_type": "code",
      "execution_count": null,
      "id": "3d3e479e",
      "metadata": {
        "id": "3d3e479e"
      },
      "outputs": [],
      "source": [
        "len(ratings_df.userid.unique())"
      ]
    },
    {
      "cell_type": "code",
      "execution_count": null,
      "id": "09416215",
      "metadata": {
        "id": "09416215"
      },
      "outputs": [],
      "source": [
        "len(ratings_df.movieid.unique())"
      ]
    },
    {
      "cell_type": "markdown",
      "id": "0c553264",
      "metadata": {
        "id": "0c553264"
      },
      "source": [
        "## Reading the movies metadata"
      ]
    },
    {
      "cell_type": "code",
      "execution_count": null,
      "id": "77e01624",
      "metadata": {
        "id": "77e01624"
      },
      "outputs": [],
      "source": [
        "movies_df = pd.read_csv('https://raw.githubusercontent.com/manaranjanp/ISB_MLUL/main/factorization/u.item',\n",
        "                        encoding = 'iso-8859-1',\n",
        "                        sep = '|',\n",
        "                        header = None,\n",
        "                        usecols=[0, 1])"
      ]
    },
    {
      "cell_type": "code",
      "execution_count": null,
      "id": "8f67bc7b",
      "metadata": {
        "id": "8f67bc7b"
      },
      "outputs": [],
      "source": [
        "movies_df"
      ]
    },
    {
      "cell_type": "code",
      "execution_count": null,
      "id": "3cb22334",
      "metadata": {
        "id": "3cb22334"
      },
      "outputs": [],
      "source": [
        "movies_df.columns = ['movieid', 'moviename']"
      ]
    },
    {
      "cell_type": "markdown",
      "id": "2575fbe1",
      "metadata": {
        "id": "2575fbe1"
      },
      "source": [
        "## Creating user-movies ratings matrix"
      ]
    },
    {
      "cell_type": "code",
      "execution_count": null,
      "id": "13a08c22",
      "metadata": {
        "id": "13a08c22"
      },
      "outputs": [],
      "source": [
        "user_movies_df = ratings_df.pivot( index='userid',\n",
        "                                 columns='movieid',\n",
        "                                 values = \"rating\" ).reset_index(drop=True)\n",
        "user_movies_df.index = ratings_df.userid.unique()"
      ]
    },
    {
      "cell_type": "code",
      "execution_count": null,
      "id": "aa111303",
      "metadata": {
        "id": "aa111303"
      },
      "outputs": [],
      "source": [
        "user_movies_df"
      ]
    },
    {
      "cell_type": "markdown",
      "id": "9100a2e2",
      "metadata": {
        "id": "9100a2e2"
      },
      "source": [
        "### Matrix Factorization Methods"
      ]
    },
    {
      "cell_type": "code",
      "execution_count": null,
      "id": "175482e7",
      "metadata": {
        "id": "175482e7"
      },
      "outputs": [],
      "source": [
        "import numpy as np\n",
        "\n",
        "def als_matrix_factorization(R, num_features, lambda_reg, iterations):\n",
        "    \"\"\"\n",
        "    Perform matrix factorization using Alternating Least Squares (ALS) on the\n",
        "    incomplete matrix R with NaN values and return the error.\n",
        "\n",
        "    R: the input matrix with NaNs\n",
        "    num_features: the number of latent features\n",
        "    lambda_reg: the regularization parameter\n",
        "    iterations: the number of iterations to perform\n",
        "    \"\"\"\n",
        "\n",
        "    num_users, num_items = R.shape\n",
        "    W = np.random.rand(num_users, num_features)\n",
        "    H = np.random.rand(num_items, num_features).T\n",
        "\n",
        "    mask = ~np.isnan(R)\n",
        "\n",
        "    errors = []\n",
        "\n",
        "    for _ in range(iterations):\n",
        "        # Update W\n",
        "        for i in range(num_users):\n",
        "            H_i = H[:, mask[i, :]]\n",
        "            R_i = R[i, mask[i, :]]\n",
        "            W[i, :] = np.linalg.solve(H_i @ H_i.T + lambda_reg * np.eye(num_features), H_i @ R_i)\n",
        "\n",
        "        # Update H\n",
        "        for j in range(num_items):\n",
        "            W_j = W[mask[:, j], :]\n",
        "            R_j = R[mask[:, j], j]\n",
        "            H[:, j] = np.linalg.solve(W_j.T @ W_j + lambda_reg * np.eye(num_features), W_j.T @ R_j)\n",
        "\n",
        "        # Calculate the reconstruction error\n",
        "        R_hat = W @ H\n",
        "        error = np.nansum((R - R_hat)**2 * mask)\n",
        "        errors.append(np.sqrt(error))\n",
        "\n",
        "    return W, H.T, np.round(np.sqrt(errors), 4)"
      ]
    },
    {
      "cell_type": "markdown",
      "id": "779e4d11",
      "metadata": {
        "id": "779e4d11"
      },
      "source": [
        "## Factorizing User-Movies Ratings Matrix"
      ]
    },
    {
      "cell_type": "code",
      "execution_count": null,
      "id": "b5cdc46d",
      "metadata": {
        "id": "b5cdc46d"
      },
      "outputs": [],
      "source": [
        "num_features = 20\n",
        "lambda_reg = 0.1\n",
        "iterations = 200\n",
        "\n",
        "W, H, errors = als_matrix_factorization(user_movies_df.to_numpy(), num_features, lambda_reg, iterations)\n",
        "\n",
        "print(\"W (User Feature Matrix):\")\n",
        "print(W)\n",
        "print(\"\\nH (Item Feature Matrix):\")\n",
        "print(H)"
      ]
    },
    {
      "cell_type": "code",
      "execution_count": null,
      "id": "38abbc9e",
      "metadata": {
        "id": "38abbc9e"
      },
      "outputs": [],
      "source": [
        "errors"
      ]
    },
    {
      "cell_type": "code",
      "execution_count": null,
      "id": "bafd5b52",
      "metadata": {
        "id": "bafd5b52"
      },
      "outputs": [],
      "source": [
        "W.shape"
      ]
    },
    {
      "cell_type": "code",
      "execution_count": null,
      "id": "cdadab70",
      "metadata": {
        "id": "cdadab70"
      },
      "outputs": [],
      "source": [
        "H.shape"
      ]
    },
    {
      "cell_type": "markdown",
      "id": "8b59d0de",
      "metadata": {
        "id": "8b59d0de"
      },
      "source": [
        "## Finding Similarity"
      ]
    },
    {
      "cell_type": "code",
      "execution_count": null,
      "id": "bb2c09b1",
      "metadata": {
        "id": "bb2c09b1"
      },
      "outputs": [],
      "source": [
        "from sklearn.metrics import pairwise_distances\n",
        "from scipy.spatial.distance import cosine, correlation\n",
        "\n",
        "movies_sim = 1 - pairwise_distances( H, metric=\"cosine\" )\n",
        "movies_sim_df = pd.DataFrame( movies_sim )"
      ]
    },
    {
      "cell_type": "code",
      "execution_count": null,
      "id": "3f5699cb",
      "metadata": {
        "id": "3f5699cb"
      },
      "outputs": [],
      "source": [
        "def get_similar_movies( movieid, topN = 5 ):\n",
        "    movieidx = movies_df[movies_df.movieid == movieid].index[0]\n",
        "    movies_df['similarity'] = movies_sim_df.iloc[movieidx]\n",
        "    top_n = movies_df.sort_values( [\"similarity\"], ascending = False )[0:topN]\n",
        "    return top_n"
      ]
    },
    {
      "cell_type": "code",
      "execution_count": null,
      "id": "e8aab4d6",
      "metadata": {
        "id": "e8aab4d6"
      },
      "outputs": [],
      "source": [
        "movies_sim_df"
      ]
    },
    {
      "cell_type": "markdown",
      "id": "adb4a8d5",
      "metadata": {
        "id": "adb4a8d5"
      },
      "source": [
        "## Finding Similar Movies"
      ]
    },
    {
      "cell_type": "code",
      "execution_count": null,
      "id": "6dc46ea0",
      "metadata": {
        "id": "6dc46ea0"
      },
      "outputs": [],
      "source": [
        "movies_df[movies_df.movieid == 127]"
      ]
    },
    {
      "cell_type": "code",
      "execution_count": null,
      "id": "20c8cd9a",
      "metadata": {
        "id": "20c8cd9a"
      },
      "outputs": [],
      "source": [
        "get_similar_movies(127)"
      ]
    },
    {
      "cell_type": "code",
      "execution_count": null,
      "id": "65e53162",
      "metadata": {
        "id": "65e53162"
      },
      "outputs": [],
      "source": [
        "get_similar_movies(222)"
      ]
    },
    {
      "cell_type": "code",
      "execution_count": null,
      "id": "6a39fe68",
      "metadata": {
        "id": "6a39fe68"
      },
      "outputs": [],
      "source": [
        "get_similar_movies(88)"
      ]
    },
    {
      "cell_type": "code",
      "execution_count": null,
      "id": "ef077c6f",
      "metadata": {
        "id": "ef077c6f"
      },
      "outputs": [],
      "source": [
        "movies_df[movies_df.moviename.str.contains(\"Gump\")]"
      ]
    },
    {
      "cell_type": "code",
      "execution_count": null,
      "id": "9da11dd5",
      "metadata": {
        "id": "9da11dd5"
      },
      "outputs": [],
      "source": [
        "get_similar_movies(82)"
      ]
    }
  ],
  "metadata": {
    "kernelspec": {
      "display_name": "Python 3 (ipykernel)",
      "language": "python",
      "name": "python3"
    },
    "language_info": {
      "codemirror_mode": {
        "name": "ipython",
        "version": 3
      },
      "file_extension": ".py",
      "mimetype": "text/x-python",
      "name": "python",
      "nbconvert_exporter": "python",
      "pygments_lexer": "ipython3",
      "version": "3.10.9"
    },
    "colab": {
      "provenance": [],
      "include_colab_link": true
    }
  },
  "nbformat": 4,
  "nbformat_minor": 5
}